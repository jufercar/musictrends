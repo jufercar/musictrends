{
 "cells": [
  {
   "cell_type": "markdown",
   "id": "header-cell",
   "metadata": {},
   "source": [
    "# Music Streaming Trends Analysis (2018-2024)\n",
    "\n",
    "**Objective**: Analyze global music streaming trends to identify patterns and develop strategic recommendations for the music industry.\n",
    "\n",
    "## Structure:\n",
    "1. **Data Preparation** - Load, clean, and prepare data for analysis\n",
    "2. **Exploratory Data Analysis** - Discover patterns and trends in streaming behavior\n",
    "3. **Music Industry Strategy** - Develop actionable recommendations based on insights\n",
    "\n",
    "---"
   ]
  },
  {
   "cell_type": "markdown",
   "id": "section1-header",
   "metadata": {},
   "source": [
    "## 1. Data Preparation\n",
    "\n",
    "Load and prepare the music streaming dataset for analysis."
   ]
  },
  {
   "cell_type": "code",
   "execution_count": 2,
   "id": "imports",
   "metadata": {},
   "outputs": [
    {
     "name": "stdout",
     "output_type": "stream",
     "text": [
      "Libraries imported successfully!\n"
     ]
    }
   ],
   "source": [
    "# Import libraries\n",
    "import pandas as pd\n",
    "import numpy as np\n",
    "import matplotlib.pyplot as plt\n",
    "import seaborn as sns\n",
    "import plotly.express as px\n",
    "import plotly.graph_objects as go\n",
    "from plotly.subplots import make_subplots\n",
    "import warnings\n",
    "warnings.filterwarnings('ignore')\n",
    "\n",
    "# Set display options\n",
    "pd.set_option('display.max_columns', None)\n",
    "pd.set_option('display.max_rows', 100)\n",
    "\n",
    "# Configure plotting\n",
    "plt.style.use('default')\n",
    "sns.set_palette('husl')\n",
    "\n",
    "print(\"Libraries imported successfully!\")"
   ]
  },
  {
   "cell_type": "code",
   "execution_count": 3,
   "id": "load-data",
   "metadata": {},
   "outputs": [
    {
     "name": "stdout",
     "output_type": "stream",
     "text": [
      "Dataset loaded: 5000 rows, 12 columns\n"
     ]
    }
   ],
   "source": [
    "# Load dataset\n",
    "df = pd.read_csv('../data/Global_Music_Streaming_Listener_Preferences.csv')\n",
    "\n",
    "print(f\"Dataset loaded: {df.shape[0]} rows, {df.shape[1]} columns\")"
   ]
  },
  {
   "cell_type": "code",
   "execution_count": 4,
   "id": "data-overview",
   "metadata": {},
   "outputs": [
    {
     "name": "stdout",
     "output_type": "stream",
     "text": [
      "=== DATA OVERVIEW ===\n",
      "Shape: (5000, 12)\n",
      "\n",
      "Data types:\n",
      "User_ID                                      object\n",
      "Age                                           int64\n",
      "Country                                      object\n",
      "Streaming Platform                           object\n",
      "Top Genre                                    object\n",
      "Minutes Streamed Per Day                      int64\n",
      "Number of Songs Liked                         int64\n",
      "Most Played Artist                           object\n",
      "Subscription Type                            object\n",
      "Listening Time (Morning/Afternoon/Night)     object\n",
      "Discover Weekly Engagement (%)              float64\n",
      "Repeat Song Rate (%)                        float64\n",
      "dtype: object\n",
      "\n",
      "First few rows:\n"
     ]
    },
    {
     "data": {
      "text/html": [
       "<div>\n",
       "<style scoped>\n",
       "    .dataframe tbody tr th:only-of-type {\n",
       "        vertical-align: middle;\n",
       "    }\n",
       "\n",
       "    .dataframe tbody tr th {\n",
       "        vertical-align: top;\n",
       "    }\n",
       "\n",
       "    .dataframe thead th {\n",
       "        text-align: right;\n",
       "    }\n",
       "</style>\n",
       "<table border=\"1\" class=\"dataframe\">\n",
       "  <thead>\n",
       "    <tr style=\"text-align: right;\">\n",
       "      <th></th>\n",
       "      <th>User_ID</th>\n",
       "      <th>Age</th>\n",
       "      <th>Country</th>\n",
       "      <th>Streaming Platform</th>\n",
       "      <th>Top Genre</th>\n",
       "      <th>Minutes Streamed Per Day</th>\n",
       "      <th>Number of Songs Liked</th>\n",
       "      <th>Most Played Artist</th>\n",
       "      <th>Subscription Type</th>\n",
       "      <th>Listening Time (Morning/Afternoon/Night)</th>\n",
       "      <th>Discover Weekly Engagement (%)</th>\n",
       "      <th>Repeat Song Rate (%)</th>\n",
       "    </tr>\n",
       "  </thead>\n",
       "  <tbody>\n",
       "    <tr>\n",
       "      <th>0</th>\n",
       "      <td>U1000</td>\n",
       "      <td>34</td>\n",
       "      <td>Japan</td>\n",
       "      <td>Tidal</td>\n",
       "      <td>Reggae</td>\n",
       "      <td>295</td>\n",
       "      <td>138</td>\n",
       "      <td>Adele</td>\n",
       "      <td>Free</td>\n",
       "      <td>Afternoon</td>\n",
       "      <td>47.42</td>\n",
       "      <td>16.74</td>\n",
       "    </tr>\n",
       "    <tr>\n",
       "      <th>1</th>\n",
       "      <td>U1001</td>\n",
       "      <td>24</td>\n",
       "      <td>Germany</td>\n",
       "      <td>Deezer</td>\n",
       "      <td>Country</td>\n",
       "      <td>86</td>\n",
       "      <td>388</td>\n",
       "      <td>Ed Sheeran</td>\n",
       "      <td>Premium</td>\n",
       "      <td>Night</td>\n",
       "      <td>12.06</td>\n",
       "      <td>69.25</td>\n",
       "    </tr>\n",
       "    <tr>\n",
       "      <th>2</th>\n",
       "      <td>U1002</td>\n",
       "      <td>49</td>\n",
       "      <td>Germany</td>\n",
       "      <td>Deezer</td>\n",
       "      <td>Pop</td>\n",
       "      <td>363</td>\n",
       "      <td>368</td>\n",
       "      <td>Post Malone</td>\n",
       "      <td>Premium</td>\n",
       "      <td>Afternoon</td>\n",
       "      <td>47.19</td>\n",
       "      <td>67.38</td>\n",
       "    </tr>\n",
       "    <tr>\n",
       "      <th>3</th>\n",
       "      <td>U1003</td>\n",
       "      <td>55</td>\n",
       "      <td>Australia</td>\n",
       "      <td>YouTube</td>\n",
       "      <td>Reggae</td>\n",
       "      <td>348</td>\n",
       "      <td>349</td>\n",
       "      <td>Dua Lipa</td>\n",
       "      <td>Premium</td>\n",
       "      <td>Morning</td>\n",
       "      <td>31.27</td>\n",
       "      <td>76.51</td>\n",
       "    </tr>\n",
       "    <tr>\n",
       "      <th>4</th>\n",
       "      <td>U1004</td>\n",
       "      <td>13</td>\n",
       "      <td>Germany</td>\n",
       "      <td>Amazon Music</td>\n",
       "      <td>Reggae</td>\n",
       "      <td>30</td>\n",
       "      <td>328</td>\n",
       "      <td>Adele</td>\n",
       "      <td>Free</td>\n",
       "      <td>Night</td>\n",
       "      <td>30.68</td>\n",
       "      <td>43.41</td>\n",
       "    </tr>\n",
       "  </tbody>\n",
       "</table>\n",
       "</div>"
      ],
      "text/plain": [
       "  User_ID  Age    Country Streaming Platform Top Genre  \\\n",
       "0   U1000   34      Japan              Tidal    Reggae   \n",
       "1   U1001   24    Germany             Deezer   Country   \n",
       "2   U1002   49    Germany             Deezer       Pop   \n",
       "3   U1003   55  Australia            YouTube    Reggae   \n",
       "4   U1004   13    Germany       Amazon Music    Reggae   \n",
       "\n",
       "   Minutes Streamed Per Day  Number of Songs Liked Most Played Artist  \\\n",
       "0                       295                    138              Adele   \n",
       "1                        86                    388         Ed Sheeran   \n",
       "2                       363                    368        Post Malone   \n",
       "3                       348                    349           Dua Lipa   \n",
       "4                        30                    328              Adele   \n",
       "\n",
       "  Subscription Type Listening Time (Morning/Afternoon/Night)  \\\n",
       "0              Free                                Afternoon   \n",
       "1           Premium                                    Night   \n",
       "2           Premium                                Afternoon   \n",
       "3           Premium                                  Morning   \n",
       "4              Free                                    Night   \n",
       "\n",
       "   Discover Weekly Engagement (%)  Repeat Song Rate (%)  \n",
       "0                           47.42                 16.74  \n",
       "1                           12.06                 69.25  \n",
       "2                           47.19                 67.38  \n",
       "3                           31.27                 76.51  \n",
       "4                           30.68                 43.41  "
      ]
     },
     "execution_count": 4,
     "metadata": {},
     "output_type": "execute_result"
    }
   ],
   "source": [
    "# Basic data overview\n",
    "print(\"=== DATA OVERVIEW ===\")\n",
    "print(f\"Shape: {df.shape}\")\n",
    "print(f\"\\nData types:\")\n",
    "print(df.dtypes)\n",
    "print(f\"\\nFirst few rows:\")\n",
    "df.head()"
   ]
  },
  {
   "cell_type": "code",
   "execution_count": 5,
   "id": "data-quality",
   "metadata": {},
   "outputs": [
    {
     "name": "stdout",
     "output_type": "stream",
     "text": [
      "=== DATA QUALITY ASSESSMENT ===\n",
      "\n",
      "Missing values:\n",
      "Series([], dtype: int64)\n",
      "\n",
      "Duplicate rows: 0\n",
      "\n",
      "Numerical columns summary:\n"
     ]
    },
    {
     "data": {
      "text/html": [
       "<div>\n",
       "<style scoped>\n",
       "    .dataframe tbody tr th:only-of-type {\n",
       "        vertical-align: middle;\n",
       "    }\n",
       "\n",
       "    .dataframe tbody tr th {\n",
       "        vertical-align: top;\n",
       "    }\n",
       "\n",
       "    .dataframe thead th {\n",
       "        text-align: right;\n",
       "    }\n",
       "</style>\n",
       "<table border=\"1\" class=\"dataframe\">\n",
       "  <thead>\n",
       "    <tr style=\"text-align: right;\">\n",
       "      <th></th>\n",
       "      <th>Age</th>\n",
       "      <th>Minutes Streamed Per Day</th>\n",
       "      <th>Number of Songs Liked</th>\n",
       "      <th>Discover Weekly Engagement (%)</th>\n",
       "      <th>Repeat Song Rate (%)</th>\n",
       "    </tr>\n",
       "  </thead>\n",
       "  <tbody>\n",
       "    <tr>\n",
       "      <th>count</th>\n",
       "      <td>5000.000000</td>\n",
       "      <td>5000.000000</td>\n",
       "      <td>5000.00000</td>\n",
       "      <td>5000.000000</td>\n",
       "      <td>5000.000000</td>\n",
       "    </tr>\n",
       "    <tr>\n",
       "      <th>mean</th>\n",
       "      <td>36.664000</td>\n",
       "      <td>309.237200</td>\n",
       "      <td>253.51720</td>\n",
       "      <td>50.296464</td>\n",
       "      <td>42.391060</td>\n",
       "    </tr>\n",
       "    <tr>\n",
       "      <th>std</th>\n",
       "      <td>13.763844</td>\n",
       "      <td>172.029822</td>\n",
       "      <td>146.36928</td>\n",
       "      <td>23.171936</td>\n",
       "      <td>21.444121</td>\n",
       "    </tr>\n",
       "    <tr>\n",
       "      <th>min</th>\n",
       "      <td>13.000000</td>\n",
       "      <td>10.000000</td>\n",
       "      <td>1.00000</td>\n",
       "      <td>10.020000</td>\n",
       "      <td>5.000000</td>\n",
       "    </tr>\n",
       "    <tr>\n",
       "      <th>25%</th>\n",
       "      <td>25.000000</td>\n",
       "      <td>161.000000</td>\n",
       "      <td>126.00000</td>\n",
       "      <td>30.147500</td>\n",
       "      <td>24.195000</td>\n",
       "    </tr>\n",
       "    <tr>\n",
       "      <th>50%</th>\n",
       "      <td>37.000000</td>\n",
       "      <td>316.000000</td>\n",
       "      <td>254.00000</td>\n",
       "      <td>50.420000</td>\n",
       "      <td>41.960000</td>\n",
       "    </tr>\n",
       "    <tr>\n",
       "      <th>75%</th>\n",
       "      <td>49.000000</td>\n",
       "      <td>457.250000</td>\n",
       "      <td>382.00000</td>\n",
       "      <td>70.337500</td>\n",
       "      <td>60.740000</td>\n",
       "    </tr>\n",
       "    <tr>\n",
       "      <th>max</th>\n",
       "      <td>60.000000</td>\n",
       "      <td>600.000000</td>\n",
       "      <td>500.00000</td>\n",
       "      <td>89.990000</td>\n",
       "      <td>79.990000</td>\n",
       "    </tr>\n",
       "  </tbody>\n",
       "</table>\n",
       "</div>"
      ],
      "text/plain": [
       "               Age  Minutes Streamed Per Day  Number of Songs Liked  \\\n",
       "count  5000.000000               5000.000000             5000.00000   \n",
       "mean     36.664000                309.237200              253.51720   \n",
       "std      13.763844                172.029822              146.36928   \n",
       "min      13.000000                 10.000000                1.00000   \n",
       "25%      25.000000                161.000000              126.00000   \n",
       "50%      37.000000                316.000000              254.00000   \n",
       "75%      49.000000                457.250000              382.00000   \n",
       "max      60.000000                600.000000              500.00000   \n",
       "\n",
       "       Discover Weekly Engagement (%)  Repeat Song Rate (%)  \n",
       "count                     5000.000000           5000.000000  \n",
       "mean                        50.296464             42.391060  \n",
       "std                         23.171936             21.444121  \n",
       "min                         10.020000              5.000000  \n",
       "25%                         30.147500             24.195000  \n",
       "50%                         50.420000             41.960000  \n",
       "75%                         70.337500             60.740000  \n",
       "max                         89.990000             79.990000  "
      ]
     },
     "execution_count": 5,
     "metadata": {},
     "output_type": "execute_result"
    }
   ],
   "source": [
    "# Data quality check\n",
    "print(\"=== DATA QUALITY ASSESSMENT ===\")\n",
    "print(f\"\\nMissing values:\")\n",
    "missing_data = df.isnull().sum()\n",
    "print(missing_data[missing_data > 0])\n",
    "\n",
    "print(f\"\\nDuplicate rows: {df.duplicated().sum()}\")\n",
    "\n",
    "# Basic statistics\n",
    "print(f\"\\nNumerical columns summary:\")\n",
    "df.describe()"
   ]
  },
  {
   "cell_type": "code",
   "execution_count": 6,
   "id": "data-cleaning",
   "metadata": {},
   "outputs": [
    {
     "name": "stdout",
     "output_type": "stream",
     "text": [
      "=== DATA CLEANING ===\n",
      "\n",
      "Cleaned dataset: 5000 rows, 12 columns\n",
      "Data preparation completed!\n"
     ]
    }
   ],
   "source": [
    "# Data cleaning and preparation\n",
    "print(\"=== DATA CLEANING ===\")\n",
    "\n",
    "# Handle missing values if any\n",
    "if df.isnull().sum().sum() > 0:\n",
    "    print(\"Handling missing values...\")\n",
    "    # Add your cleaning logic here based on the actual data\n",
    "    \n",
    "# Remove duplicates if any\n",
    "if df.duplicated().sum() > 0:\n",
    "    df = df.drop_duplicates()\n",
    "    print(f\"Removed {df.duplicated().sum()} duplicate rows\")\n",
    "\n",
    "# Data type conversions if needed\n",
    "# Add any necessary data type conversions here\n",
    "\n",
    "print(f\"\\nCleaned dataset: {df.shape[0]} rows, {df.shape[1]} columns\")\n",
    "print(\"Data preparation completed!\")"
   ]
  },
  {
   "cell_type": "markdown",
   "id": "section2-header",
   "metadata": {},
   "source": [
    "## 2. Exploratory Data Analysis (EDA)\n",
    "\n",
    "Analyze streaming patterns, user behavior, and trends to understand the music streaming landscape."
   ]
  },
  {
   "cell_type": "code",
   "execution_count": 7,
   "id": "19a9f07e",
   "metadata": {},
   "outputs": [
    {
     "name": "stdout",
     "output_type": "stream",
     "text": [
      "=== INTERACTIVE AGE-BASED ANALYSIS ===\n"
     ]
    },
    {
     "data": {
      "application/vnd.plotly.v1+json": {
       "config": {
        "plotlyServerURL": "https://plot.ly"
       },
       "data": [
        {
         "customdata": [
          [
           "Gen Z (13-25)",
           94
          ],
          [
           "Gen Z (13-25)",
           102
          ],
          [
           "Gen Z (13-25)",
           99
          ],
          [
           "Gen Z (13-25)",
           109
          ],
          [
           "Gen Z (13-25)",
           108
          ],
          [
           "Gen Z (13-25)",
           85
          ],
          [
           "Gen Z (13-25)",
           104
          ],
          [
           "Gen Z (13-25)",
           85
          ],
          [
           "Gen Z (13-25)",
           107
          ],
          [
           "Gen Z (13-25)",
           108
          ],
          [
           "Gen Z (13-25)",
           114
          ],
          [
           "Gen Z (13-25)",
           95
          ],
          [
           "Gen Z (13-25)",
           101
          ],
          [
           "Millennials (26-41)",
           105
          ],
          [
           "Millennials (26-41)",
           114
          ],
          [
           "Millennials (26-41)",
           106
          ],
          [
           "Millennials (26-41)",
           107
          ],
          [
           "Millennials (26-41)",
           92
          ],
          [
           "Millennials (26-41)",
           97
          ],
          [
           "Millennials (26-41)",
           126
          ],
          [
           "Millennials (26-41)",
           105
          ],
          [
           "Millennials (26-41)",
           106
          ],
          [
           "Millennials (26-41)",
           109
          ],
          [
           "Millennials (26-41)",
           114
          ],
          [
           "Millennials (26-41)",
           87
          ],
          [
           "Millennials (26-41)",
           121
          ],
          [
           "Millennials (26-41)",
           101
          ],
          [
           "Millennials (26-41)",
           113
          ],
          [
           "Millennials (26-41)",
           100
          ],
          [
           "Gen X (42-60)",
           112
          ],
          [
           "Gen X (42-60)",
           104
          ],
          [
           "Gen X (42-60)",
           94
          ],
          [
           "Gen X (42-60)",
           109
          ],
          [
           "Gen X (42-60)",
           98
          ],
          [
           "Gen X (42-60)",
           111
          ],
          [
           "Gen X (42-60)",
           96
          ],
          [
           "Gen X (42-60)",
           110
          ],
          [
           "Gen X (42-60)",
           96
          ],
          [
           "Gen X (42-60)",
           117
          ],
          [
           "Gen X (42-60)",
           112
          ],
          [
           "Gen X (42-60)",
           104
          ],
          [
           "Gen X (42-60)",
           87
          ],
          [
           "Gen X (42-60)",
           101
          ],
          [
           "Gen X (42-60)",
           113
          ],
          [
           "Gen X (42-60)",
           115
          ],
          [
           "Gen X (42-60)",
           93
          ],
          [
           "Gen X (42-60)",
           106
          ],
          [
           "Gen X (42-60)",
           108
          ]
         ],
         "hovertemplate": "<b>Age %{x}</b><br>Minutes Streamed Per Day: %{y:.1f}<br>Generation: %{customdata[0]}<br>Sample Size: %{customdata[1]}<br><extra></extra>",
         "marker": {
          "color": [
           "#FF6B6B",
           "#FF6B6B",
           "#FF6B6B",
           "#FF6B6B",
           "#FF6B6B",
           "#FF6B6B",
           "#FF6B6B",
           "#FF6B6B",
           "#FF6B6B",
           "#FF6B6B",
           "#FF6B6B",
           "#FF6B6B",
           "#FF6B6B",
           "#4ECDC4",
           "#4ECDC4",
           "#4ECDC4",
           "#4ECDC4",
           "#4ECDC4",
           "#4ECDC4",
           "#4ECDC4",
           "#4ECDC4",
           "#4ECDC4",
           "#4ECDC4",
           "#4ECDC4",
           "#4ECDC4",
           "#4ECDC4",
           "#4ECDC4",
           "#4ECDC4",
           "#4ECDC4",
           "#45B7D1",
           "#45B7D1",
           "#45B7D1",
           "#45B7D1",
           "#45B7D1",
           "#45B7D1",
           "#45B7D1",
           "#45B7D1",
           "#45B7D1",
           "#45B7D1",
           "#45B7D1",
           "#45B7D1",
           "#45B7D1",
           "#45B7D1",
           "#45B7D1",
           "#45B7D1",
           "#45B7D1",
           "#45B7D1",
           "#45B7D1"
          ],
          "line": {
           "color": "white",
           "width": 1
          },
          "opacity": 0.8
         },
         "name": "Minutes Streamed Per Day",
         "type": "bar",
         "visible": true,
         "x": {
          "bdata": "DQ4PEBESExQVFhcYGRobHB0eHyAhIiMkJSYnKCkqKywtLi8wMTIzNDU2Nzg5Ojs8",
          "dtype": "i1"
         },
         "y": {
          "bdata": "FsTkCmLSc0BLS0tLS3NyQJ4hMW9nWHNAgU37yRLYckBCewntJTxzQP38/Pz8LHVAip3YiZ1kc0D9/Pz8/HxzQEVpfGQCvXJAJrSX0F5ec0DuI7iP4C51QD63xKnfg3JAcESBSae2c0Ce53me5zlyQF5DeQ3l1XFADqkJxluhc0C7loOb/dJyQKc3velNj3NA2G6WJ5G5dED0PM/zPN9xQJIkSZIkqXJAE4y3ss8ZdEA4iB7fhWNyQFpMZzGdBXNAW4d+s3UIc0A7BG4sgxJ0QOdB7vrZQnJAXccoznWsdEDhehSuRyFzQCVJkiRJEHNAAAAAAADockAAAAAAAMB1QJKKudUZWXVAY31orA/NdEAsY/sdvWJxQAAAAAAA6HJAJchTgjy1ckCrqqqqqv5yQHIcx3EcV3JAt23btm34ckBiJ3ZiJ45zQPSbrUO/KXJAM3wjCkx6c0DMBk2+bFB0QKOtBs8RmHJAFlhggQXWdED7HFITjA9zQExoL6G9OHRA",
          "dtype": "f8"
         }
        },
        {
         "customdata": [
          [
           "Gen Z (13-25)",
           94
          ],
          [
           "Gen Z (13-25)",
           102
          ],
          [
           "Gen Z (13-25)",
           99
          ],
          [
           "Gen Z (13-25)",
           109
          ],
          [
           "Gen Z (13-25)",
           108
          ],
          [
           "Gen Z (13-25)",
           85
          ],
          [
           "Gen Z (13-25)",
           104
          ],
          [
           "Gen Z (13-25)",
           85
          ],
          [
           "Gen Z (13-25)",
           107
          ],
          [
           "Gen Z (13-25)",
           108
          ],
          [
           "Gen Z (13-25)",
           114
          ],
          [
           "Gen Z (13-25)",
           95
          ],
          [
           "Gen Z (13-25)",
           101
          ],
          [
           "Millennials (26-41)",
           105
          ],
          [
           "Millennials (26-41)",
           114
          ],
          [
           "Millennials (26-41)",
           106
          ],
          [
           "Millennials (26-41)",
           107
          ],
          [
           "Millennials (26-41)",
           92
          ],
          [
           "Millennials (26-41)",
           97
          ],
          [
           "Millennials (26-41)",
           126
          ],
          [
           "Millennials (26-41)",
           105
          ],
          [
           "Millennials (26-41)",
           106
          ],
          [
           "Millennials (26-41)",
           109
          ],
          [
           "Millennials (26-41)",
           114
          ],
          [
           "Millennials (26-41)",
           87
          ],
          [
           "Millennials (26-41)",
           121
          ],
          [
           "Millennials (26-41)",
           101
          ],
          [
           "Millennials (26-41)",
           113
          ],
          [
           "Millennials (26-41)",
           100
          ],
          [
           "Gen X (42-60)",
           112
          ],
          [
           "Gen X (42-60)",
           104
          ],
          [
           "Gen X (42-60)",
           94
          ],
          [
           "Gen X (42-60)",
           109
          ],
          [
           "Gen X (42-60)",
           98
          ],
          [
           "Gen X (42-60)",
           111
          ],
          [
           "Gen X (42-60)",
           96
          ],
          [
           "Gen X (42-60)",
           110
          ],
          [
           "Gen X (42-60)",
           96
          ],
          [
           "Gen X (42-60)",
           117
          ],
          [
           "Gen X (42-60)",
           112
          ],
          [
           "Gen X (42-60)",
           104
          ],
          [
           "Gen X (42-60)",
           87
          ],
          [
           "Gen X (42-60)",
           101
          ],
          [
           "Gen X (42-60)",
           113
          ],
          [
           "Gen X (42-60)",
           115
          ],
          [
           "Gen X (42-60)",
           93
          ],
          [
           "Gen X (42-60)",
           106
          ],
          [
           "Gen X (42-60)",
           108
          ]
         ],
         "hovertemplate": "<b>Age %{x}</b><br>Number of Songs Liked: %{y:.1f}<br>Generation: %{customdata[0]}<br>Sample Size: %{customdata[1]}<br><extra></extra>",
         "marker": {
          "color": [
           "#FF6B6B",
           "#FF6B6B",
           "#FF6B6B",
           "#FF6B6B",
           "#FF6B6B",
           "#FF6B6B",
           "#FF6B6B",
           "#FF6B6B",
           "#FF6B6B",
           "#FF6B6B",
           "#FF6B6B",
           "#FF6B6B",
           "#FF6B6B",
           "#4ECDC4",
           "#4ECDC4",
           "#4ECDC4",
           "#4ECDC4",
           "#4ECDC4",
           "#4ECDC4",
           "#4ECDC4",
           "#4ECDC4",
           "#4ECDC4",
           "#4ECDC4",
           "#4ECDC4",
           "#4ECDC4",
           "#4ECDC4",
           "#4ECDC4",
           "#4ECDC4",
           "#4ECDC4",
           "#45B7D1",
           "#45B7D1",
           "#45B7D1",
           "#45B7D1",
           "#45B7D1",
           "#45B7D1",
           "#45B7D1",
           "#45B7D1",
           "#45B7D1",
           "#45B7D1",
           "#45B7D1",
           "#45B7D1",
           "#45B7D1",
           "#45B7D1",
           "#45B7D1",
           "#45B7D1",
           "#45B7D1",
           "#45B7D1",
           "#45B7D1"
          ],
          "line": {
           "color": "white",
           "width": 1
          },
          "opacity": 0.8
         },
         "name": "Number of Songs Liked",
         "type": "bar",
         "visible": false,
         "x": {
          "bdata": "DQ4PEBESExQVFhcYGRobHB0eHyAhIiMkJSYnKCkqKywtLi8wMTIzNDU2Nzg5Ojs8",
          "dtype": "i1"
         },
         "y": {
          "bdata": "Ut/ZqO/8bUCmpaWlpV1xQGApUOtXenBA8MJB9PiucEAvob2E9gJvQM3MzMzMzG5AdmIndmIrcEDf3t7e3v5tQMdHJtA7hXFATGgvob1ccEC4j+A+gstwQDHSjhUIE3JAIXf9bLEScEAzMzMzM9NrQCS4j+A+qnBAn0NqgvEWbkCjND4ygQ5wQFnIQhaycG5A8yQyDdtdcEAty7IsyzJvQKZcyqVcim5AE4y3ss9RbEDPSMXc6lxxQHkN5TWUt3BAh36zdegncEC0Q+DGMmhuQApMOjUPsm9AUpzrGMUpcECamZmZmUluQG7btm3b3XBAJ3ZiJ3aCbUDwbNR3NspsQGo/WQKbNmxAvJyCl1MgbEAJxIWak8BtQFVVVVVVbXBACfKUIE/JbUBVVVVVVUpwQEQ91EM99G9ASZIkSZKyb0DsxE7sxFZxQMJyTyMsN21A9rPFyvCNb0CYDZp82SBwQLTV4DkCxW1Aq6qqqqqacEAnGG9ln2NwQHIcx3Eck3BA",
          "dtype": "f8"
         }
        },
        {
         "customdata": [
          [
           "Gen Z (13-25)",
           94
          ],
          [
           "Gen Z (13-25)",
           102
          ],
          [
           "Gen Z (13-25)",
           99
          ],
          [
           "Gen Z (13-25)",
           109
          ],
          [
           "Gen Z (13-25)",
           108
          ],
          [
           "Gen Z (13-25)",
           85
          ],
          [
           "Gen Z (13-25)",
           104
          ],
          [
           "Gen Z (13-25)",
           85
          ],
          [
           "Gen Z (13-25)",
           107
          ],
          [
           "Gen Z (13-25)",
           108
          ],
          [
           "Gen Z (13-25)",
           114
          ],
          [
           "Gen Z (13-25)",
           95
          ],
          [
           "Gen Z (13-25)",
           101
          ],
          [
           "Millennials (26-41)",
           105
          ],
          [
           "Millennials (26-41)",
           114
          ],
          [
           "Millennials (26-41)",
           106
          ],
          [
           "Millennials (26-41)",
           107
          ],
          [
           "Millennials (26-41)",
           92
          ],
          [
           "Millennials (26-41)",
           97
          ],
          [
           "Millennials (26-41)",
           126
          ],
          [
           "Millennials (26-41)",
           105
          ],
          [
           "Millennials (26-41)",
           106
          ],
          [
           "Millennials (26-41)",
           109
          ],
          [
           "Millennials (26-41)",
           114
          ],
          [
           "Millennials (26-41)",
           87
          ],
          [
           "Millennials (26-41)",
           121
          ],
          [
           "Millennials (26-41)",
           101
          ],
          [
           "Millennials (26-41)",
           113
          ],
          [
           "Millennials (26-41)",
           100
          ],
          [
           "Gen X (42-60)",
           112
          ],
          [
           "Gen X (42-60)",
           104
          ],
          [
           "Gen X (42-60)",
           94
          ],
          [
           "Gen X (42-60)",
           109
          ],
          [
           "Gen X (42-60)",
           98
          ],
          [
           "Gen X (42-60)",
           111
          ],
          [
           "Gen X (42-60)",
           96
          ],
          [
           "Gen X (42-60)",
           110
          ],
          [
           "Gen X (42-60)",
           96
          ],
          [
           "Gen X (42-60)",
           117
          ],
          [
           "Gen X (42-60)",
           112
          ],
          [
           "Gen X (42-60)",
           104
          ],
          [
           "Gen X (42-60)",
           87
          ],
          [
           "Gen X (42-60)",
           101
          ],
          [
           "Gen X (42-60)",
           113
          ],
          [
           "Gen X (42-60)",
           115
          ],
          [
           "Gen X (42-60)",
           93
          ],
          [
           "Gen X (42-60)",
           106
          ],
          [
           "Gen X (42-60)",
           108
          ]
         ],
         "hovertemplate": "<b>Age %{x}</b><br>Discover Weekly Engagement (%): %{y:.1f}<br>Generation: %{customdata[0]}<br>Sample Size: %{customdata[1]}<br><extra></extra>",
         "marker": {
          "color": [
           "#FF6B6B",
           "#FF6B6B",
           "#FF6B6B",
           "#FF6B6B",
           "#FF6B6B",
           "#FF6B6B",
           "#FF6B6B",
           "#FF6B6B",
           "#FF6B6B",
           "#FF6B6B",
           "#FF6B6B",
           "#FF6B6B",
           "#FF6B6B",
           "#4ECDC4",
           "#4ECDC4",
           "#4ECDC4",
           "#4ECDC4",
           "#4ECDC4",
           "#4ECDC4",
           "#4ECDC4",
           "#4ECDC4",
           "#4ECDC4",
           "#4ECDC4",
           "#4ECDC4",
           "#4ECDC4",
           "#4ECDC4",
           "#4ECDC4",
           "#4ECDC4",
           "#4ECDC4",
           "#45B7D1",
           "#45B7D1",
           "#45B7D1",
           "#45B7D1",
           "#45B7D1",
           "#45B7D1",
           "#45B7D1",
           "#45B7D1",
           "#45B7D1",
           "#45B7D1",
           "#45B7D1",
           "#45B7D1",
           "#45B7D1",
           "#45B7D1",
           "#45B7D1",
           "#45B7D1",
           "#45B7D1",
           "#45B7D1",
           "#45B7D1"
          ],
          "line": {
           "color": "white",
           "width": 1
          },
          "opacity": 0.8
         },
         "name": "Discover Weekly Engagement (%)",
         "type": "bar",
         "visible": false,
         "x": {
          "bdata": "DQ4PEBESExQVFhcYGRobHB0eHyAhIiMkJSYnKCkqKywtLi8wMTIzNDU2Nzg5Ojs8",
          "dtype": "i1"
         },
         "y": {
          "bdata": "vJg1hijqSUAAzZlmM5BLQC+o8oIqL0hAVWRECIh4SkBA9FRgFp9IQOXuxWnat0lAJaoI8XaxSUBa1emX3+BIQNombjthuEhAv3k18ayARkDVnKcrvXNIQD6Bp6KN0kZA251n6lgvS0BEgz6/lwxKQIhM9tVJFUlASPLCqwPxSEDzsF3fFqtIQCfWIUxrwUlA2LgxMR7SSUC0Rmu0RntJQIBijkwvO0tA5L40C55WSEDgtbBbcCRJQBCCbGRB1EhAW4d+s3VoSUDU6SVA6jBJQNuHlHP8vkdAXQAcM2xGSUCbCBueXlFIQMcIJvo7wUdATJMB5iwvSUCpejtpa7VJQHp/d2iIpEhASLd7MFjaSUDfRxNpO+RKQNMGOm2glkpAyRVVKR5ySEBwPQrXo0xJQH6913u9t0hAsPiKr/giR0C5HoXrUcxKQEEio2qKOEtAHCW65PBYR0DMlfOAKeZJQCq3dSKn8UhA1DcxfRMzSEAFwR2+yJVKQJjFnSBOvkZA",
          "dtype": "f8"
         }
        },
        {
         "customdata": [
          [
           "Gen Z (13-25)",
           94
          ],
          [
           "Gen Z (13-25)",
           102
          ],
          [
           "Gen Z (13-25)",
           99
          ],
          [
           "Gen Z (13-25)",
           109
          ],
          [
           "Gen Z (13-25)",
           108
          ],
          [
           "Gen Z (13-25)",
           85
          ],
          [
           "Gen Z (13-25)",
           104
          ],
          [
           "Gen Z (13-25)",
           85
          ],
          [
           "Gen Z (13-25)",
           107
          ],
          [
           "Gen Z (13-25)",
           108
          ],
          [
           "Gen Z (13-25)",
           114
          ],
          [
           "Gen Z (13-25)",
           95
          ],
          [
           "Gen Z (13-25)",
           101
          ],
          [
           "Millennials (26-41)",
           105
          ],
          [
           "Millennials (26-41)",
           114
          ],
          [
           "Millennials (26-41)",
           106
          ],
          [
           "Millennials (26-41)",
           107
          ],
          [
           "Millennials (26-41)",
           92
          ],
          [
           "Millennials (26-41)",
           97
          ],
          [
           "Millennials (26-41)",
           126
          ],
          [
           "Millennials (26-41)",
           105
          ],
          [
           "Millennials (26-41)",
           106
          ],
          [
           "Millennials (26-41)",
           109
          ],
          [
           "Millennials (26-41)",
           114
          ],
          [
           "Millennials (26-41)",
           87
          ],
          [
           "Millennials (26-41)",
           121
          ],
          [
           "Millennials (26-41)",
           101
          ],
          [
           "Millennials (26-41)",
           113
          ],
          [
           "Millennials (26-41)",
           100
          ],
          [
           "Gen X (42-60)",
           112
          ],
          [
           "Gen X (42-60)",
           104
          ],
          [
           "Gen X (42-60)",
           94
          ],
          [
           "Gen X (42-60)",
           109
          ],
          [
           "Gen X (42-60)",
           98
          ],
          [
           "Gen X (42-60)",
           111
          ],
          [
           "Gen X (42-60)",
           96
          ],
          [
           "Gen X (42-60)",
           110
          ],
          [
           "Gen X (42-60)",
           96
          ],
          [
           "Gen X (42-60)",
           117
          ],
          [
           "Gen X (42-60)",
           112
          ],
          [
           "Gen X (42-60)",
           104
          ],
          [
           "Gen X (42-60)",
           87
          ],
          [
           "Gen X (42-60)",
           101
          ],
          [
           "Gen X (42-60)",
           113
          ],
          [
           "Gen X (42-60)",
           115
          ],
          [
           "Gen X (42-60)",
           93
          ],
          [
           "Gen X (42-60)",
           106
          ],
          [
           "Gen X (42-60)",
           108
          ]
         ],
         "hovertemplate": "<b>Age %{x}</b><br>Repeat Song Rate (%): %{y:.1f}<br>Generation: %{customdata[0]}<br>Sample Size: %{customdata[1]}<br><extra></extra>",
         "marker": {
          "color": [
           "#FF6B6B",
           "#FF6B6B",
           "#FF6B6B",
           "#FF6B6B",
           "#FF6B6B",
           "#FF6B6B",
           "#FF6B6B",
           "#FF6B6B",
           "#FF6B6B",
           "#FF6B6B",
           "#FF6B6B",
           "#FF6B6B",
           "#FF6B6B",
           "#4ECDC4",
           "#4ECDC4",
           "#4ECDC4",
           "#4ECDC4",
           "#4ECDC4",
           "#4ECDC4",
           "#4ECDC4",
           "#4ECDC4",
           "#4ECDC4",
           "#4ECDC4",
           "#4ECDC4",
           "#4ECDC4",
           "#4ECDC4",
           "#4ECDC4",
           "#4ECDC4",
           "#4ECDC4",
           "#45B7D1",
           "#45B7D1",
           "#45B7D1",
           "#45B7D1",
           "#45B7D1",
           "#45B7D1",
           "#45B7D1",
           "#45B7D1",
           "#45B7D1",
           "#45B7D1",
           "#45B7D1",
           "#45B7D1",
           "#45B7D1",
           "#45B7D1",
           "#45B7D1",
           "#45B7D1",
           "#45B7D1",
           "#45B7D1",
           "#45B7D1"
          ],
          "line": {
           "color": "white",
           "width": 1
          },
          "opacity": 0.8
         },
         "name": "Repeat Song Rate (%)",
         "type": "bar",
         "visible": false,
         "x": {
          "bdata": "DQ4PEBESExQVFhcYGRobHB0eHyAhIiMkJSYnKCkqKywtLi8wMTIzNDU2Nzg5Ojs8",
          "dtype": "i1"
         },
         "y": {
          "bdata": "ty+j5W5FRUDC9CdbjqFDQDmUNe4DDkVAolE/hs8zREBR2WHqchtGQNiZj7gUZERAe/ra4mDxQ0BO+0Ikn7NEQIXOpsuQzURAAdT7eEurRUDtHO99k8tEQNqxAmGkvURA5a6fLVbmQ0B56SYxCOxFQAlffwvA00RAsnS0AvoKR0Bnq7uNLUxEQORBlI2+xEZAdNVqbKXpRkAdSgjrFtVEQB2NGXocvEVADiwMZekoRkC9Q0MkJsJDQHPTd5XA0ERA4HRhPIHKSEBM+GoQ3oBEQJ5n6lgv0UVAOBAl72n3RUB7FK5H4eJEQBnBRH8nN0RA2Ymd2IlVRUBHCDY4ssJEQCazyZk/v0RAKtXkcWcpRkCR9ONPkgJGQClcj8L1IkVAG0rO1BdQR0DTBjptoEFFQF2+5Vu+pURAZQQT/Z1sRUD0Qi/0QqNEQB/+73d7uUVAllayFTK6REC6qxGVu/pDQOASxNIzrkVATMe2dGwrREAMMhGjBBhEQM9/heCQ7kVA",
          "dtype": "f8"
         }
        }
       ],
       "layout": {
        "annotations": [
         {
          "align": "left",
          "font": {
           "color": "black",
           "size": 12
          },
          "showarrow": false,
          "text": "Select Variable:",
          "x": 0.02,
          "xref": "paper",
          "y": 1.18,
          "yref": "paper"
         },
         {
          "showarrow": false,
          "text": "Gen Z",
          "x": 12.5,
          "xanchor": "left",
          "xref": "x",
          "y": 1,
          "yanchor": "top",
          "yref": "y domain"
         },
         {
          "showarrow": false,
          "text": "Millennials",
          "x": 33.5,
          "xanchor": "center",
          "xref": "x",
          "y": 1,
          "yanchor": "top",
          "yref": "y domain"
         },
         {
          "showarrow": false,
          "text": "Gen X",
          "x": 60.5,
          "xanchor": "right",
          "xref": "x",
          "y": 1,
          "yanchor": "top",
          "yref": "y domain"
         }
        ],
        "font": {
         "size": 11
        },
        "height": 600,
        "margin": {
         "b": 100
        },
        "plot_bgcolor": "white",
        "shapes": [
         {
          "fillcolor": "#FF6B6B",
          "layer": "below",
          "line": {
           "width": 0
          },
          "opacity": 0.1,
          "type": "rect",
          "x0": 12.5,
          "x1": 25.5,
          "xref": "x",
          "y0": 0,
          "y1": 1,
          "yref": "y domain"
         },
         {
          "fillcolor": "#4ECDC4",
          "layer": "below",
          "line": {
           "width": 0
          },
          "opacity": 0.1,
          "type": "rect",
          "x0": 25.5,
          "x1": 41.5,
          "xref": "x",
          "y0": 0,
          "y1": 1,
          "yref": "y domain"
         },
         {
          "fillcolor": "#45B7D1",
          "layer": "below",
          "line": {
           "width": 0
          },
          "opacity": 0.1,
          "type": "rect",
          "x0": 41.5,
          "x1": 60.5,
          "xref": "x",
          "y0": 0,
          "y1": 1,
          "yref": "y domain"
         }
        ],
        "showlegend": false,
        "template": {
         "data": {
          "bar": [
           {
            "error_x": {
             "color": "#2a3f5f"
            },
            "error_y": {
             "color": "#2a3f5f"
            },
            "marker": {
             "line": {
              "color": "#E5ECF6",
              "width": 0.5
             },
             "pattern": {
              "fillmode": "overlay",
              "size": 10,
              "solidity": 0.2
             }
            },
            "type": "bar"
           }
          ],
          "barpolar": [
           {
            "marker": {
             "line": {
              "color": "#E5ECF6",
              "width": 0.5
             },
             "pattern": {
              "fillmode": "overlay",
              "size": 10,
              "solidity": 0.2
             }
            },
            "type": "barpolar"
           }
          ],
          "carpet": [
           {
            "aaxis": {
             "endlinecolor": "#2a3f5f",
             "gridcolor": "white",
             "linecolor": "white",
             "minorgridcolor": "white",
             "startlinecolor": "#2a3f5f"
            },
            "baxis": {
             "endlinecolor": "#2a3f5f",
             "gridcolor": "white",
             "linecolor": "white",
             "minorgridcolor": "white",
             "startlinecolor": "#2a3f5f"
            },
            "type": "carpet"
           }
          ],
          "choropleth": [
           {
            "colorbar": {
             "outlinewidth": 0,
             "ticks": ""
            },
            "type": "choropleth"
           }
          ],
          "contour": [
           {
            "colorbar": {
             "outlinewidth": 0,
             "ticks": ""
            },
            "colorscale": [
             [
              0,
              "#0d0887"
             ],
             [
              0.1111111111111111,
              "#46039f"
             ],
             [
              0.2222222222222222,
              "#7201a8"
             ],
             [
              0.3333333333333333,
              "#9c179e"
             ],
             [
              0.4444444444444444,
              "#bd3786"
             ],
             [
              0.5555555555555556,
              "#d8576b"
             ],
             [
              0.6666666666666666,
              "#ed7953"
             ],
             [
              0.7777777777777778,
              "#fb9f3a"
             ],
             [
              0.8888888888888888,
              "#fdca26"
             ],
             [
              1,
              "#f0f921"
             ]
            ],
            "type": "contour"
           }
          ],
          "contourcarpet": [
           {
            "colorbar": {
             "outlinewidth": 0,
             "ticks": ""
            },
            "type": "contourcarpet"
           }
          ],
          "heatmap": [
           {
            "colorbar": {
             "outlinewidth": 0,
             "ticks": ""
            },
            "colorscale": [
             [
              0,
              "#0d0887"
             ],
             [
              0.1111111111111111,
              "#46039f"
             ],
             [
              0.2222222222222222,
              "#7201a8"
             ],
             [
              0.3333333333333333,
              "#9c179e"
             ],
             [
              0.4444444444444444,
              "#bd3786"
             ],
             [
              0.5555555555555556,
              "#d8576b"
             ],
             [
              0.6666666666666666,
              "#ed7953"
             ],
             [
              0.7777777777777778,
              "#fb9f3a"
             ],
             [
              0.8888888888888888,
              "#fdca26"
             ],
             [
              1,
              "#f0f921"
             ]
            ],
            "type": "heatmap"
           }
          ],
          "histogram": [
           {
            "marker": {
             "pattern": {
              "fillmode": "overlay",
              "size": 10,
              "solidity": 0.2
             }
            },
            "type": "histogram"
           }
          ],
          "histogram2d": [
           {
            "colorbar": {
             "outlinewidth": 0,
             "ticks": ""
            },
            "colorscale": [
             [
              0,
              "#0d0887"
             ],
             [
              0.1111111111111111,
              "#46039f"
             ],
             [
              0.2222222222222222,
              "#7201a8"
             ],
             [
              0.3333333333333333,
              "#9c179e"
             ],
             [
              0.4444444444444444,
              "#bd3786"
             ],
             [
              0.5555555555555556,
              "#d8576b"
             ],
             [
              0.6666666666666666,
              "#ed7953"
             ],
             [
              0.7777777777777778,
              "#fb9f3a"
             ],
             [
              0.8888888888888888,
              "#fdca26"
             ],
             [
              1,
              "#f0f921"
             ]
            ],
            "type": "histogram2d"
           }
          ],
          "histogram2dcontour": [
           {
            "colorbar": {
             "outlinewidth": 0,
             "ticks": ""
            },
            "colorscale": [
             [
              0,
              "#0d0887"
             ],
             [
              0.1111111111111111,
              "#46039f"
             ],
             [
              0.2222222222222222,
              "#7201a8"
             ],
             [
              0.3333333333333333,
              "#9c179e"
             ],
             [
              0.4444444444444444,
              "#bd3786"
             ],
             [
              0.5555555555555556,
              "#d8576b"
             ],
             [
              0.6666666666666666,
              "#ed7953"
             ],
             [
              0.7777777777777778,
              "#fb9f3a"
             ],
             [
              0.8888888888888888,
              "#fdca26"
             ],
             [
              1,
              "#f0f921"
             ]
            ],
            "type": "histogram2dcontour"
           }
          ],
          "mesh3d": [
           {
            "colorbar": {
             "outlinewidth": 0,
             "ticks": ""
            },
            "type": "mesh3d"
           }
          ],
          "parcoords": [
           {
            "line": {
             "colorbar": {
              "outlinewidth": 0,
              "ticks": ""
             }
            },
            "type": "parcoords"
           }
          ],
          "pie": [
           {
            "automargin": true,
            "type": "pie"
           }
          ],
          "scatter": [
           {
            "fillpattern": {
             "fillmode": "overlay",
             "size": 10,
             "solidity": 0.2
            },
            "type": "scatter"
           }
          ],
          "scatter3d": [
           {
            "line": {
             "colorbar": {
              "outlinewidth": 0,
              "ticks": ""
             }
            },
            "marker": {
             "colorbar": {
              "outlinewidth": 0,
              "ticks": ""
             }
            },
            "type": "scatter3d"
           }
          ],
          "scattercarpet": [
           {
            "marker": {
             "colorbar": {
              "outlinewidth": 0,
              "ticks": ""
             }
            },
            "type": "scattercarpet"
           }
          ],
          "scattergeo": [
           {
            "marker": {
             "colorbar": {
              "outlinewidth": 0,
              "ticks": ""
             }
            },
            "type": "scattergeo"
           }
          ],
          "scattergl": [
           {
            "marker": {
             "colorbar": {
              "outlinewidth": 0,
              "ticks": ""
             }
            },
            "type": "scattergl"
           }
          ],
          "scattermap": [
           {
            "marker": {
             "colorbar": {
              "outlinewidth": 0,
              "ticks": ""
             }
            },
            "type": "scattermap"
           }
          ],
          "scattermapbox": [
           {
            "marker": {
             "colorbar": {
              "outlinewidth": 0,
              "ticks": ""
             }
            },
            "type": "scattermapbox"
           }
          ],
          "scatterpolar": [
           {
            "marker": {
             "colorbar": {
              "outlinewidth": 0,
              "ticks": ""
             }
            },
            "type": "scatterpolar"
           }
          ],
          "scatterpolargl": [
           {
            "marker": {
             "colorbar": {
              "outlinewidth": 0,
              "ticks": ""
             }
            },
            "type": "scatterpolargl"
           }
          ],
          "scatterternary": [
           {
            "marker": {
             "colorbar": {
              "outlinewidth": 0,
              "ticks": ""
             }
            },
            "type": "scatterternary"
           }
          ],
          "surface": [
           {
            "colorbar": {
             "outlinewidth": 0,
             "ticks": ""
            },
            "colorscale": [
             [
              0,
              "#0d0887"
             ],
             [
              0.1111111111111111,
              "#46039f"
             ],
             [
              0.2222222222222222,
              "#7201a8"
             ],
             [
              0.3333333333333333,
              "#9c179e"
             ],
             [
              0.4444444444444444,
              "#bd3786"
             ],
             [
              0.5555555555555556,
              "#d8576b"
             ],
             [
              0.6666666666666666,
              "#ed7953"
             ],
             [
              0.7777777777777778,
              "#fb9f3a"
             ],
             [
              0.8888888888888888,
              "#fdca26"
             ],
             [
              1,
              "#f0f921"
             ]
            ],
            "type": "surface"
           }
          ],
          "table": [
           {
            "cells": {
             "fill": {
              "color": "#EBF0F8"
             },
             "line": {
              "color": "white"
             }
            },
            "header": {
             "fill": {
              "color": "#C8D4E3"
             },
             "line": {
              "color": "white"
             }
            },
            "type": "table"
           }
          ]
         },
         "layout": {
          "annotationdefaults": {
           "arrowcolor": "#2a3f5f",
           "arrowhead": 0,
           "arrowwidth": 1
          },
          "autotypenumbers": "strict",
          "coloraxis": {
           "colorbar": {
            "outlinewidth": 0,
            "ticks": ""
           }
          },
          "colorscale": {
           "diverging": [
            [
             0,
             "#8e0152"
            ],
            [
             0.1,
             "#c51b7d"
            ],
            [
             0.2,
             "#de77ae"
            ],
            [
             0.3,
             "#f1b6da"
            ],
            [
             0.4,
             "#fde0ef"
            ],
            [
             0.5,
             "#f7f7f7"
            ],
            [
             0.6,
             "#e6f5d0"
            ],
            [
             0.7,
             "#b8e186"
            ],
            [
             0.8,
             "#7fbc41"
            ],
            [
             0.9,
             "#4d9221"
            ],
            [
             1,
             "#276419"
            ]
           ],
           "sequential": [
            [
             0,
             "#0d0887"
            ],
            [
             0.1111111111111111,
             "#46039f"
            ],
            [
             0.2222222222222222,
             "#7201a8"
            ],
            [
             0.3333333333333333,
             "#9c179e"
            ],
            [
             0.4444444444444444,
             "#bd3786"
            ],
            [
             0.5555555555555556,
             "#d8576b"
            ],
            [
             0.6666666666666666,
             "#ed7953"
            ],
            [
             0.7777777777777778,
             "#fb9f3a"
            ],
            [
             0.8888888888888888,
             "#fdca26"
            ],
            [
             1,
             "#f0f921"
            ]
           ],
           "sequentialminus": [
            [
             0,
             "#0d0887"
            ],
            [
             0.1111111111111111,
             "#46039f"
            ],
            [
             0.2222222222222222,
             "#7201a8"
            ],
            [
             0.3333333333333333,
             "#9c179e"
            ],
            [
             0.4444444444444444,
             "#bd3786"
            ],
            [
             0.5555555555555556,
             "#d8576b"
            ],
            [
             0.6666666666666666,
             "#ed7953"
            ],
            [
             0.7777777777777778,
             "#fb9f3a"
            ],
            [
             0.8888888888888888,
             "#fdca26"
            ],
            [
             1,
             "#f0f921"
            ]
           ]
          },
          "colorway": [
           "#636efa",
           "#EF553B",
           "#00cc96",
           "#ab63fa",
           "#FFA15A",
           "#19d3f3",
           "#FF6692",
           "#B6E880",
           "#FF97FF",
           "#FECB52"
          ],
          "font": {
           "color": "#2a3f5f"
          },
          "geo": {
           "bgcolor": "white",
           "lakecolor": "white",
           "landcolor": "#E5ECF6",
           "showlakes": true,
           "showland": true,
           "subunitcolor": "white"
          },
          "hoverlabel": {
           "align": "left"
          },
          "hovermode": "closest",
          "mapbox": {
           "style": "light"
          },
          "paper_bgcolor": "white",
          "plot_bgcolor": "#E5ECF6",
          "polar": {
           "angularaxis": {
            "gridcolor": "white",
            "linecolor": "white",
            "ticks": ""
           },
           "bgcolor": "#E5ECF6",
           "radialaxis": {
            "gridcolor": "white",
            "linecolor": "white",
            "ticks": ""
           }
          },
          "scene": {
           "xaxis": {
            "backgroundcolor": "#E5ECF6",
            "gridcolor": "white",
            "gridwidth": 2,
            "linecolor": "white",
            "showbackground": true,
            "ticks": "",
            "zerolinecolor": "white"
           },
           "yaxis": {
            "backgroundcolor": "#E5ECF6",
            "gridcolor": "white",
            "gridwidth": 2,
            "linecolor": "white",
            "showbackground": true,
            "ticks": "",
            "zerolinecolor": "white"
           },
           "zaxis": {
            "backgroundcolor": "#E5ECF6",
            "gridcolor": "white",
            "gridwidth": 2,
            "linecolor": "white",
            "showbackground": true,
            "ticks": "",
            "zerolinecolor": "white"
           }
          },
          "shapedefaults": {
           "line": {
            "color": "#2a3f5f"
           }
          },
          "ternary": {
           "aaxis": {
            "gridcolor": "white",
            "linecolor": "white",
            "ticks": ""
           },
           "baxis": {
            "gridcolor": "white",
            "linecolor": "white",
            "ticks": ""
           },
           "bgcolor": "#E5ECF6",
           "caxis": {
            "gridcolor": "white",
            "linecolor": "white",
            "ticks": ""
           }
          },
          "title": {
           "x": 0.05
          },
          "xaxis": {
           "automargin": true,
           "gridcolor": "white",
           "linecolor": "white",
           "ticks": "",
           "title": {
            "standoff": 15
           },
           "zerolinecolor": "white",
           "zerolinewidth": 2
          },
          "yaxis": {
           "automargin": true,
           "gridcolor": "white",
           "linecolor": "white",
           "ticks": "",
           "title": {
            "standoff": 15
           },
           "zerolinecolor": "white",
           "zerolinewidth": 2
          }
         }
        },
        "title": {
         "font": {
          "size": 16
         },
         "text": "Music Streaming Analysis by Individual Age<br><sub>Minutes Streamed Per Day Distribution</sub>"
        },
        "updatemenus": [
         {
          "bgcolor": "rgba(255,255,255,0.9)",
          "bordercolor": "gray",
          "borderwidth": 1,
          "buttons": [
           {
            "args": [
             {
              "visible": [
               true,
               false,
               false,
               false
              ]
             }
            ],
            "label": "Minutes Streamed Per Day",
            "method": "restyle"
           },
           {
            "args": [
             {
              "visible": [
               false,
               true,
               false,
               false
              ]
             }
            ],
            "label": "Number of Songs Liked",
            "method": "restyle"
           },
           {
            "args": [
             {
              "visible": [
               false,
               false,
               true,
               false
              ]
             }
            ],
            "label": "Discover Weekly Engagement (%)",
            "method": "restyle"
           },
           {
            "args": [
             {
              "visible": [
               false,
               false,
               false,
               true
              ]
             }
            ],
            "label": "Repeat Song Rate (%)",
            "method": "restyle"
           }
          ],
          "direction": "down",
          "pad": {
           "r": 10,
           "t": 10
          },
          "showactive": true,
          "x": 0.02,
          "xanchor": "left",
          "y": 1.15,
          "yanchor": "top"
         }
        ],
        "xaxis": {
         "dtick": 1,
         "gridcolor": "lightgray",
         "gridwidth": 0.5,
         "range": [
          12.5,
          60.5
         ],
         "tick0": 13,
         "tickangle": 45,
         "tickmode": "linear",
         "title": {
          "text": "Age (Years)"
         }
        },
        "yaxis": {
         "gridcolor": "lightgray",
         "gridwidth": 0.5,
         "title": {
          "text": "Minutes Streamed Per Day"
         }
        }
       }
      }
     },
     "metadata": {},
     "output_type": "display_data"
    },
    {
     "name": "stdout",
     "output_type": "stream",
     "text": [
      "\n",
      "=== SUMMARY STATISTICS ===\n",
      "Age Range Analyzed: 13 - 60 years\n",
      "Total Individual Ages: 48 ages represented\n",
      "Available Variables: 4 quantitative metrics\n",
      "\n",
      "=== GENERATION BREAKDOWN ===\n",
      "🎯 Gen Z (13-25):\n",
      "   Ages Represented: 13 individual ages\n",
      "   Total Users: 1,311\n",
      "   Average Age: 19.0 years\n",
      "\n",
      "🎯 Millennials (26-41):\n",
      "   Ages Represented: 16 individual ages\n",
      "   Total Users: 1,703\n",
      "   Average Age: 33.5 years\n",
      "\n",
      "🎯 Gen X (42-60):\n",
      "   Ages Represented: 19 individual ages\n",
      "   Total Users: 1,986\n",
      "   Average Age: 51.0 years\n",
      "\n",
      "=== VARIABLE RANGES ===\n",
      "📊 Minutes Streamed Per Day: 278.2 - 348.0 (avg: 309.6)\n",
      "📊 Number of Songs Liked: 222.6 - 289.2 (avg: 253.4)\n",
      "📊 Discover Weekly Engagement (%): 45.0 - 55.1 (avg: 50.3)\n"
     ]
    }
   ],
   "source": [
    "# Interactive Age-based Bar Chart Analysis\n",
    "print(\"=== INTERACTIVE AGE-BASED ANALYSIS ===\")\n",
    "\n",
    "# Create age groups for analysis\n",
    "df['Age_Group'] = pd.cut(df['Age'], \n",
    "                        bins=[0, 25, 41, 100], \n",
    "                        labels=['Gen Z (13-25)', 'Millennials (26-41)', 'Gen X (42-60)'])\n",
    "\n",
    "# Define color mapping for generations\n",
    "generation_colors = {\n",
    "    'Gen Z (13-25)': '#FF6B6B',      # Red\n",
    "    'Millennials (26-41)': '#4ECDC4', # Teal\n",
    "    'Gen X (42-60)': '#45B7D1'       # Blue\n",
    "}\n",
    "\n",
    "# Get all quantitative variables available in the dataset\n",
    "quantitative_vars = ['Minutes Streamed Per Day', 'Number of Songs Liked', \n",
    "                    'Discover Weekly Engagement (%)', 'Repeat Song Rate (%)']\n",
    "\n",
    "# Filter only variables that exist in the dataset\n",
    "available_vars = [var for var in quantitative_vars if var in df.columns]\n",
    "\n",
    "if available_vars:\n",
    "    # Prepare data for individual ages (13-60)\n",
    "    age_data = []\n",
    "    \n",
    "    for age in range(13, 61):  # Ages 13 to 60\n",
    "        age_subset = df[df['Age'] == age]\n",
    "        if len(age_subset) > 0:\n",
    "            # Determine generation for this age\n",
    "            if age <= 25:\n",
    "                generation = 'Gen Z (13-25)'\n",
    "                color = generation_colors['Gen Z (13-25)']\n",
    "            elif age <= 41:\n",
    "                generation = 'Millennials (26-41)'\n",
    "                color = generation_colors['Millennials (26-41)']\n",
    "            else:\n",
    "                generation = 'Gen X (42-60)'\n",
    "                color = generation_colors['Gen X (42-60)']\n",
    "            \n",
    "            # Calculate mean values for each quantitative variable\n",
    "            age_stats = {\n",
    "                'Age': age, \n",
    "                'Generation': generation, \n",
    "                'Color': color,\n",
    "                'Count': len(age_subset)\n",
    "            }\n",
    "            for var in available_vars:\n",
    "                age_stats[var] = age_subset[var].mean()\n",
    "            \n",
    "            age_data.append(age_stats)\n",
    "    \n",
    "    # Convert to DataFrame\n",
    "    age_df = pd.DataFrame(age_data)\n",
    "    \n",
    "    # Create interactive bar chart\n",
    "    fig = go.Figure()\n",
    "    \n",
    "    # Add bar traces for each variable\n",
    "    for i, var in enumerate(available_vars):\n",
    "        fig.add_trace(go.Bar(\n",
    "            x=age_df['Age'],\n",
    "            y=age_df[var],\n",
    "            name=var,\n",
    "            marker=dict(\n",
    "                color=age_df['Color'],\n",
    "                line=dict(color='white', width=1),\n",
    "                opacity=0.8\n",
    "            ),\n",
    "            visible=True if i == 0 else False,  # Only first variable visible initially\n",
    "            hovertemplate='<b>Age %{x}</b><br>' +\n",
    "                         f'{var}: %{{y:.1f}}<br>' +\n",
    "                         'Generation: %{customdata[0]}<br>' +\n",
    "                         'Sample Size: %{customdata[1]}<br>' +\n",
    "                         '<extra></extra>',\n",
    "            customdata=list(zip(age_df['Generation'], age_df['Count']))\n",
    "        ))\n",
    "    \n",
    "    # Create dropdown buttons for variable selection\n",
    "    buttons = []\n",
    "    for i, var in enumerate(available_vars):\n",
    "        # Create visibility array (only show the selected variable)\n",
    "        visible_array = [False] * len(available_vars)\n",
    "        visible_array[i] = True\n",
    "        \n",
    "        buttons.append(dict(\n",
    "            args=[{\"visible\": visible_array}],\n",
    "            label=var,\n",
    "            method=\"restyle\"\n",
    "        ))\n",
    "    \n",
    "    # Update layout\n",
    "    fig.update_layout(\n",
    "        title=dict(\n",
    "            text=f\"Music Streaming Analysis by Individual Age<br><sub>{available_vars[0]} Distribution</sub>\",\n",
    "            font=dict(size=16)\n",
    "        ),\n",
    "        xaxis=dict(\n",
    "            title=\"Age (Years)\",\n",
    "            tickmode='linear',\n",
    "            tick0=13,\n",
    "            dtick=1,  # Show every age\n",
    "            range=[12.5, 60.5],\n",
    "            gridcolor='lightgray',\n",
    "            gridwidth=0.5,\n",
    "            tickangle=45\n",
    "        ),\n",
    "        yaxis=dict(\n",
    "            title=available_vars[0],\n",
    "            gridcolor='lightgray',\n",
    "            gridwidth=0.5\n",
    "        ),\n",
    "        updatemenus=[\n",
    "            dict(\n",
    "                buttons=buttons,\n",
    "                direction=\"down\",\n",
    "                pad={\"r\": 10, \"t\": 10},\n",
    "                showactive=True,\n",
    "                x=0.02,\n",
    "                xanchor=\"left\",\n",
    "                y=1.15,\n",
    "                yanchor=\"top\",\n",
    "                bgcolor=\"rgba(255,255,255,0.9)\",\n",
    "                bordercolor=\"gray\",\n",
    "                borderwidth=1\n",
    "            ),\n",
    "        ],\n",
    "        annotations=[\n",
    "            dict(\n",
    "                text=\"Select Variable:\",\n",
    "                showarrow=False,\n",
    "                x=0.02, y=1.18,\n",
    "                xref=\"paper\", yref=\"paper\",\n",
    "                align=\"left\",\n",
    "                font=dict(size=12, color=\"black\")\n",
    "            )\n",
    "        ],\n",
    "        height=600,\n",
    "        showlegend=False,\n",
    "        plot_bgcolor='white',\n",
    "        font=dict(size=11),\n",
    "        margin=dict(b=100)  # Extra bottom margin for rotated age labels\n",
    "    )\n",
    "    \n",
    "    # Add generation background bands\n",
    "    fig.add_vrect(x0=12.5, x1=25.5, fillcolor=generation_colors['Gen Z (13-25)'], \n",
    "                  opacity=0.1, layer=\"below\", line_width=0,\n",
    "                  annotation_text=\"Gen Z\", annotation_position=\"top left\")\n",
    "    fig.add_vrect(x0=25.5, x1=41.5, fillcolor=generation_colors['Millennials (26-41)'], \n",
    "                  opacity=0.1, layer=\"below\", line_width=0,\n",
    "                  annotation_text=\"Millennials\", annotation_position=\"top\")\n",
    "    fig.add_vrect(x0=41.5, x1=60.5, fillcolor=generation_colors['Gen X (42-60)'], \n",
    "                  opacity=0.1, layer=\"below\", line_width=0,\n",
    "                  annotation_text=\"Gen X\", annotation_position=\"top right\")\n",
    "    \n",
    "    # Add callback to update title and y-axis when dropdown changes\n",
    "    for i, var in enumerate(available_vars):\n",
    "        if i > 0:  # Skip first variable as it's already set\n",
    "            fig.data[i].on_click = lambda trace, points, selector: fig.update_layout(\n",
    "                title=f\"Music Streaming Analysis by Individual Age<br><sub>{var} Distribution</sub>\",\n",
    "                yaxis_title=var\n",
    "            )\n",
    "    \n",
    "    fig.show()\n",
    "    \n",
    "    # Print summary statistics\n",
    "    print(f\"\\n=== SUMMARY STATISTICS ===\")\n",
    "    print(f\"Age Range Analyzed: {age_df['Age'].min()} - {age_df['Age'].max()} years\")\n",
    "    print(f\"Total Individual Ages: {len(age_df)} ages represented\")\n",
    "    print(f\"Available Variables: {len(available_vars)} quantitative metrics\")\n",
    "    \n",
    "    # Generation breakdown\n",
    "    print(f\"\\n=== GENERATION BREAKDOWN ===\")\n",
    "    for generation in ['Gen Z (13-25)', 'Millennials (26-41)', 'Gen X (42-60)']:\n",
    "        gen_ages = age_df[age_df['Generation'] == generation]\n",
    "        total_users = gen_ages['Count'].sum()\n",
    "        avg_age = gen_ages['Age'].mean()\n",
    "        print(f\"🎯 {generation}:\")\n",
    "        print(f\"   Ages Represented: {len(gen_ages)} individual ages\")\n",
    "        print(f\"   Total Users: {total_users:,}\")\n",
    "        print(f\"   Average Age: {avg_age:.1f} years\")\n",
    "        print()\n",
    "    \n",
    "    # Variable statistics\n",
    "    print(f\"=== VARIABLE RANGES ===\")\n",
    "    for var in available_vars[:3]:  # Show first 3 variables\n",
    "        min_val = age_df[var].min()\n",
    "        max_val = age_df[var].max()\n",
    "        mean_val = age_df[var].mean()\n",
    "        print(f\"📊 {var}: {min_val:.1f} - {max_val:.1f} (avg: {mean_val:.1f})\")\n",
    "\n",
    "else:\n",
    "    print(\"❌ No quantitative variables found for analysis\")"
   ]
  },
  {
   "cell_type": "code",
   "execution_count": 8,
   "id": "ddfa4378",
   "metadata": {},
   "outputs": [
    {
     "name": "stdout",
     "output_type": "stream",
     "text": [
      "=== INTERACTIVE COUNTRY ANALYSIS ===\n"
     ]
    },
    {
     "data": {
      "application/vnd.plotly.v1+json": {
       "config": {
        "plotlyServerURL": "https://plot.ly"
       },
       "data": [
        {
         "customdata": {
          "bdata": "1wHtAQQCDgIEAvsB6wHqAeIB/AE=",
          "dtype": "i2"
         },
         "hovertemplate": "<b>%{x}</b><br>Minutes Streamed Per Day: %{y:.1f}<br>Sample Size: %{customdata}<br><extra></extra>",
         "marker": {
          "color": [
           "rgb(255,255,179)",
           "rgb(188,128,189)",
           "rgb(251,128,114)",
           "rgb(190,186,218)",
           "rgb(128,177,211)",
           "rgb(179,222,105)",
           "rgb(141,211,199)",
           "rgb(252,205,229)",
           "rgb(217,217,217)",
           "rgb(253,180,98)"
          ],
          "line": {
           "color": "white",
           "width": 1
          },
          "opacity": 0.8
         },
         "name": "Minutes Streamed Per Day",
         "type": "bar",
         "visible": true,
         "x": [
          "Germany 🇩🇪",
          "France 🇫🇷",
          "South Korea 🇰🇷",
          "Australia 🇦🇺",
          "UK 🇬🇧",
          "Canada 🇨🇦",
          "Japan 🇯🇵",
          "India 🇮🇳",
          "USA 🇺🇸",
          "Brazil 🇧🇷"
         ],
         "y": {
          "bdata": "IicId2MfdECyLUipYupzQAZ9QV/Qw3NAz72boA2uc0B3xB1xR1xzQLETO7ETO3NAB1ZRLEEpc0BxxLQnMhhzQI8JZ48Jl3JAbTabzWZbckA=",
          "dtype": "f8"
         }
        },
        {
         "customdata": {
          "bdata": "+wHtAdcB6wEEAg4C6gHiAfwBBAI=",
          "dtype": "i2"
         },
         "hovertemplate": "<b>%{x}</b><br>Number of Songs Liked: %{y:.1f}<br>Sample Size: %{customdata}<br><extra></extra>",
         "marker": {
          "color": [
           "rgb(179,222,105)",
           "rgb(188,128,189)",
           "rgb(255,255,179)",
           "rgb(141,211,199)",
           "rgb(128,177,211)",
           "rgb(190,186,218)",
           "rgb(252,205,229)",
           "rgb(217,217,217)",
           "rgb(253,180,98)",
           "rgb(251,128,114)"
          ],
          "line": {
           "color": "white",
           "width": 1
          },
          "opacity": 0.8
         },
         "name": "Number of Songs Liked",
         "type": "bar",
         "visible": false,
         "x": [
          "Canada 🇨🇦",
          "France 🇫🇷",
          "Germany 🇩🇪",
          "Japan 🇯🇵",
          "UK 🇬🇧",
          "Australia 🇦🇺",
          "India 🇮🇳",
          "USA 🇺🇸",
          "Brazil 🇧🇷",
          "South Korea 🇰🇷"
         ],
         "y": {
          "bdata": "zR7ZVryRcEBIjubUPlNwQBvioOjMQXBA6sAqiiU4cEBL2pK2pG1vQCpDrcIIIW9ACl5OwcsZb0BLSWtLSftuQHO5XC6X025A2BP2hD3JbkA=",
          "dtype": "f8"
         }
        },
        {
         "customdata": {
          "bdata": "DgLqAeIB1wHrAQQC7QH8AfsBBAI=",
          "dtype": "i2"
         },
         "hovertemplate": "<b>%{x}</b><br>Discover Weekly Engagement (%): %{y:.1f}<br>Sample Size: %{customdata}<br><extra></extra>",
         "marker": {
          "color": [
           "rgb(190,186,218)",
           "rgb(252,205,229)",
           "rgb(217,217,217)",
           "rgb(255,255,179)",
           "rgb(141,211,199)",
           "rgb(251,128,114)",
           "rgb(188,128,189)",
           "rgb(253,180,98)",
           "rgb(179,222,105)",
           "rgb(128,177,211)"
          ],
          "line": {
           "color": "white",
           "width": 1
          },
          "opacity": 0.8
         },
         "name": "Discover Weekly Engagement (%)",
         "type": "bar",
         "visible": false,
         "x": [
          "Australia 🇦🇺",
          "India 🇮🇳",
          "USA 🇺🇸",
          "Germany 🇩🇪",
          "Japan 🇯🇵",
          "South Korea 🇰🇷",
          "France 🇫🇷",
          "Brazil 🇧🇷",
          "Canada 🇨🇦",
          "UK 🇬🇧"
         ],
         "y": {
          "bdata": "/YlYQii6SUAGItpxTLdJQD5gLz1gb0lASomr0tpRSUB4gyCzgTdJQMrnWKB8JklA+Yx5VJkiSUBw/2ArKuNIQNX6/yplpUhADFZkkC1KSEA=",
          "dtype": "f8"
         }
        },
        {
         "customdata": {
          "bdata": "/AEEAuoB7QEOAuIBBAL7AesB1wE=",
          "dtype": "i2"
         },
         "hovertemplate": "<b>%{x}</b><br>Repeat Song Rate (%): %{y:.1f}<br>Sample Size: %{customdata}<br><extra></extra>",
         "marker": {
          "color": [
           "rgb(253,180,98)",
           "rgb(128,177,211)",
           "rgb(252,205,229)",
           "rgb(188,128,189)",
           "rgb(190,186,218)",
           "rgb(217,217,217)",
           "rgb(251,128,114)",
           "rgb(179,222,105)",
           "rgb(141,211,199)",
           "rgb(255,255,179)"
          ],
          "line": {
           "color": "white",
           "width": 1
          },
          "opacity": 0.8
         },
         "name": "Repeat Song Rate (%)",
         "type": "bar",
         "visible": false,
         "x": [
          "Brazil 🇧🇷",
          "UK 🇬🇧",
          "India 🇮🇳",
          "France 🇫🇷",
          "Australia 🇦🇺",
          "USA 🇺🇸",
          "South Korea 🇰🇷",
          "Canada 🇨🇦",
          "Japan 🇯🇵",
          "Germany 🇩🇪"
         ],
         "y": {
          "bdata": "f7/f7/fbRUBjL+OiXNFFQEqvVr5OtEVAiE7frQk2RUC+cpNbMBpFQKWK+de9DEVA4Lh/z1r4REDh1vuZaNdEQNMcflvvyURAdLWazMOOREA=",
          "dtype": "f8"
         }
        }
       ],
       "layout": {
        "annotations": [
         {
          "align": "left",
          "font": {
           "color": "black",
           "size": 12
          },
          "showarrow": false,
          "text": "Select Variable:",
          "x": 0.02,
          "xref": "paper",
          "y": 1.18,
          "yref": "paper"
         }
        ],
        "font": {
         "size": 11
        },
        "height": 600,
        "margin": {
         "b": 120,
         "l": 80,
         "r": 80
        },
        "plot_bgcolor": "white",
        "showlegend": false,
        "template": {
         "data": {
          "bar": [
           {
            "error_x": {
             "color": "#2a3f5f"
            },
            "error_y": {
             "color": "#2a3f5f"
            },
            "marker": {
             "line": {
              "color": "#E5ECF6",
              "width": 0.5
             },
             "pattern": {
              "fillmode": "overlay",
              "size": 10,
              "solidity": 0.2
             }
            },
            "type": "bar"
           }
          ],
          "barpolar": [
           {
            "marker": {
             "line": {
              "color": "#E5ECF6",
              "width": 0.5
             },
             "pattern": {
              "fillmode": "overlay",
              "size": 10,
              "solidity": 0.2
             }
            },
            "type": "barpolar"
           }
          ],
          "carpet": [
           {
            "aaxis": {
             "endlinecolor": "#2a3f5f",
             "gridcolor": "white",
             "linecolor": "white",
             "minorgridcolor": "white",
             "startlinecolor": "#2a3f5f"
            },
            "baxis": {
             "endlinecolor": "#2a3f5f",
             "gridcolor": "white",
             "linecolor": "white",
             "minorgridcolor": "white",
             "startlinecolor": "#2a3f5f"
            },
            "type": "carpet"
           }
          ],
          "choropleth": [
           {
            "colorbar": {
             "outlinewidth": 0,
             "ticks": ""
            },
            "type": "choropleth"
           }
          ],
          "contour": [
           {
            "colorbar": {
             "outlinewidth": 0,
             "ticks": ""
            },
            "colorscale": [
             [
              0,
              "#0d0887"
             ],
             [
              0.1111111111111111,
              "#46039f"
             ],
             [
              0.2222222222222222,
              "#7201a8"
             ],
             [
              0.3333333333333333,
              "#9c179e"
             ],
             [
              0.4444444444444444,
              "#bd3786"
             ],
             [
              0.5555555555555556,
              "#d8576b"
             ],
             [
              0.6666666666666666,
              "#ed7953"
             ],
             [
              0.7777777777777778,
              "#fb9f3a"
             ],
             [
              0.8888888888888888,
              "#fdca26"
             ],
             [
              1,
              "#f0f921"
             ]
            ],
            "type": "contour"
           }
          ],
          "contourcarpet": [
           {
            "colorbar": {
             "outlinewidth": 0,
             "ticks": ""
            },
            "type": "contourcarpet"
           }
          ],
          "heatmap": [
           {
            "colorbar": {
             "outlinewidth": 0,
             "ticks": ""
            },
            "colorscale": [
             [
              0,
              "#0d0887"
             ],
             [
              0.1111111111111111,
              "#46039f"
             ],
             [
              0.2222222222222222,
              "#7201a8"
             ],
             [
              0.3333333333333333,
              "#9c179e"
             ],
             [
              0.4444444444444444,
              "#bd3786"
             ],
             [
              0.5555555555555556,
              "#d8576b"
             ],
             [
              0.6666666666666666,
              "#ed7953"
             ],
             [
              0.7777777777777778,
              "#fb9f3a"
             ],
             [
              0.8888888888888888,
              "#fdca26"
             ],
             [
              1,
              "#f0f921"
             ]
            ],
            "type": "heatmap"
           }
          ],
          "histogram": [
           {
            "marker": {
             "pattern": {
              "fillmode": "overlay",
              "size": 10,
              "solidity": 0.2
             }
            },
            "type": "histogram"
           }
          ],
          "histogram2d": [
           {
            "colorbar": {
             "outlinewidth": 0,
             "ticks": ""
            },
            "colorscale": [
             [
              0,
              "#0d0887"
             ],
             [
              0.1111111111111111,
              "#46039f"
             ],
             [
              0.2222222222222222,
              "#7201a8"
             ],
             [
              0.3333333333333333,
              "#9c179e"
             ],
             [
              0.4444444444444444,
              "#bd3786"
             ],
             [
              0.5555555555555556,
              "#d8576b"
             ],
             [
              0.6666666666666666,
              "#ed7953"
             ],
             [
              0.7777777777777778,
              "#fb9f3a"
             ],
             [
              0.8888888888888888,
              "#fdca26"
             ],
             [
              1,
              "#f0f921"
             ]
            ],
            "type": "histogram2d"
           }
          ],
          "histogram2dcontour": [
           {
            "colorbar": {
             "outlinewidth": 0,
             "ticks": ""
            },
            "colorscale": [
             [
              0,
              "#0d0887"
             ],
             [
              0.1111111111111111,
              "#46039f"
             ],
             [
              0.2222222222222222,
              "#7201a8"
             ],
             [
              0.3333333333333333,
              "#9c179e"
             ],
             [
              0.4444444444444444,
              "#bd3786"
             ],
             [
              0.5555555555555556,
              "#d8576b"
             ],
             [
              0.6666666666666666,
              "#ed7953"
             ],
             [
              0.7777777777777778,
              "#fb9f3a"
             ],
             [
              0.8888888888888888,
              "#fdca26"
             ],
             [
              1,
              "#f0f921"
             ]
            ],
            "type": "histogram2dcontour"
           }
          ],
          "mesh3d": [
           {
            "colorbar": {
             "outlinewidth": 0,
             "ticks": ""
            },
            "type": "mesh3d"
           }
          ],
          "parcoords": [
           {
            "line": {
             "colorbar": {
              "outlinewidth": 0,
              "ticks": ""
             }
            },
            "type": "parcoords"
           }
          ],
          "pie": [
           {
            "automargin": true,
            "type": "pie"
           }
          ],
          "scatter": [
           {
            "fillpattern": {
             "fillmode": "overlay",
             "size": 10,
             "solidity": 0.2
            },
            "type": "scatter"
           }
          ],
          "scatter3d": [
           {
            "line": {
             "colorbar": {
              "outlinewidth": 0,
              "ticks": ""
             }
            },
            "marker": {
             "colorbar": {
              "outlinewidth": 0,
              "ticks": ""
             }
            },
            "type": "scatter3d"
           }
          ],
          "scattercarpet": [
           {
            "marker": {
             "colorbar": {
              "outlinewidth": 0,
              "ticks": ""
             }
            },
            "type": "scattercarpet"
           }
          ],
          "scattergeo": [
           {
            "marker": {
             "colorbar": {
              "outlinewidth": 0,
              "ticks": ""
             }
            },
            "type": "scattergeo"
           }
          ],
          "scattergl": [
           {
            "marker": {
             "colorbar": {
              "outlinewidth": 0,
              "ticks": ""
             }
            },
            "type": "scattergl"
           }
          ],
          "scattermap": [
           {
            "marker": {
             "colorbar": {
              "outlinewidth": 0,
              "ticks": ""
             }
            },
            "type": "scattermap"
           }
          ],
          "scattermapbox": [
           {
            "marker": {
             "colorbar": {
              "outlinewidth": 0,
              "ticks": ""
             }
            },
            "type": "scattermapbox"
           }
          ],
          "scatterpolar": [
           {
            "marker": {
             "colorbar": {
              "outlinewidth": 0,
              "ticks": ""
             }
            },
            "type": "scatterpolar"
           }
          ],
          "scatterpolargl": [
           {
            "marker": {
             "colorbar": {
              "outlinewidth": 0,
              "ticks": ""
             }
            },
            "type": "scatterpolargl"
           }
          ],
          "scatterternary": [
           {
            "marker": {
             "colorbar": {
              "outlinewidth": 0,
              "ticks": ""
             }
            },
            "type": "scatterternary"
           }
          ],
          "surface": [
           {
            "colorbar": {
             "outlinewidth": 0,
             "ticks": ""
            },
            "colorscale": [
             [
              0,
              "#0d0887"
             ],
             [
              0.1111111111111111,
              "#46039f"
             ],
             [
              0.2222222222222222,
              "#7201a8"
             ],
             [
              0.3333333333333333,
              "#9c179e"
             ],
             [
              0.4444444444444444,
              "#bd3786"
             ],
             [
              0.5555555555555556,
              "#d8576b"
             ],
             [
              0.6666666666666666,
              "#ed7953"
             ],
             [
              0.7777777777777778,
              "#fb9f3a"
             ],
             [
              0.8888888888888888,
              "#fdca26"
             ],
             [
              1,
              "#f0f921"
             ]
            ],
            "type": "surface"
           }
          ],
          "table": [
           {
            "cells": {
             "fill": {
              "color": "#EBF0F8"
             },
             "line": {
              "color": "white"
             }
            },
            "header": {
             "fill": {
              "color": "#C8D4E3"
             },
             "line": {
              "color": "white"
             }
            },
            "type": "table"
           }
          ]
         },
         "layout": {
          "annotationdefaults": {
           "arrowcolor": "#2a3f5f",
           "arrowhead": 0,
           "arrowwidth": 1
          },
          "autotypenumbers": "strict",
          "coloraxis": {
           "colorbar": {
            "outlinewidth": 0,
            "ticks": ""
           }
          },
          "colorscale": {
           "diverging": [
            [
             0,
             "#8e0152"
            ],
            [
             0.1,
             "#c51b7d"
            ],
            [
             0.2,
             "#de77ae"
            ],
            [
             0.3,
             "#f1b6da"
            ],
            [
             0.4,
             "#fde0ef"
            ],
            [
             0.5,
             "#f7f7f7"
            ],
            [
             0.6,
             "#e6f5d0"
            ],
            [
             0.7,
             "#b8e186"
            ],
            [
             0.8,
             "#7fbc41"
            ],
            [
             0.9,
             "#4d9221"
            ],
            [
             1,
             "#276419"
            ]
           ],
           "sequential": [
            [
             0,
             "#0d0887"
            ],
            [
             0.1111111111111111,
             "#46039f"
            ],
            [
             0.2222222222222222,
             "#7201a8"
            ],
            [
             0.3333333333333333,
             "#9c179e"
            ],
            [
             0.4444444444444444,
             "#bd3786"
            ],
            [
             0.5555555555555556,
             "#d8576b"
            ],
            [
             0.6666666666666666,
             "#ed7953"
            ],
            [
             0.7777777777777778,
             "#fb9f3a"
            ],
            [
             0.8888888888888888,
             "#fdca26"
            ],
            [
             1,
             "#f0f921"
            ]
           ],
           "sequentialminus": [
            [
             0,
             "#0d0887"
            ],
            [
             0.1111111111111111,
             "#46039f"
            ],
            [
             0.2222222222222222,
             "#7201a8"
            ],
            [
             0.3333333333333333,
             "#9c179e"
            ],
            [
             0.4444444444444444,
             "#bd3786"
            ],
            [
             0.5555555555555556,
             "#d8576b"
            ],
            [
             0.6666666666666666,
             "#ed7953"
            ],
            [
             0.7777777777777778,
             "#fb9f3a"
            ],
            [
             0.8888888888888888,
             "#fdca26"
            ],
            [
             1,
             "#f0f921"
            ]
           ]
          },
          "colorway": [
           "#636efa",
           "#EF553B",
           "#00cc96",
           "#ab63fa",
           "#FFA15A",
           "#19d3f3",
           "#FF6692",
           "#B6E880",
           "#FF97FF",
           "#FECB52"
          ],
          "font": {
           "color": "#2a3f5f"
          },
          "geo": {
           "bgcolor": "white",
           "lakecolor": "white",
           "landcolor": "#E5ECF6",
           "showlakes": true,
           "showland": true,
           "subunitcolor": "white"
          },
          "hoverlabel": {
           "align": "left"
          },
          "hovermode": "closest",
          "mapbox": {
           "style": "light"
          },
          "paper_bgcolor": "white",
          "plot_bgcolor": "#E5ECF6",
          "polar": {
           "angularaxis": {
            "gridcolor": "white",
            "linecolor": "white",
            "ticks": ""
           },
           "bgcolor": "#E5ECF6",
           "radialaxis": {
            "gridcolor": "white",
            "linecolor": "white",
            "ticks": ""
           }
          },
          "scene": {
           "xaxis": {
            "backgroundcolor": "#E5ECF6",
            "gridcolor": "white",
            "gridwidth": 2,
            "linecolor": "white",
            "showbackground": true,
            "ticks": "",
            "zerolinecolor": "white"
           },
           "yaxis": {
            "backgroundcolor": "#E5ECF6",
            "gridcolor": "white",
            "gridwidth": 2,
            "linecolor": "white",
            "showbackground": true,
            "ticks": "",
            "zerolinecolor": "white"
           },
           "zaxis": {
            "backgroundcolor": "#E5ECF6",
            "gridcolor": "white",
            "gridwidth": 2,
            "linecolor": "white",
            "showbackground": true,
            "ticks": "",
            "zerolinecolor": "white"
           }
          },
          "shapedefaults": {
           "line": {
            "color": "#2a3f5f"
           }
          },
          "ternary": {
           "aaxis": {
            "gridcolor": "white",
            "linecolor": "white",
            "ticks": ""
           },
           "baxis": {
            "gridcolor": "white",
            "linecolor": "white",
            "ticks": ""
           },
           "bgcolor": "#E5ECF6",
           "caxis": {
            "gridcolor": "white",
            "linecolor": "white",
            "ticks": ""
           }
          },
          "title": {
           "x": 0.05
          },
          "xaxis": {
           "automargin": true,
           "gridcolor": "white",
           "linecolor": "white",
           "ticks": "",
           "title": {
            "standoff": 15
           },
           "zerolinecolor": "white",
           "zerolinewidth": 2
          },
          "yaxis": {
           "automargin": true,
           "gridcolor": "white",
           "linecolor": "white",
           "ticks": "",
           "title": {
            "standoff": 15
           },
           "zerolinecolor": "white",
           "zerolinewidth": 2
          }
         }
        },
        "title": {
         "font": {
          "size": 16
         },
         "text": "Music Streaming Analysis by Country<br><sub>Minutes Streamed Per Day Distribution</sub>"
        },
        "updatemenus": [
         {
          "bgcolor": "rgba(255,255,255,0.9)",
          "bordercolor": "gray",
          "borderwidth": 1,
          "buttons": [
           {
            "args": [
             {
              "customdata": [
               [
                471,
                493,
                516,
                526,
                516,
                507,
                491,
                490,
                482,
                508
               ]
              ],
              "visible": [
               true,
               false,
               false,
               false
              ],
              "x": [
               [
                "Germany 🇩🇪",
                "France 🇫🇷",
                "South Korea 🇰🇷",
                "Australia 🇦🇺",
                "UK 🇬🇧",
                "Canada 🇨🇦",
                "Japan 🇯🇵",
                "India 🇮🇳",
                "USA 🇺🇸",
                "Brazil 🇧🇷"
               ]
              ],
              "y": [
               [
                321.96178343949043,
                318.64908722109533,
                316.23837209302326,
                314.8783269961977,
                309.7674418604651,
                307.6923076923077,
                306.5784114052953,
                305.5122448979592,
                297.43983402489624,
                293.71259842519686
               ]
              ]
             }
            ],
            "label": "Minutes Streamed Per Day",
            "method": "restyle"
           },
           {
            "args": [
             {
              "customdata": [
               [
                507,
                493,
                471,
                491,
                516,
                526,
                490,
                482,
                508,
                516
               ]
              ],
              "visible": [
               false,
               true,
               false,
               false
              ],
              "x": [
               [
                "Canada 🇨🇦",
                "France 🇫🇷",
                "Germany 🇩🇪",
                "Japan 🇯🇵",
                "UK 🇬🇧",
                "Australia 🇦🇺",
                "India 🇮🇳",
                "USA 🇺🇸",
                "Brazil 🇧🇷",
                "South Korea 🇰🇷"
               ]
              ],
              "y": [
               [
                265.1084812623274,
                261.2028397565923,
                260.1125265392781,
                259.5091649694501,
                251.42635658914728,
                249.03231939163499,
                248.80612244897958,
                247.85269709543567,
                246.61220472440945,
                246.28875968992247
               ]
              ]
             }
            ],
            "label": "Number of Songs Liked",
            "method": "restyle"
           },
           {
            "args": [
             {
              "customdata": [
               [
                526,
                490,
                482,
                471,
                491,
                516,
                493,
                508,
                507,
                516
               ]
              ],
              "visible": [
               false,
               false,
               true,
               false
              ],
              "x": [
               [
                "Australia 🇦🇺",
                "India 🇮🇳",
                "USA 🇺🇸",
                "Germany 🇩🇪",
                "Japan 🇯🇵",
                "South Korea 🇰🇷",
                "France 🇫🇷",
                "Brazil 🇧🇷",
                "Canada 🇨🇦",
                "UK 🇬🇧"
               ]
              ],
              "y": [
               [
                51.4543536121673,
                51.43202040816327,
                50.87012448132781,
                50.63949044585986,
                50.433645621181256,
                50.30067829457364,
                50.27030425963489,
                49.77472440944882,
                49.292149901380675,
                48.57951550387597
               ]
              ]
             }
            ],
            "label": "Discover Weekly Engagement (%)",
            "method": "restyle"
           },
           {
            "args": [
             {
              "customdata": [
               [
                508,
                516,
                490,
                493,
                526,
                482,
                516,
                507,
                491,
                471
               ]
              ],
              "visible": [
               false,
               false,
               false,
               true
              ],
              "x": [
               [
                "Brazil 🇧🇷",
                "UK 🇬🇧",
                "India 🇮🇳",
                "France 🇫🇷",
                "Australia 🇦🇺",
                "USA 🇺🇸",
                "South Korea 🇰🇷",
                "Canada 🇨🇦",
                "Japan 🇯🇵",
                "Germany 🇩🇪"
               ]
              ],
              "y": [
               [
                43.718503937007874,
                43.635639534883715,
                43.408653061224484,
                42.42217038539553,
                42.20460076045627,
                42.09954356846473,
                41.940271317829456,
                41.68287968441815,
                41.57761710794298,
                41.11535031847134
               ]
              ]
             }
            ],
            "label": "Repeat Song Rate (%)",
            "method": "restyle"
           }
          ],
          "direction": "down",
          "pad": {
           "r": 10,
           "t": 10
          },
          "showactive": true,
          "x": 0.02,
          "xanchor": "left",
          "y": 1.15,
          "yanchor": "top"
         }
        ],
        "xaxis": {
         "gridcolor": "lightgray",
         "gridwidth": 0.5,
         "tickangle": 45,
         "title": {
          "text": "Countries"
         }
        },
        "yaxis": {
         "gridcolor": "lightgray",
         "gridwidth": 0.5,
         "title": {
          "text": "Minutes Streamed Per Day"
         }
        }
       }
      }
     },
     "metadata": {},
     "output_type": "display_data"
    },
    {
     "name": "stdout",
     "output_type": "stream",
     "text": [
      "\n",
      "=== COUNTRY ANALYSIS SUMMARY ===\n",
      "Total Countries: 10\n",
      "Available Variables: 4 quantitative metrics\n",
      "\n",
      "=== TOP 5 COUNTRIES BY Minutes Streamed Per Day ===\n",
      "1. 🇩🇪 Germany: 322.0\n",
      "2. 🇫🇷 France: 318.6\n",
      "3. 🇰🇷 South Korea: 316.2\n",
      "4. 🇦🇺 Australia: 314.9\n",
      "5. 🇬🇧 UK: 309.8\n",
      "\n",
      "=== FLAG STATISTICS ===\n",
      "Countries with custom flags: 10/10\n",
      "Countries using default flag 🌍: 0\n",
      "\n",
      "=== VARIABLE RANGES ACROSS COUNTRIES ===\n",
      "📊 Minutes Streamed Per Day:\n",
      "   Highest: 🇩🇪 Germany (322.0)\n",
      "   Lowest: 🇧🇷 Brazil (293.7)\n",
      "   Average: 309.2\n",
      "\n",
      "📊 Number of Songs Liked:\n",
      "   Highest: 🇨🇦 Canada (265.1)\n",
      "   Lowest: 🇰🇷 South Korea (246.3)\n",
      "   Average: 253.6\n",
      "\n",
      "📊 Discover Weekly Engagement (%):\n",
      "   Highest: 🇦🇺 Australia (51.5)\n",
      "   Lowest: 🇬🇧 UK (48.6)\n",
      "   Average: 50.3\n",
      "\n",
      "📊 Repeat Song Rate (%):\n",
      "   Highest: 🇧🇷 Brazil (43.7)\n",
      "   Lowest: 🇩🇪 Germany (41.1)\n",
      "   Average: 42.4\n",
      "\n"
     ]
    }
   ],
   "source": [
    "# Interactive Country-based Analysis with Flags\n",
    "print(\"=== INTERACTIVE COUNTRY ANALYSIS ===\")\n",
    "\n",
    "# Country flags dictionary\n",
    "country_flags = {\n",
    "    'Canada': '🇨🇦',\n",
    "    'Australia': '🇦🇺',\n",
    "    'Germany': '🇩🇪',\n",
    "    'France': '🇫🇷',\n",
    "    'Spain': '🇪🇸',\n",
    "    'Italy': '🇮🇹',\n",
    "    'Netherlands': '🇳🇱',\n",
    "    'Sweden': '🇸🇪',\n",
    "    'Norway': '🇳🇴',\n",
    "    'Denmark': '🇩🇰',\n",
    "    'Finland': '🇫🇮',\n",
    "    'Brazil': '🇧🇷',\n",
    "    'Mexico': '🇲🇽',\n",
    "    'Argentina': '🇦🇷',\n",
    "    'Japan': '🇯🇵',\n",
    "    'South Korea': '🇰🇷',\n",
    "    'India': '🇮🇳',\n",
    "    'China': '🇨🇳',\n",
    "    'Russia': '🇷🇺',\n",
    "    'Poland': '🇵🇱',\n",
    "    'Belgium': '🇧🇪',\n",
    "    'Switzerland': '🇨🇭',\n",
    "    'Austria': '🇦🇹',\n",
    "    'Portugal': '🇵🇹',\n",
    "    'Ireland': '🇮🇪',\n",
    "    'New Zealand': '🇳🇿',\n",
    "    'South Africa': '🇿🇦',\n",
    "    'Chile': '🇨🇱',\n",
    "    'Colombia': '🇨🇴',\n",
    "    'Peru': '🇵🇪',\n",
    "    'Turkey': '🇹🇷',\n",
    "    'Greece': '🇬🇷',\n",
    "    'Czech Republic': '🇨🇿',\n",
    "    'Hungary': '🇭🇺',\n",
    "    'Romania': '🇷🇴',\n",
    "    'Thailand': '🇹🇭',\n",
    "    'Vietnam': '🇻🇳',\n",
    "    'Philippines': '🇵🇭',\n",
    "    'Indonesia': '🇮🇩',\n",
    "    'Malaysia': '🇲🇾',\n",
    "    'Singapore': '🇸🇬',\n",
    "    'Israel': '🇮🇱',\n",
    "    'UAE': '🇦🇪',\n",
    "    'Saudi Arabia': '🇸🇦',\n",
    "    'Egypt': '🇪🇬',\n",
    "    'Nigeria': '🇳🇬',\n",
    "    'Kenya': '🇰🇪',\n",
    "    'Morocco': '🇲🇦',\n",
    "    'USA': '🇺🇸',\n",
    "    'UK': '🇬🇧'\n",
    "}\n",
    "\n",
    "# Check if Country column exists\n",
    "if 'Country' in df.columns:\n",
    "    # Get all quantitative variables available in the dataset\n",
    "    quantitative_vars = ['Minutes Streamed Per Day', 'Number of Songs Liked', \n",
    "                        'Discover Weekly Engagement (%)', 'Repeat Song Rate (%)']\n",
    "    \n",
    "    # Filter only variables that exist in the dataset\n",
    "    available_vars = [var for var in quantitative_vars if var in df.columns]\n",
    "    \n",
    "    if available_vars:\n",
    "        # Prepare data by country\n",
    "        country_data = []\n",
    "        countries = df['Country'].unique()\n",
    "        \n",
    "        # Define color palette for countries\n",
    "        import plotly.colors as pc\n",
    "        colors = pc.qualitative.Set3 + pc.qualitative.Pastel + pc.qualitative.Set1\n",
    "        \n",
    "        for i, country in enumerate(countries):\n",
    "            country_subset = df[df['Country'] == country]\n",
    "            if len(country_subset) > 0:\n",
    "                # Get flag for country, default to 🌍 if not found\n",
    "                flag = country_flags.get(country, '🌍')\n",
    "                color = colors[i % len(colors)]\n",
    "                \n",
    "                # Calculate mean values for each quantitative variable\n",
    "                country_stats = {\n",
    "                    'Country': country,\n",
    "                    'Flag': flag,\n",
    "                    'Country_Flag': f\"{country} {flag}\",\n",
    "                    'Color': color,\n",
    "                    'Count': len(country_subset)\n",
    "                }\n",
    "                for var in available_vars:\n",
    "                    country_stats[var] = country_subset[var].mean()\n",
    "                \n",
    "                country_data.append(country_stats)\n",
    "        \n",
    "        # Convert to DataFrame and sort by first variable descending\n",
    "        country_df = pd.DataFrame(country_data)\n",
    "        country_df = country_df.sort_values(available_vars[0], ascending=False)\n",
    "        \n",
    "        # Create interactive bar chart\n",
    "        fig = go.Figure()\n",
    "        \n",
    "        # Add bar traces for each variable\n",
    "        for i, var in enumerate(available_vars):\n",
    "            # Sort data by current variable for better visualization\n",
    "            sorted_df = country_df.sort_values(var, ascending=False)\n",
    "            \n",
    "            fig.add_trace(go.Bar(\n",
    "                x=sorted_df['Country_Flag'],\n",
    "                y=sorted_df[var],\n",
    "                name=var,\n",
    "                marker=dict(\n",
    "                    color=sorted_df['Color'],\n",
    "                    line=dict(color='white', width=1),\n",
    "                    opacity=0.8\n",
    "                ),\n",
    "                visible=True if i == 0 else False,  # Only first variable visible initially\n",
    "                hovertemplate='<b>%{x}</b><br>' +\n",
    "                             f'{var}: %{{y:.1f}}<br>' +\n",
    "                             'Sample Size: %{customdata}<br>' +\n",
    "                             '<extra></extra>',\n",
    "                customdata=sorted_df['Count']\n",
    "            ))\n",
    "        \n",
    "        # Create dropdown buttons for variable selection\n",
    "        buttons = []\n",
    "        for i, var in enumerate(available_vars):\n",
    "            # Create visibility array (only show the selected variable)\n",
    "            visible_array = [False] * len(available_vars)\n",
    "            visible_array[i] = True\n",
    "            \n",
    "            # Sort data by current variable for the button\n",
    "            sorted_df = country_df.sort_values(var, ascending=False)\n",
    "            \n",
    "            buttons.append(dict(\n",
    "                args=[{\n",
    "                    \"visible\": visible_array,\n",
    "                    \"x\": [sorted_df['Country_Flag']],\n",
    "                    \"y\": [sorted_df[var]],\n",
    "                    \"customdata\": [sorted_df['Count']]\n",
    "                }],\n",
    "                label=var,\n",
    "                method=\"restyle\"\n",
    "            ))\n",
    "        \n",
    "        # Update layout\n",
    "        fig.update_layout(\n",
    "            title=dict(\n",
    "                text=f\"Music Streaming Analysis by Country<br><sub>{available_vars[0]} Distribution</sub>\",\n",
    "                font=dict(size=16)\n",
    "            ),\n",
    "            xaxis=dict(\n",
    "                title=\"Countries\",\n",
    "                tickangle=45,\n",
    "                gridcolor='lightgray',\n",
    "                gridwidth=0.5\n",
    "            ),\n",
    "            yaxis=dict(\n",
    "                title=available_vars[0],\n",
    "                gridcolor='lightgray',\n",
    "                gridwidth=0.5\n",
    "            ),\n",
    "            updatemenus=[\n",
    "                dict(\n",
    "                    buttons=buttons,\n",
    "                    direction=\"down\",\n",
    "                    pad={\"r\": 10, \"t\": 10},\n",
    "                    showactive=True,\n",
    "                    x=0.02,\n",
    "                    xanchor=\"left\",\n",
    "                    y=1.15,\n",
    "                    yanchor=\"top\",\n",
    "                    bgcolor=\"rgba(255,255,255,0.9)\",\n",
    "                    bordercolor=\"gray\",\n",
    "                    borderwidth=1\n",
    "                ),\n",
    "            ],\n",
    "            annotations=[\n",
    "                dict(\n",
    "                    text=\"Select Variable:\",\n",
    "                    showarrow=False,\n",
    "                    x=0.02, y=1.18,\n",
    "                    xref=\"paper\", yref=\"paper\",\n",
    "                    align=\"left\",\n",
    "                    font=dict(size=12, color=\"black\")\n",
    "                )\n",
    "            ],\n",
    "            height=600,\n",
    "            showlegend=False,\n",
    "            plot_bgcolor='white',\n",
    "            font=dict(size=11),\n",
    "            margin=dict(b=120, l=80, r=80)  # Extra margins for country names and flags\n",
    "        )\n",
    "        \n",
    "        fig.show()\n",
    "        \n",
    "        # Print summary statistics\n",
    "        print(f\"\\n=== COUNTRY ANALYSIS SUMMARY ===\")\n",
    "        print(f\"Total Countries: {len(country_df)}\")\n",
    "        print(f\"Available Variables: {len(available_vars)} quantitative metrics\")\n",
    "        \n",
    "        # Top 5 countries by first variable\n",
    "        print(f\"\\n=== TOP 5 COUNTRIES BY {available_vars[0]} ===\")\n",
    "        top_countries = country_df.nlargest(5, available_vars[0])\n",
    "        for idx, (_, row) in enumerate(top_countries.iterrows(), 1):\n",
    "            print(f\"{idx}. {row['Flag']} {row['Country']}: {row[available_vars[0]]:.1f}\")\n",
    "        \n",
    "        # Countries with flags statistics\n",
    "        countries_with_flags = sum(1 for country in countries if country in country_flags)\n",
    "        print(f\"\\n=== FLAG STATISTICS ===\")\n",
    "        print(f\"Countries with custom flags: {countries_with_flags}/{len(countries)}\")\n",
    "        print(f\"Countries using default flag 🌍: {len(countries) - countries_with_flags}\")\n",
    "        \n",
    "        # Variable statistics across countries\n",
    "        print(f\"\\n=== VARIABLE RANGES ACROSS COUNTRIES ===\")\n",
    "        for var in available_vars:\n",
    "            min_country = country_df.loc[country_df[var].idxmin()]\n",
    "            max_country = country_df.loc[country_df[var].idxmax()]\n",
    "            avg_val = country_df[var].mean()\n",
    "            print(f\"📊 {var}:\")\n",
    "            print(f\"   Highest: {max_country['Flag']} {max_country['Country']} ({max_country[var]:.1f})\")\n",
    "            print(f\"   Lowest: {min_country['Flag']} {min_country['Country']} ({min_country[var]:.1f})\")\n",
    "            print(f\"   Average: {avg_val:.1f}\")\n",
    "            print()\n",
    "    \n",
    "    else:\n",
    "        print(\"❌ No quantitative variables found for country analysis\")\n",
    "else:\n",
    "    print(\"❌ 'Country' column not found in dataset\")"
   ]
  },
  {
   "cell_type": "code",
   "execution_count": 9,
   "id": "genre-preferences",
   "metadata": {},
   "outputs": [
    {
     "name": "stdout",
     "output_type": "stream",
     "text": [
      "=== INTERACTIVE MUSIC GENRE ANALYSIS ===\n",
      "Genre-related columns: ['Top Genre']\n",
      "\n",
      "--- Analysis for Top Genre ---\n"
     ]
    },
    {
     "data": {
      "application/vnd.plotly.v1+json": {
       "config": {
        "plotlyServerURL": "https://plot.ly"
       },
       "data": [
        {
         "customdata": {
          "bdata": "MzMzMzMzJUAzMzMzMzMlQDMzMzMzMyVAmpmZmZmZJEDNzMzMzMwjQJqZmZmZmSNAZmZmZmZmI0BmZmZmZmYjQAAAAAAAACNAZmZmZmZmIkA=",
          "dtype": "f8",
          "shape": "10, 1"
         },
         "hovertemplate": "Top Genre=%{x}<br>Number of Users=%{marker.color}<br>Percentage=%{customdata[0]}<extra></extra>",
         "legendgroup": "",
         "marker": {
          "color": {
           "bdata": "FAIUAhACBALvAesB5QHkAdsBzgE=",
           "dtype": "i2"
          },
          "coloraxis": "coloraxis",
          "pattern": {
           "shape": ""
          }
         },
         "name": "",
         "orientation": "v",
         "showlegend": false,
         "text": {
          "bdata": "AAAAAACggEAAAAAAAKCAQAAAAAAAgIBAAAAAAAAggEAAAAAAAPB+QAAAAAAAsH5AAAAAAABQfkAAAAAAAEB+QAAAAAAAsH1AAAAAAADgfEA=",
          "dtype": "f8"
         },
         "textposition": "outside",
         "type": "bar",
         "x": [
          "Reggae",
          "Jazz",
          "EDM",
          "Rock",
          "R&B",
          "Metal",
          "Hip-Hop",
          "Country",
          "Classical",
          "Pop"
         ],
         "xaxis": "x",
         "y": {
          "bdata": "FAIUAhACBALvAesB5QHkAdsBzgE=",
          "dtype": "i2"
         },
         "yaxis": "y"
        }
       ],
       "layout": {
        "barmode": "relative",
        "coloraxis": {
         "colorbar": {
          "title": {
           "text": "Number of Users"
          }
         },
         "colorscale": [
          [
           0,
           "#440154"
          ],
          [
           0.1111111111111111,
           "#482878"
          ],
          [
           0.2222222222222222,
           "#3e4989"
          ],
          [
           0.3333333333333333,
           "#31688e"
          ],
          [
           0.4444444444444444,
           "#26828e"
          ],
          [
           0.5555555555555556,
           "#1f9e89"
          ],
          [
           0.6666666666666666,
           "#35b779"
          ],
          [
           0.7777777777777778,
           "#6ece58"
          ],
          [
           0.8888888888888888,
           "#b5de2b"
          ],
          [
           1,
           "#fde725"
          ]
         ]
        },
        "height": 500,
        "legend": {
         "tracegroupgap": 0
        },
        "plot_bgcolor": "white",
        "showlegend": false,
        "template": {
         "data": {
          "bar": [
           {
            "error_x": {
             "color": "#2a3f5f"
            },
            "error_y": {
             "color": "#2a3f5f"
            },
            "marker": {
             "line": {
              "color": "#E5ECF6",
              "width": 0.5
             },
             "pattern": {
              "fillmode": "overlay",
              "size": 10,
              "solidity": 0.2
             }
            },
            "type": "bar"
           }
          ],
          "barpolar": [
           {
            "marker": {
             "line": {
              "color": "#E5ECF6",
              "width": 0.5
             },
             "pattern": {
              "fillmode": "overlay",
              "size": 10,
              "solidity": 0.2
             }
            },
            "type": "barpolar"
           }
          ],
          "carpet": [
           {
            "aaxis": {
             "endlinecolor": "#2a3f5f",
             "gridcolor": "white",
             "linecolor": "white",
             "minorgridcolor": "white",
             "startlinecolor": "#2a3f5f"
            },
            "baxis": {
             "endlinecolor": "#2a3f5f",
             "gridcolor": "white",
             "linecolor": "white",
             "minorgridcolor": "white",
             "startlinecolor": "#2a3f5f"
            },
            "type": "carpet"
           }
          ],
          "choropleth": [
           {
            "colorbar": {
             "outlinewidth": 0,
             "ticks": ""
            },
            "type": "choropleth"
           }
          ],
          "contour": [
           {
            "colorbar": {
             "outlinewidth": 0,
             "ticks": ""
            },
            "colorscale": [
             [
              0,
              "#0d0887"
             ],
             [
              0.1111111111111111,
              "#46039f"
             ],
             [
              0.2222222222222222,
              "#7201a8"
             ],
             [
              0.3333333333333333,
              "#9c179e"
             ],
             [
              0.4444444444444444,
              "#bd3786"
             ],
             [
              0.5555555555555556,
              "#d8576b"
             ],
             [
              0.6666666666666666,
              "#ed7953"
             ],
             [
              0.7777777777777778,
              "#fb9f3a"
             ],
             [
              0.8888888888888888,
              "#fdca26"
             ],
             [
              1,
              "#f0f921"
             ]
            ],
            "type": "contour"
           }
          ],
          "contourcarpet": [
           {
            "colorbar": {
             "outlinewidth": 0,
             "ticks": ""
            },
            "type": "contourcarpet"
           }
          ],
          "heatmap": [
           {
            "colorbar": {
             "outlinewidth": 0,
             "ticks": ""
            },
            "colorscale": [
             [
              0,
              "#0d0887"
             ],
             [
              0.1111111111111111,
              "#46039f"
             ],
             [
              0.2222222222222222,
              "#7201a8"
             ],
             [
              0.3333333333333333,
              "#9c179e"
             ],
             [
              0.4444444444444444,
              "#bd3786"
             ],
             [
              0.5555555555555556,
              "#d8576b"
             ],
             [
              0.6666666666666666,
              "#ed7953"
             ],
             [
              0.7777777777777778,
              "#fb9f3a"
             ],
             [
              0.8888888888888888,
              "#fdca26"
             ],
             [
              1,
              "#f0f921"
             ]
            ],
            "type": "heatmap"
           }
          ],
          "histogram": [
           {
            "marker": {
             "pattern": {
              "fillmode": "overlay",
              "size": 10,
              "solidity": 0.2
             }
            },
            "type": "histogram"
           }
          ],
          "histogram2d": [
           {
            "colorbar": {
             "outlinewidth": 0,
             "ticks": ""
            },
            "colorscale": [
             [
              0,
              "#0d0887"
             ],
             [
              0.1111111111111111,
              "#46039f"
             ],
             [
              0.2222222222222222,
              "#7201a8"
             ],
             [
              0.3333333333333333,
              "#9c179e"
             ],
             [
              0.4444444444444444,
              "#bd3786"
             ],
             [
              0.5555555555555556,
              "#d8576b"
             ],
             [
              0.6666666666666666,
              "#ed7953"
             ],
             [
              0.7777777777777778,
              "#fb9f3a"
             ],
             [
              0.8888888888888888,
              "#fdca26"
             ],
             [
              1,
              "#f0f921"
             ]
            ],
            "type": "histogram2d"
           }
          ],
          "histogram2dcontour": [
           {
            "colorbar": {
             "outlinewidth": 0,
             "ticks": ""
            },
            "colorscale": [
             [
              0,
              "#0d0887"
             ],
             [
              0.1111111111111111,
              "#46039f"
             ],
             [
              0.2222222222222222,
              "#7201a8"
             ],
             [
              0.3333333333333333,
              "#9c179e"
             ],
             [
              0.4444444444444444,
              "#bd3786"
             ],
             [
              0.5555555555555556,
              "#d8576b"
             ],
             [
              0.6666666666666666,
              "#ed7953"
             ],
             [
              0.7777777777777778,
              "#fb9f3a"
             ],
             [
              0.8888888888888888,
              "#fdca26"
             ],
             [
              1,
              "#f0f921"
             ]
            ],
            "type": "histogram2dcontour"
           }
          ],
          "mesh3d": [
           {
            "colorbar": {
             "outlinewidth": 0,
             "ticks": ""
            },
            "type": "mesh3d"
           }
          ],
          "parcoords": [
           {
            "line": {
             "colorbar": {
              "outlinewidth": 0,
              "ticks": ""
             }
            },
            "type": "parcoords"
           }
          ],
          "pie": [
           {
            "automargin": true,
            "type": "pie"
           }
          ],
          "scatter": [
           {
            "fillpattern": {
             "fillmode": "overlay",
             "size": 10,
             "solidity": 0.2
            },
            "type": "scatter"
           }
          ],
          "scatter3d": [
           {
            "line": {
             "colorbar": {
              "outlinewidth": 0,
              "ticks": ""
             }
            },
            "marker": {
             "colorbar": {
              "outlinewidth": 0,
              "ticks": ""
             }
            },
            "type": "scatter3d"
           }
          ],
          "scattercarpet": [
           {
            "marker": {
             "colorbar": {
              "outlinewidth": 0,
              "ticks": ""
             }
            },
            "type": "scattercarpet"
           }
          ],
          "scattergeo": [
           {
            "marker": {
             "colorbar": {
              "outlinewidth": 0,
              "ticks": ""
             }
            },
            "type": "scattergeo"
           }
          ],
          "scattergl": [
           {
            "marker": {
             "colorbar": {
              "outlinewidth": 0,
              "ticks": ""
             }
            },
            "type": "scattergl"
           }
          ],
          "scattermap": [
           {
            "marker": {
             "colorbar": {
              "outlinewidth": 0,
              "ticks": ""
             }
            },
            "type": "scattermap"
           }
          ],
          "scattermapbox": [
           {
            "marker": {
             "colorbar": {
              "outlinewidth": 0,
              "ticks": ""
             }
            },
            "type": "scattermapbox"
           }
          ],
          "scatterpolar": [
           {
            "marker": {
             "colorbar": {
              "outlinewidth": 0,
              "ticks": ""
             }
            },
            "type": "scatterpolar"
           }
          ],
          "scatterpolargl": [
           {
            "marker": {
             "colorbar": {
              "outlinewidth": 0,
              "ticks": ""
             }
            },
            "type": "scatterpolargl"
           }
          ],
          "scatterternary": [
           {
            "marker": {
             "colorbar": {
              "outlinewidth": 0,
              "ticks": ""
             }
            },
            "type": "scatterternary"
           }
          ],
          "surface": [
           {
            "colorbar": {
             "outlinewidth": 0,
             "ticks": ""
            },
            "colorscale": [
             [
              0,
              "#0d0887"
             ],
             [
              0.1111111111111111,
              "#46039f"
             ],
             [
              0.2222222222222222,
              "#7201a8"
             ],
             [
              0.3333333333333333,
              "#9c179e"
             ],
             [
              0.4444444444444444,
              "#bd3786"
             ],
             [
              0.5555555555555556,
              "#d8576b"
             ],
             [
              0.6666666666666666,
              "#ed7953"
             ],
             [
              0.7777777777777778,
              "#fb9f3a"
             ],
             [
              0.8888888888888888,
              "#fdca26"
             ],
             [
              1,
              "#f0f921"
             ]
            ],
            "type": "surface"
           }
          ],
          "table": [
           {
            "cells": {
             "fill": {
              "color": "#EBF0F8"
             },
             "line": {
              "color": "white"
             }
            },
            "header": {
             "fill": {
              "color": "#C8D4E3"
             },
             "line": {
              "color": "white"
             }
            },
            "type": "table"
           }
          ]
         },
         "layout": {
          "annotationdefaults": {
           "arrowcolor": "#2a3f5f",
           "arrowhead": 0,
           "arrowwidth": 1
          },
          "autotypenumbers": "strict",
          "coloraxis": {
           "colorbar": {
            "outlinewidth": 0,
            "ticks": ""
           }
          },
          "colorscale": {
           "diverging": [
            [
             0,
             "#8e0152"
            ],
            [
             0.1,
             "#c51b7d"
            ],
            [
             0.2,
             "#de77ae"
            ],
            [
             0.3,
             "#f1b6da"
            ],
            [
             0.4,
             "#fde0ef"
            ],
            [
             0.5,
             "#f7f7f7"
            ],
            [
             0.6,
             "#e6f5d0"
            ],
            [
             0.7,
             "#b8e186"
            ],
            [
             0.8,
             "#7fbc41"
            ],
            [
             0.9,
             "#4d9221"
            ],
            [
             1,
             "#276419"
            ]
           ],
           "sequential": [
            [
             0,
             "#0d0887"
            ],
            [
             0.1111111111111111,
             "#46039f"
            ],
            [
             0.2222222222222222,
             "#7201a8"
            ],
            [
             0.3333333333333333,
             "#9c179e"
            ],
            [
             0.4444444444444444,
             "#bd3786"
            ],
            [
             0.5555555555555556,
             "#d8576b"
            ],
            [
             0.6666666666666666,
             "#ed7953"
            ],
            [
             0.7777777777777778,
             "#fb9f3a"
            ],
            [
             0.8888888888888888,
             "#fdca26"
            ],
            [
             1,
             "#f0f921"
            ]
           ],
           "sequentialminus": [
            [
             0,
             "#0d0887"
            ],
            [
             0.1111111111111111,
             "#46039f"
            ],
            [
             0.2222222222222222,
             "#7201a8"
            ],
            [
             0.3333333333333333,
             "#9c179e"
            ],
            [
             0.4444444444444444,
             "#bd3786"
            ],
            [
             0.5555555555555556,
             "#d8576b"
            ],
            [
             0.6666666666666666,
             "#ed7953"
            ],
            [
             0.7777777777777778,
             "#fb9f3a"
            ],
            [
             0.8888888888888888,
             "#fdca26"
            ],
            [
             1,
             "#f0f921"
            ]
           ]
          },
          "colorway": [
           "#636efa",
           "#EF553B",
           "#00cc96",
           "#ab63fa",
           "#FFA15A",
           "#19d3f3",
           "#FF6692",
           "#B6E880",
           "#FF97FF",
           "#FECB52"
          ],
          "font": {
           "color": "#2a3f5f"
          },
          "geo": {
           "bgcolor": "white",
           "lakecolor": "white",
           "landcolor": "#E5ECF6",
           "showlakes": true,
           "showland": true,
           "subunitcolor": "white"
          },
          "hoverlabel": {
           "align": "left"
          },
          "hovermode": "closest",
          "mapbox": {
           "style": "light"
          },
          "paper_bgcolor": "white",
          "plot_bgcolor": "#E5ECF6",
          "polar": {
           "angularaxis": {
            "gridcolor": "white",
            "linecolor": "white",
            "ticks": ""
           },
           "bgcolor": "#E5ECF6",
           "radialaxis": {
            "gridcolor": "white",
            "linecolor": "white",
            "ticks": ""
           }
          },
          "scene": {
           "xaxis": {
            "backgroundcolor": "#E5ECF6",
            "gridcolor": "white",
            "gridwidth": 2,
            "linecolor": "white",
            "showbackground": true,
            "ticks": "",
            "zerolinecolor": "white"
           },
           "yaxis": {
            "backgroundcolor": "#E5ECF6",
            "gridcolor": "white",
            "gridwidth": 2,
            "linecolor": "white",
            "showbackground": true,
            "ticks": "",
            "zerolinecolor": "white"
           },
           "zaxis": {
            "backgroundcolor": "#E5ECF6",
            "gridcolor": "white",
            "gridwidth": 2,
            "linecolor": "white",
            "showbackground": true,
            "ticks": "",
            "zerolinecolor": "white"
           }
          },
          "shapedefaults": {
           "line": {
            "color": "#2a3f5f"
           }
          },
          "ternary": {
           "aaxis": {
            "gridcolor": "white",
            "linecolor": "white",
            "ticks": ""
           },
           "baxis": {
            "gridcolor": "white",
            "linecolor": "white",
            "ticks": ""
           },
           "bgcolor": "#E5ECF6",
           "caxis": {
            "gridcolor": "white",
            "linecolor": "white",
            "ticks": ""
           }
          },
          "title": {
           "x": 0.05
          },
          "xaxis": {
           "automargin": true,
           "gridcolor": "white",
           "linecolor": "white",
           "ticks": "",
           "title": {
            "standoff": 15
           },
           "zerolinecolor": "white",
           "zerolinewidth": 2
          },
          "yaxis": {
           "automargin": true,
           "gridcolor": "white",
           "linecolor": "white",
           "ticks": "",
           "title": {
            "standoff": 15
           },
           "zerolinecolor": "white",
           "zerolinewidth": 2
          }
         }
        },
        "title": {
         "text": "Top 15 Top Genre Distribution (Interactive)"
        },
        "xaxis": {
         "anchor": "y",
         "domain": [
          0,
          1
         ],
         "gridcolor": "lightgray",
         "tickangle": -45,
         "title": {
          "text": "Top Genre"
         }
        },
        "yaxis": {
         "anchor": "x",
         "domain": [
          0,
          1
         ],
         "gridcolor": "lightgray",
         "title": {
          "text": "Number of Users"
         }
        }
       }
      }
     },
     "metadata": {},
     "output_type": "display_data"
    },
    {
     "name": "stdout",
     "output_type": "stream",
     "text": [
      "Top 5 Top Genre:\n",
      "1. Reggae: 532 users (10.6%)\n",
      "2. Jazz: 532 users (10.6%)\n",
      "3. EDM: 528 users (10.6%)\n",
      "4. Rock: 516 users (10.3%)\n",
      "5. R&B: 495 users (9.9%)\n",
      "Total unique Top Genre: 10\n",
      "Coverage of top 15: 100.0% of users\n",
      "\n",
      "============================================================\n",
      "=== GENRE PREFERENCES BY COUNTRY (INTERACTIVE) ===\n"
     ]
    },
    {
     "data": {
      "application/vnd.plotly.v1+json": {
       "config": {
        "plotlyServerURL": "https://plot.ly"
       },
       "data": [
        {
         "alignmentgroup": "True",
         "customdata": [
          [
           49,
           418,
           "Australia"
          ],
          [
           53,
           393,
           "Brazil"
          ],
          [
           51,
           414,
           "Canada"
          ],
          [
           47,
           416,
           "France"
          ],
          [
           45,
           389,
           "Germany"
          ],
          [
           49,
           395,
           "India"
          ],
          [
           55,
           391,
           "Japan"
          ],
          [
           47,
           434,
           "South Korea"
          ],
          [
           42,
           422,
           "UK"
          ],
          [
           46,
           391,
           "USA"
          ]
         ],
         "hovertemplate": "Top Genre=Country<br>Country=%{customdata[2]}<br>Percentage of Users (%)=%{y}<br>Count=%{customdata[0]}<br>Total=%{customdata[1]}<extra></extra>",
         "legendgroup": "Country",
         "marker": {
          "color": "#636efa",
          "pattern": {
           "shape": ""
          }
         },
         "name": "Country",
         "offsetgroup": "Country",
         "orientation": "v",
         "showlegend": true,
         "textposition": "auto",
         "type": "bar",
         "x": [
          "🇦🇺 Australia",
          "🇧🇷 Brazil",
          "🇨🇦 Canada",
          "🇫🇷 France",
          "🇩🇪 Germany",
          "🇮🇳 India",
          "🇯🇵 Japan",
          "🇰🇷 South Korea",
          "🇬🇧 UK",
          "🇺🇸 USA"
         ],
         "xaxis": "x",
         "y": {
          "bdata": "ZmZmZmZmJ0AAAAAAAAArQJqZmZmZmShAmpmZmZmZJkAzMzMzMzMnQM3MzMzMzChAMzMzMzMzLECamZmZmZklQAAAAAAAACRAmpmZmZmZJ0A=",
          "dtype": "f8"
         },
         "yaxis": "y"
        },
        {
         "alignmentgroup": "True",
         "customdata": [
          [
           53,
           418,
           "Australia"
          ],
          [
           48,
           393,
           "Brazil"
          ],
          [
           59,
           414,
           "Canada"
          ],
          [
           50,
           416,
           "France"
          ],
          [
           71,
           389,
           "Germany"
          ],
          [
           42,
           395,
           "India"
          ],
          [
           48,
           391,
           "Japan"
          ],
          [
           56,
           434,
           "South Korea"
          ],
          [
           42,
           422,
           "UK"
          ],
          [
           59,
           391,
           "USA"
          ]
         ],
         "hovertemplate": "Top Genre=EDM<br>Country=%{customdata[2]}<br>Percentage of Users (%)=%{y}<br>Count=%{customdata[0]}<br>Total=%{customdata[1]}<extra></extra>",
         "legendgroup": "EDM",
         "marker": {
          "color": "#EF553B",
          "pattern": {
           "shape": ""
          }
         },
         "name": "EDM",
         "offsetgroup": "EDM",
         "orientation": "v",
         "showlegend": true,
         "textposition": "auto",
         "type": "bar",
         "x": [
          "🇦🇺 Australia",
          "🇧🇷 Brazil",
          "🇨🇦 Canada",
          "🇫🇷 France",
          "🇩🇪 Germany",
          "🇮🇳 India",
          "🇯🇵 Japan",
          "🇰🇷 South Korea",
          "🇬🇧 UK",
          "🇺🇸 USA"
         ],
         "xaxis": "x",
         "y": {
          "bdata": "ZmZmZmZmKUBmZmZmZmYoQJqZmZmZmSxAAAAAAAAAKEDNzMzMzEwyQDMzMzMzMyVAmpmZmZmZKEDNzMzMzMwpQAAAAAAAACRAMzMzMzMzLkA=",
          "dtype": "f8"
         },
         "yaxis": "y"
        },
        {
         "alignmentgroup": "True",
         "customdata": [
          [
           55,
           418,
           "Australia"
          ],
          [
           39,
           393,
           "Brazil"
          ],
          [
           51,
           414,
           "Canada"
          ],
          [
           52,
           416,
           "France"
          ],
          [
           44,
           389,
           "Germany"
          ],
          [
           54,
           395,
           "India"
          ],
          [
           48,
           391,
           "Japan"
          ],
          [
           61,
           434,
           "South Korea"
          ],
          [
           47,
           422,
           "UK"
          ],
          [
           34,
           391,
           "USA"
          ]
         ],
         "hovertemplate": "Top Genre=Hip-Hop<br>Country=%{customdata[2]}<br>Percentage of Users (%)=%{y}<br>Count=%{customdata[0]}<br>Total=%{customdata[1]}<extra></extra>",
         "legendgroup": "Hip-Hop",
         "marker": {
          "color": "#00cc96",
          "pattern": {
           "shape": ""
          }
         },
         "name": "Hip-Hop",
         "offsetgroup": "Hip-Hop",
         "orientation": "v",
         "showlegend": true,
         "textposition": "auto",
         "type": "bar",
         "x": [
          "🇦🇺 Australia",
          "🇧🇷 Brazil",
          "🇨🇦 Canada",
          "🇫🇷 France",
          "🇩🇪 Germany",
          "🇮🇳 India",
          "🇯🇵 Japan",
          "🇰🇷 South Korea",
          "🇬🇧 UK",
          "🇺🇸 USA"
         ],
         "xaxis": "x",
         "y": {
          "bdata": "ZmZmZmZmKkDNzMzMzMwjQJqZmZmZmShAAAAAAAAAKUCamZmZmZkmQGZmZmZmZitAmpmZmZmZKEAzMzMzMzMsQDMzMzMzMyZAZmZmZmZmIUA=",
          "dtype": "f8"
         },
         "yaxis": "y"
        },
        {
         "alignmentgroup": "True",
         "customdata": [
          [
           60,
           418,
           "Australia"
          ],
          [
           45,
           393,
           "Brazil"
          ],
          [
           57,
           414,
           "Canada"
          ],
          [
           59,
           416,
           "France"
          ],
          [
           44,
           389,
           "Germany"
          ],
          [
           52,
           395,
           "India"
          ],
          [
           57,
           391,
           "Japan"
          ],
          [
           51,
           434,
           "South Korea"
          ],
          [
           56,
           422,
           "UK"
          ],
          [
           51,
           391,
           "USA"
          ]
         ],
         "hovertemplate": "Top Genre=Jazz<br>Country=%{customdata[2]}<br>Percentage of Users (%)=%{y}<br>Count=%{customdata[0]}<br>Total=%{customdata[1]}<extra></extra>",
         "legendgroup": "Jazz",
         "marker": {
          "color": "#ab63fa",
          "pattern": {
           "shape": ""
          }
         },
         "name": "Jazz",
         "offsetgroup": "Jazz",
         "orientation": "v",
         "showlegend": true,
         "textposition": "auto",
         "type": "bar",
         "x": [
          "🇦🇺 Australia",
          "🇧🇷 Brazil",
          "🇨🇦 Canada",
          "🇫🇷 France",
          "🇩🇪 Germany",
          "🇮🇳 India",
          "🇯🇵 Japan",
          "🇰🇷 South Korea",
          "🇬🇧 UK",
          "🇺🇸 USA"
         ],
         "xaxis": "x",
         "y": {
          "bdata": "zczMzMzMLEAAAAAAAAAnQJqZmZmZmStAZmZmZmZmLECamZmZmZkmQGZmZmZmZipAMzMzMzMzLUCamZmZmZknQJqZmZmZmSpAAAAAAAAAKkA=",
          "dtype": "f8"
         },
         "yaxis": "y"
        },
        {
         "alignmentgroup": "True",
         "customdata": [
          [
           43,
           418,
           "Australia"
          ],
          [
           44,
           393,
           "Brazil"
          ],
          [
           38,
           414,
           "Canada"
          ],
          [
           51,
           416,
           "France"
          ],
          [
           56,
           389,
           "Germany"
          ],
          [
           45,
           395,
           "India"
          ],
          [
           51,
           391,
           "Japan"
          ],
          [
           52,
           434,
           "South Korea"
          ],
          [
           58,
           422,
           "UK"
          ],
          [
           53,
           391,
           "USA"
          ]
         ],
         "hovertemplate": "Top Genre=Metal<br>Country=%{customdata[2]}<br>Percentage of Users (%)=%{y}<br>Count=%{customdata[0]}<br>Total=%{customdata[1]}<extra></extra>",
         "legendgroup": "Metal",
         "marker": {
          "color": "#FFA15A",
          "pattern": {
           "shape": ""
          }
         },
         "name": "Metal",
         "offsetgroup": "Metal",
         "orientation": "v",
         "showlegend": true,
         "textposition": "auto",
         "type": "bar",
         "x": [
          "🇦🇺 Australia",
          "🇧🇷 Brazil",
          "🇨🇦 Canada",
          "🇫🇷 France",
          "🇩🇪 Germany",
          "🇮🇳 India",
          "🇯🇵 Japan",
          "🇰🇷 South Korea",
          "🇬🇧 UK",
          "🇺🇸 USA"
         ],
         "xaxis": "x",
         "y": {
          "bdata": "mpmZmZmZJEBmZmZmZmYmQGZmZmZmZiJAmpmZmZmZKEDNzMzMzMwsQM3MzMzMzCZAAAAAAAAAKkAAAAAAAAAoQGZmZmZmZitAMzMzMzMzK0A=",
          "dtype": "f8"
         },
         "yaxis": "y"
        },
        {
         "alignmentgroup": "True",
         "customdata": [
          [
           48,
           418,
           "Australia"
          ],
          [
           57,
           393,
           "Brazil"
          ],
          [
           54,
           414,
           "Canada"
          ],
          [
           51,
           416,
           "France"
          ],
          [
           50,
           389,
           "Germany"
          ],
          [
           45,
           395,
           "India"
          ],
          [
           41,
           391,
           "Japan"
          ],
          [
           52,
           434,
           "South Korea"
          ],
          [
           59,
           422,
           "UK"
          ],
          [
           38,
           391,
           "USA"
          ]
         ],
         "hovertemplate": "Top Genre=R&B<br>Country=%{customdata[2]}<br>Percentage of Users (%)=%{y}<br>Count=%{customdata[0]}<br>Total=%{customdata[1]}<extra></extra>",
         "legendgroup": "R&B",
         "marker": {
          "color": "#19d3f3",
          "pattern": {
           "shape": ""
          }
         },
         "name": "R&B",
         "offsetgroup": "R&B",
         "orientation": "v",
         "showlegend": true,
         "textposition": "auto",
         "type": "bar",
         "x": [
          "🇦🇺 Australia",
          "🇧🇷 Brazil",
          "🇨🇦 Canada",
          "🇫🇷 France",
          "🇩🇪 Germany",
          "🇮🇳 India",
          "🇯🇵 Japan",
          "🇰🇷 South Korea",
          "🇬🇧 UK",
          "🇺🇸 USA"
         ],
         "xaxis": "x",
         "y": {
          "bdata": "AAAAAAAAJ0AAAAAAAAAtQAAAAAAAACpAmpmZmZmZKEDNzMzMzMwpQM3MzMzMzCZAAAAAAAAAJUAAAAAAAAAoQAAAAAAAACxAZmZmZmZmI0A=",
          "dtype": "f8"
         },
         "yaxis": "y"
        },
        {
         "alignmentgroup": "True",
         "customdata": [
          [
           55,
           418,
           "Australia"
          ],
          [
           46,
           393,
           "Brazil"
          ],
          [
           55,
           414,
           "Canada"
          ],
          [
           55,
           416,
           "France"
          ],
          [
           37,
           389,
           "Germany"
          ],
          [
           62,
           395,
           "India"
          ],
          [
           49,
           391,
           "Japan"
          ],
          [
           51,
           434,
           "South Korea"
          ],
          [
           63,
           422,
           "UK"
          ],
          [
           59,
           391,
           "USA"
          ]
         ],
         "hovertemplate": "Top Genre=Reggae<br>Country=%{customdata[2]}<br>Percentage of Users (%)=%{y}<br>Count=%{customdata[0]}<br>Total=%{customdata[1]}<extra></extra>",
         "legendgroup": "Reggae",
         "marker": {
          "color": "#FF6692",
          "pattern": {
           "shape": ""
          }
         },
         "name": "Reggae",
         "offsetgroup": "Reggae",
         "orientation": "v",
         "showlegend": true,
         "textposition": "auto",
         "type": "bar",
         "x": [
          "🇦🇺 Australia",
          "🇧🇷 Brazil",
          "🇨🇦 Canada",
          "🇫🇷 France",
          "🇩🇪 Germany",
          "🇮🇳 India",
          "🇯🇵 Japan",
          "🇰🇷 South Korea",
          "🇬🇧 UK",
          "🇺🇸 USA"
         ],
         "xaxis": "x",
         "y": {
          "bdata": "ZmZmZmZmKkBmZmZmZmYnQJqZmZmZmSpAZmZmZmZmKkAAAAAAAAAjQGZmZmZmZi9AAAAAAAAAKUCamZmZmZknQM3MzMzMzC1AMzMzMzMzLkA=",
          "dtype": "f8"
         },
         "yaxis": "y"
        },
        {
         "alignmentgroup": "True",
         "customdata": [
          [
           55,
           418,
           "Australia"
          ],
          [
           61,
           393,
           "Brazil"
          ],
          [
           49,
           414,
           "Canada"
          ],
          [
           51,
           416,
           "France"
          ],
          [
           42,
           389,
           "Germany"
          ],
          [
           46,
           395,
           "India"
          ],
          [
           42,
           391,
           "Japan"
          ],
          [
           64,
           434,
           "South Korea"
          ],
          [
           55,
           422,
           "UK"
          ],
          [
           51,
           391,
           "USA"
          ]
         ],
         "hovertemplate": "Top Genre=Rock<br>Country=%{customdata[2]}<br>Percentage of Users (%)=%{y}<br>Count=%{customdata[0]}<br>Total=%{customdata[1]}<extra></extra>",
         "legendgroup": "Rock",
         "marker": {
          "color": "#B6E880",
          "pattern": {
           "shape": ""
          }
         },
         "name": "Rock",
         "offsetgroup": "Rock",
         "orientation": "v",
         "showlegend": true,
         "textposition": "auto",
         "type": "bar",
         "x": [
          "🇦🇺 Australia",
          "🇧🇷 Brazil",
          "🇨🇦 Canada",
          "🇫🇷 France",
          "🇩🇪 Germany",
          "🇮🇳 India",
          "🇯🇵 Japan",
          "🇰🇷 South Korea",
          "🇬🇧 UK",
          "🇺🇸 USA"
         ],
         "xaxis": "x",
         "y": {
          "bdata": "ZmZmZmZmKkAAAAAAAAAvQJqZmZmZmSdAmpmZmZmZKECamZmZmZklQDMzMzMzMydAZmZmZmZmJUBmZmZmZmYtQAAAAAAAACpAAAAAAAAAKkA=",
          "dtype": "f8"
         },
         "yaxis": "y"
        }
       ],
       "layout": {
        "barmode": "group",
        "height": 600,
        "legend": {
         "orientation": "v",
         "title": {
          "text": "Top Genre"
         },
         "tracegroupgap": 0,
         "x": 1.02,
         "xanchor": "left",
         "y": 1,
         "yanchor": "top"
        },
        "margin": {
         "r": 150
        },
        "plot_bgcolor": "white",
        "template": {
         "data": {
          "bar": [
           {
            "error_x": {
             "color": "#2a3f5f"
            },
            "error_y": {
             "color": "#2a3f5f"
            },
            "marker": {
             "line": {
              "color": "#E5ECF6",
              "width": 0.5
             },
             "pattern": {
              "fillmode": "overlay",
              "size": 10,
              "solidity": 0.2
             }
            },
            "type": "bar"
           }
          ],
          "barpolar": [
           {
            "marker": {
             "line": {
              "color": "#E5ECF6",
              "width": 0.5
             },
             "pattern": {
              "fillmode": "overlay",
              "size": 10,
              "solidity": 0.2
             }
            },
            "type": "barpolar"
           }
          ],
          "carpet": [
           {
            "aaxis": {
             "endlinecolor": "#2a3f5f",
             "gridcolor": "white",
             "linecolor": "white",
             "minorgridcolor": "white",
             "startlinecolor": "#2a3f5f"
            },
            "baxis": {
             "endlinecolor": "#2a3f5f",
             "gridcolor": "white",
             "linecolor": "white",
             "minorgridcolor": "white",
             "startlinecolor": "#2a3f5f"
            },
            "type": "carpet"
           }
          ],
          "choropleth": [
           {
            "colorbar": {
             "outlinewidth": 0,
             "ticks": ""
            },
            "type": "choropleth"
           }
          ],
          "contour": [
           {
            "colorbar": {
             "outlinewidth": 0,
             "ticks": ""
            },
            "colorscale": [
             [
              0,
              "#0d0887"
             ],
             [
              0.1111111111111111,
              "#46039f"
             ],
             [
              0.2222222222222222,
              "#7201a8"
             ],
             [
              0.3333333333333333,
              "#9c179e"
             ],
             [
              0.4444444444444444,
              "#bd3786"
             ],
             [
              0.5555555555555556,
              "#d8576b"
             ],
             [
              0.6666666666666666,
              "#ed7953"
             ],
             [
              0.7777777777777778,
              "#fb9f3a"
             ],
             [
              0.8888888888888888,
              "#fdca26"
             ],
             [
              1,
              "#f0f921"
             ]
            ],
            "type": "contour"
           }
          ],
          "contourcarpet": [
           {
            "colorbar": {
             "outlinewidth": 0,
             "ticks": ""
            },
            "type": "contourcarpet"
           }
          ],
          "heatmap": [
           {
            "colorbar": {
             "outlinewidth": 0,
             "ticks": ""
            },
            "colorscale": [
             [
              0,
              "#0d0887"
             ],
             [
              0.1111111111111111,
              "#46039f"
             ],
             [
              0.2222222222222222,
              "#7201a8"
             ],
             [
              0.3333333333333333,
              "#9c179e"
             ],
             [
              0.4444444444444444,
              "#bd3786"
             ],
             [
              0.5555555555555556,
              "#d8576b"
             ],
             [
              0.6666666666666666,
              "#ed7953"
             ],
             [
              0.7777777777777778,
              "#fb9f3a"
             ],
             [
              0.8888888888888888,
              "#fdca26"
             ],
             [
              1,
              "#f0f921"
             ]
            ],
            "type": "heatmap"
           }
          ],
          "histogram": [
           {
            "marker": {
             "pattern": {
              "fillmode": "overlay",
              "size": 10,
              "solidity": 0.2
             }
            },
            "type": "histogram"
           }
          ],
          "histogram2d": [
           {
            "colorbar": {
             "outlinewidth": 0,
             "ticks": ""
            },
            "colorscale": [
             [
              0,
              "#0d0887"
             ],
             [
              0.1111111111111111,
              "#46039f"
             ],
             [
              0.2222222222222222,
              "#7201a8"
             ],
             [
              0.3333333333333333,
              "#9c179e"
             ],
             [
              0.4444444444444444,
              "#bd3786"
             ],
             [
              0.5555555555555556,
              "#d8576b"
             ],
             [
              0.6666666666666666,
              "#ed7953"
             ],
             [
              0.7777777777777778,
              "#fb9f3a"
             ],
             [
              0.8888888888888888,
              "#fdca26"
             ],
             [
              1,
              "#f0f921"
             ]
            ],
            "type": "histogram2d"
           }
          ],
          "histogram2dcontour": [
           {
            "colorbar": {
             "outlinewidth": 0,
             "ticks": ""
            },
            "colorscale": [
             [
              0,
              "#0d0887"
             ],
             [
              0.1111111111111111,
              "#46039f"
             ],
             [
              0.2222222222222222,
              "#7201a8"
             ],
             [
              0.3333333333333333,
              "#9c179e"
             ],
             [
              0.4444444444444444,
              "#bd3786"
             ],
             [
              0.5555555555555556,
              "#d8576b"
             ],
             [
              0.6666666666666666,
              "#ed7953"
             ],
             [
              0.7777777777777778,
              "#fb9f3a"
             ],
             [
              0.8888888888888888,
              "#fdca26"
             ],
             [
              1,
              "#f0f921"
             ]
            ],
            "type": "histogram2dcontour"
           }
          ],
          "mesh3d": [
           {
            "colorbar": {
             "outlinewidth": 0,
             "ticks": ""
            },
            "type": "mesh3d"
           }
          ],
          "parcoords": [
           {
            "line": {
             "colorbar": {
              "outlinewidth": 0,
              "ticks": ""
             }
            },
            "type": "parcoords"
           }
          ],
          "pie": [
           {
            "automargin": true,
            "type": "pie"
           }
          ],
          "scatter": [
           {
            "fillpattern": {
             "fillmode": "overlay",
             "size": 10,
             "solidity": 0.2
            },
            "type": "scatter"
           }
          ],
          "scatter3d": [
           {
            "line": {
             "colorbar": {
              "outlinewidth": 0,
              "ticks": ""
             }
            },
            "marker": {
             "colorbar": {
              "outlinewidth": 0,
              "ticks": ""
             }
            },
            "type": "scatter3d"
           }
          ],
          "scattercarpet": [
           {
            "marker": {
             "colorbar": {
              "outlinewidth": 0,
              "ticks": ""
             }
            },
            "type": "scattercarpet"
           }
          ],
          "scattergeo": [
           {
            "marker": {
             "colorbar": {
              "outlinewidth": 0,
              "ticks": ""
             }
            },
            "type": "scattergeo"
           }
          ],
          "scattergl": [
           {
            "marker": {
             "colorbar": {
              "outlinewidth": 0,
              "ticks": ""
             }
            },
            "type": "scattergl"
           }
          ],
          "scattermap": [
           {
            "marker": {
             "colorbar": {
              "outlinewidth": 0,
              "ticks": ""
             }
            },
            "type": "scattermap"
           }
          ],
          "scattermapbox": [
           {
            "marker": {
             "colorbar": {
              "outlinewidth": 0,
              "ticks": ""
             }
            },
            "type": "scattermapbox"
           }
          ],
          "scatterpolar": [
           {
            "marker": {
             "colorbar": {
              "outlinewidth": 0,
              "ticks": ""
             }
            },
            "type": "scatterpolar"
           }
          ],
          "scatterpolargl": [
           {
            "marker": {
             "colorbar": {
              "outlinewidth": 0,
              "ticks": ""
             }
            },
            "type": "scatterpolargl"
           }
          ],
          "scatterternary": [
           {
            "marker": {
             "colorbar": {
              "outlinewidth": 0,
              "ticks": ""
             }
            },
            "type": "scatterternary"
           }
          ],
          "surface": [
           {
            "colorbar": {
             "outlinewidth": 0,
             "ticks": ""
            },
            "colorscale": [
             [
              0,
              "#0d0887"
             ],
             [
              0.1111111111111111,
              "#46039f"
             ],
             [
              0.2222222222222222,
              "#7201a8"
             ],
             [
              0.3333333333333333,
              "#9c179e"
             ],
             [
              0.4444444444444444,
              "#bd3786"
             ],
             [
              0.5555555555555556,
              "#d8576b"
             ],
             [
              0.6666666666666666,
              "#ed7953"
             ],
             [
              0.7777777777777778,
              "#fb9f3a"
             ],
             [
              0.8888888888888888,
              "#fdca26"
             ],
             [
              1,
              "#f0f921"
             ]
            ],
            "type": "surface"
           }
          ],
          "table": [
           {
            "cells": {
             "fill": {
              "color": "#EBF0F8"
             },
             "line": {
              "color": "white"
             }
            },
            "header": {
             "fill": {
              "color": "#C8D4E3"
             },
             "line": {
              "color": "white"
             }
            },
            "type": "table"
           }
          ]
         },
         "layout": {
          "annotationdefaults": {
           "arrowcolor": "#2a3f5f",
           "arrowhead": 0,
           "arrowwidth": 1
          },
          "autotypenumbers": "strict",
          "coloraxis": {
           "colorbar": {
            "outlinewidth": 0,
            "ticks": ""
           }
          },
          "colorscale": {
           "diverging": [
            [
             0,
             "#8e0152"
            ],
            [
             0.1,
             "#c51b7d"
            ],
            [
             0.2,
             "#de77ae"
            ],
            [
             0.3,
             "#f1b6da"
            ],
            [
             0.4,
             "#fde0ef"
            ],
            [
             0.5,
             "#f7f7f7"
            ],
            [
             0.6,
             "#e6f5d0"
            ],
            [
             0.7,
             "#b8e186"
            ],
            [
             0.8,
             "#7fbc41"
            ],
            [
             0.9,
             "#4d9221"
            ],
            [
             1,
             "#276419"
            ]
           ],
           "sequential": [
            [
             0,
             "#0d0887"
            ],
            [
             0.1111111111111111,
             "#46039f"
            ],
            [
             0.2222222222222222,
             "#7201a8"
            ],
            [
             0.3333333333333333,
             "#9c179e"
            ],
            [
             0.4444444444444444,
             "#bd3786"
            ],
            [
             0.5555555555555556,
             "#d8576b"
            ],
            [
             0.6666666666666666,
             "#ed7953"
            ],
            [
             0.7777777777777778,
             "#fb9f3a"
            ],
            [
             0.8888888888888888,
             "#fdca26"
            ],
            [
             1,
             "#f0f921"
            ]
           ],
           "sequentialminus": [
            [
             0,
             "#0d0887"
            ],
            [
             0.1111111111111111,
             "#46039f"
            ],
            [
             0.2222222222222222,
             "#7201a8"
            ],
            [
             0.3333333333333333,
             "#9c179e"
            ],
            [
             0.4444444444444444,
             "#bd3786"
            ],
            [
             0.5555555555555556,
             "#d8576b"
            ],
            [
             0.6666666666666666,
             "#ed7953"
            ],
            [
             0.7777777777777778,
             "#fb9f3a"
            ],
            [
             0.8888888888888888,
             "#fdca26"
            ],
            [
             1,
             "#f0f921"
            ]
           ]
          },
          "colorway": [
           "#636efa",
           "#EF553B",
           "#00cc96",
           "#ab63fa",
           "#FFA15A",
           "#19d3f3",
           "#FF6692",
           "#B6E880",
           "#FF97FF",
           "#FECB52"
          ],
          "font": {
           "color": "#2a3f5f"
          },
          "geo": {
           "bgcolor": "white",
           "lakecolor": "white",
           "landcolor": "#E5ECF6",
           "showlakes": true,
           "showland": true,
           "subunitcolor": "white"
          },
          "hoverlabel": {
           "align": "left"
          },
          "hovermode": "closest",
          "mapbox": {
           "style": "light"
          },
          "paper_bgcolor": "white",
          "plot_bgcolor": "#E5ECF6",
          "polar": {
           "angularaxis": {
            "gridcolor": "white",
            "linecolor": "white",
            "ticks": ""
           },
           "bgcolor": "#E5ECF6",
           "radialaxis": {
            "gridcolor": "white",
            "linecolor": "white",
            "ticks": ""
           }
          },
          "scene": {
           "xaxis": {
            "backgroundcolor": "#E5ECF6",
            "gridcolor": "white",
            "gridwidth": 2,
            "linecolor": "white",
            "showbackground": true,
            "ticks": "",
            "zerolinecolor": "white"
           },
           "yaxis": {
            "backgroundcolor": "#E5ECF6",
            "gridcolor": "white",
            "gridwidth": 2,
            "linecolor": "white",
            "showbackground": true,
            "ticks": "",
            "zerolinecolor": "white"
           },
           "zaxis": {
            "backgroundcolor": "#E5ECF6",
            "gridcolor": "white",
            "gridwidth": 2,
            "linecolor": "white",
            "showbackground": true,
            "ticks": "",
            "zerolinecolor": "white"
           }
          },
          "shapedefaults": {
           "line": {
            "color": "#2a3f5f"
           }
          },
          "ternary": {
           "aaxis": {
            "gridcolor": "white",
            "linecolor": "white",
            "ticks": ""
           },
           "baxis": {
            "gridcolor": "white",
            "linecolor": "white",
            "ticks": ""
           },
           "bgcolor": "#E5ECF6",
           "caxis": {
            "gridcolor": "white",
            "linecolor": "white",
            "ticks": ""
           }
          },
          "title": {
           "x": 0.05
          },
          "xaxis": {
           "automargin": true,
           "gridcolor": "white",
           "linecolor": "white",
           "ticks": "",
           "title": {
            "standoff": 15
           },
           "zerolinecolor": "white",
           "zerolinewidth": 2
          },
          "yaxis": {
           "automargin": true,
           "gridcolor": "white",
           "linecolor": "white",
           "ticks": "",
           "title": {
            "standoff": 15
           },
           "zerolinecolor": "white",
           "zerolinewidth": 2
          }
         }
        },
        "title": {
         "text": "Top Genre Preferences by Country (Top 10 Countries, Top 8 Genres)"
        },
        "xaxis": {
         "anchor": "y",
         "domain": [
          0,
          1
         ],
         "gridcolor": "lightgray",
         "tickangle": -45,
         "title": {
          "text": "Country"
         }
        },
        "yaxis": {
         "anchor": "x",
         "domain": [
          0,
          1
         ],
         "gridcolor": "lightgray",
         "title": {
          "text": "Percentage of Users (%)"
         }
        }
       }
      }
     },
     "metadata": {},
     "output_type": "display_data"
    },
    {
     "name": "stdout",
     "output_type": "stream",
     "text": [
      "\n",
      "=== TOP GENRE BY COUNTRY ===\n",
      "🇦🇺 Australia: Jazz (14.4%)\n",
      "🇰🇷 South Korea: Rock (14.7%)\n",
      "🇬🇧 UK: Reggae (14.9%)\n",
      "🇧🇷 Brazil: Rock (15.5%)\n",
      "🇨🇦 Canada: EDM (14.3%)\n",
      "🇫🇷 France: Jazz (14.2%)\n",
      "🇯🇵 Japan: Jazz (14.6%)\n",
      "🇮🇳 India: Reggae (15.7%)\n",
      "🇺🇸 USA: EDM (15.1%)\n",
      "🇩🇪 Germany: EDM (18.3%)\n",
      "\n",
      "=== GENRE DIVERSITY BY COUNTRY ===\n",
      "🇦🇺 Australia: 8 different genres among 418 users\n",
      "🇧🇷 Brazil: 8 different genres among 393 users\n",
      "🇨🇦 Canada: 8 different genres among 414 users\n",
      "🇫🇷 France: 8 different genres among 416 users\n",
      "🇩🇪 Germany: 8 different genres among 389 users\n"
     ]
    }
   ],
   "source": [
    "# Interactive Genre Analysis with Plotly Express\n",
    "print(\"=== INTERACTIVE MUSIC GENRE ANALYSIS ===\")\n",
    "\n",
    "# Find genre-related columns\n",
    "genre_cols = [col for col in df.columns if 'genre' in col.lower() or 'music' in col.lower()]\n",
    "print(f\"Genre-related columns: {genre_cols}\")\n",
    "\n",
    "if genre_cols:\n",
    "    # Analyze genre preferences with interactive Plotly Express charts\n",
    "    for col in genre_cols[:3]:  # Limit to first 3 genre columns\n",
    "        if df[col].dtype == 'object':\n",
    "            print(f\"\\n--- Analysis for {col} ---\")\n",
    "            \n",
    "            # Get top 15 genres for better visualization\n",
    "            genre_counts = df[col].value_counts().head(15)\n",
    "            \n",
    "            # Create DataFrame for Plotly\n",
    "            genre_df = pd.DataFrame({\n",
    "                'Genre': genre_counts.index,\n",
    "                'Count': genre_counts.values,\n",
    "                'Percentage': (genre_counts.values / len(df) * 100).round(1)\n",
    "            })\n",
    "            \n",
    "            # Create interactive bar chart with Plotly Express\n",
    "            fig = px.bar(genre_df, \n",
    "                        x='Genre', \n",
    "                        y='Count',\n",
    "                        title=f'Top 15 {col} Distribution (Interactive)',\n",
    "                        labels={'Count': 'Number of Users', 'Genre': col},\n",
    "                        color='Count',\n",
    "                        color_continuous_scale='viridis',\n",
    "                        text='Count',\n",
    "                        hover_data={'Percentage': True})\n",
    "            \n",
    "            # Update layout for better readability\n",
    "            fig.update_traces(textposition='outside')\n",
    "            fig.update_layout(\n",
    "                xaxis_tickangle=-45,\n",
    "                height=500,\n",
    "                showlegend=False,\n",
    "                xaxis=dict(gridcolor='lightgray'),\n",
    "                yaxis=dict(gridcolor='lightgray'),\n",
    "                plot_bgcolor='white'\n",
    "            )\n",
    "            \n",
    "            fig.show()\n",
    "            \n",
    "            # Print summary statistics\n",
    "            print(f\"Top 5 {col}:\")\n",
    "            for i, (genre, count) in enumerate(genre_counts.head().items(), 1):\n",
    "                percentage = (count / len(df) * 100)\n",
    "                print(f\"{i}. {genre}: {count:,} users ({percentage:.1f}%)\")\n",
    "            \n",
    "            print(f\"Total unique {col}: {df[col].nunique()}\")\n",
    "            print(f\"Coverage of top 15: {genre_counts.head(15).sum() / len(df) * 100:.1f}% of users\")\n",
    "\n",
    "    # --- ADDITIONAL CHART: Genre Distribution by Country ---\n",
    "    print(\"\\n\" + \"=\"*60)\n",
    "    print(\"=== GENRE PREFERENCES BY COUNTRY (INTERACTIVE) ===\")\n",
    "    \n",
    "    if 'Country' in df.columns and genre_cols:\n",
    "        main_genre_col = genre_cols[0]  # Use the first genre column\n",
    "        \n",
    "        # Country flags dictionary for the genre chart\n",
    "        country_flags = {\n",
    "            'Canada': '🇨🇦', 'Australia': '🇦🇺',\n",
    "            'Germany': '🇩🇪', 'France': '🇫🇷', 'Spain': '🇪🇸', 'Italy': '🇮🇹', 'Netherlands': '🇳🇱',\n",
    "            'Sweden': '🇸🇪', 'Norway': '🇳🇴', 'Denmark': '🇩🇰', 'Finland': '🇫🇮', 'Brazil': '🇧🇷',\n",
    "            'Mexico': '🇲🇽', 'Argentina': '🇦🇷', 'Japan': '🇯🇵', 'South Korea': '🇰🇷', 'India': '🇮🇳',\n",
    "            'China': '🇨🇳', 'Russia': '🇷🇺', 'Poland': '🇵🇱', 'Belgium': '🇧🇪', 'Switzerland': '🇨🇭',\n",
    "            'Austria': '🇦🇹', 'Portugal': '🇵🇹', 'Ireland': '🇮🇪', 'New Zealand': '🇳🇿',\n",
    "            'South Africa': '🇿🇦', 'Chile': '🇨🇱', 'Colombia': '🇨🇴', 'Peru': '🇵🇪', 'Turkey': '🇹🇷',\n",
    "            'Greece': '🇬🇷', 'Czech Republic': '🇨🇿', 'Hungary': '🇭🇺', 'Romania': '🇷🇴',\n",
    "            'Thailand': '🇹🇭', 'Vietnam': '🇻🇳', 'Philippines': '🇵🇭', 'Indonesia': '🇮🇩',\n",
    "            'Malaysia': '🇲🇾', 'Singapore': '🇸🇬', 'Israel': '🇮🇱', 'UAE': '🇦🇪',\n",
    "            'Saudi Arabia': '🇸🇦', 'Egypt': '🇪🇬', 'Nigeria': '🇳🇬', 'Kenya': '🇰🇪', 'Morocco': '🇲🇦',\n",
    "            'USA': '🇺🇸', 'UK': '🇬🇧'\n",
    "        }\n",
    "        \n",
    "        # Get top 10 countries and top 8 genres for manageable visualization\n",
    "        top_countries = df['Country'].value_counts().head(10).index.tolist()\n",
    "        top_genres = df[main_genre_col].value_counts().head(8).index.tolist()\n",
    "        \n",
    "        # Filter data for top countries and genres\n",
    "        filtered_df = df[\n",
    "            df['Country'].isin(top_countries) & \n",
    "            df[main_genre_col].isin(top_genres)\n",
    "        ].copy()\n",
    "        \n",
    "        if not filtered_df.empty:\n",
    "            # Create country-genre cross-tabulation\n",
    "            country_genre_counts = filtered_df.groupby(['Country', main_genre_col]).size().reset_index(name='Count')\n",
    "            \n",
    "            # Calculate percentages within each country\n",
    "            country_totals = filtered_df.groupby('Country').size().reset_index(name='Total')\n",
    "            country_genre_counts = country_genre_counts.merge(country_totals, on='Country')\n",
    "            country_genre_counts['Percentage'] = (country_genre_counts['Count'] / country_genre_counts['Total'] * 100).round(1)\n",
    "            \n",
    "            # Add country flags to country names\n",
    "            country_genre_counts['Country_Flag'] = country_genre_counts['Country'].apply(\n",
    "                lambda x: f\"{country_flags.get(x, '🌍')} {x}\"\n",
    "            )\n",
    "            \n",
    "            # Create interactive grouped bar chart\n",
    "            fig_country = px.bar(\n",
    "                country_genre_counts,\n",
    "                x='Country_Flag',\n",
    "                y='Percentage',\n",
    "                color=main_genre_col,\n",
    "                title=f'{main_genre_col} Preferences by Country (Top 10 Countries, Top 8 Genres)',\n",
    "                labels={'Percentage': 'Percentage of Users (%)', 'Country_Flag': 'Country'},\n",
    "                barmode='group',\n",
    "                hover_data={'Count': True, 'Total': True, 'Country': True}\n",
    "            )\n",
    "            \n",
    "            # Update layout\n",
    "            fig_country.update_layout(\n",
    "                xaxis_tickangle=-45,\n",
    "                height=600,\n",
    "                legend=dict(\n",
    "                    orientation=\"v\",\n",
    "                    yanchor=\"top\",\n",
    "                    y=1,\n",
    "                    xanchor=\"left\",\n",
    "                    x=1.02\n",
    "                ),\n",
    "                xaxis=dict(gridcolor='lightgray'),\n",
    "                yaxis=dict(gridcolor='lightgray'),\n",
    "                plot_bgcolor='white',\n",
    "                margin=dict(r=150)  # Extra margin for legend\n",
    "            )\n",
    "            \n",
    "            fig_country.show()\n",
    "            \n",
    "            # Print country-genre insights\n",
    "            print(f\"\\n=== TOP GENRE BY COUNTRY ===\")\n",
    "            for country in top_countries:\n",
    "                country_data = country_genre_counts[country_genre_counts['Country'] == country]\n",
    "                if not country_data.empty:\n",
    "                    top_genre_row = country_data.loc[country_data['Percentage'].idxmax()]\n",
    "                    flag = country_flags.get(country, '🌍')\n",
    "                    print(f\"{flag} {country}: {top_genre_row[main_genre_col]} ({top_genre_row['Percentage']:.1f}%)\")\n",
    "            \n",
    "            # Genre diversity by country\n",
    "            print(f\"\\n=== GENRE DIVERSITY BY COUNTRY ===\")\n",
    "            genre_diversity = filtered_df.groupby('Country')[main_genre_col].nunique().sort_values(ascending=False)\n",
    "            for country, diversity in genre_diversity.head().items():\n",
    "                total_users = filtered_df[filtered_df['Country'] == country].shape[0]\n",
    "                flag = country_flags.get(country, '🌍')\n",
    "                print(f\"{flag} {country}: {diversity} different genres among {total_users:,} users\")\n",
    "        \n",
    "        else:\n",
    "            print(\"❌ Insufficient data for country-genre analysis after filtering.\")\n",
    "    \n",
    "    else:\n",
    "        if 'Country' not in df.columns:\n",
    "            print(\"❌ 'Country' column not found for country-genre analysis.\")\n",
    "        if not genre_cols:\n",
    "            print(\"❌ No genre columns found for country-genre analysis.\")\n",
    "\n",
    "else:\n",
    "    print(\"❌ No genre-related columns found in the dataset.\")"
   ]
  },
  {
   "cell_type": "code",
   "execution_count": 10,
   "id": "temporal-trends",
   "metadata": {},
   "outputs": [
    {
     "name": "stdout",
     "output_type": "stream",
     "text": [
      "=== INTERACTIVE LISTENING TIME PREFERENCES ANALYSIS ===\n",
      "\n",
      "🌍 GLOBAL LISTENING TIME PREFERENCES\n"
     ]
    },
    {
     "data": {
      "application/vnd.plotly.v1+json": {
       "config": {
        "plotlyServerURL": "https://plot.ly"
       },
       "data": [
        {
         "customdata": [
          [
           "Night"
          ],
          [
           "Afternoon"
          ],
          [
           "Morning"
          ]
         ],
         "domain": {
          "x": [
           0,
           1
          ],
          "y": [
           0,
           1
          ]
         },
         "hovertemplate": "<b>%{label}</b><br>Users: %{value:,}<br>Percentage: %{percent}<br><extra></extra>",
         "labels": [
          "Night",
          "Afternoon",
          "Morning"
         ],
         "legendgroup": "",
         "marker": {
          "colors": [
           "#4169E1",
           "#FF8C00",
           "#FFD700"
          ]
         },
         "name": "",
         "showlegend": true,
         "textinfo": "percent+label",
         "textposition": "inside",
         "type": "pie",
         "values": {
          "bdata": "0QZiBlUG",
          "dtype": "i2"
         }
        }
       ],
       "layout": {
        "font": {
         "size": 12
        },
        "height": 500,
        "legend": {
         "orientation": "h",
         "tracegroupgap": 0,
         "x": 0.5,
         "xanchor": "center",
         "y": -0.1,
         "yanchor": "bottom"
        },
        "showlegend": true,
        "template": {
         "data": {
          "bar": [
           {
            "error_x": {
             "color": "#2a3f5f"
            },
            "error_y": {
             "color": "#2a3f5f"
            },
            "marker": {
             "line": {
              "color": "#E5ECF6",
              "width": 0.5
             },
             "pattern": {
              "fillmode": "overlay",
              "size": 10,
              "solidity": 0.2
             }
            },
            "type": "bar"
           }
          ],
          "barpolar": [
           {
            "marker": {
             "line": {
              "color": "#E5ECF6",
              "width": 0.5
             },
             "pattern": {
              "fillmode": "overlay",
              "size": 10,
              "solidity": 0.2
             }
            },
            "type": "barpolar"
           }
          ],
          "carpet": [
           {
            "aaxis": {
             "endlinecolor": "#2a3f5f",
             "gridcolor": "white",
             "linecolor": "white",
             "minorgridcolor": "white",
             "startlinecolor": "#2a3f5f"
            },
            "baxis": {
             "endlinecolor": "#2a3f5f",
             "gridcolor": "white",
             "linecolor": "white",
             "minorgridcolor": "white",
             "startlinecolor": "#2a3f5f"
            },
            "type": "carpet"
           }
          ],
          "choropleth": [
           {
            "colorbar": {
             "outlinewidth": 0,
             "ticks": ""
            },
            "type": "choropleth"
           }
          ],
          "contour": [
           {
            "colorbar": {
             "outlinewidth": 0,
             "ticks": ""
            },
            "colorscale": [
             [
              0,
              "#0d0887"
             ],
             [
              0.1111111111111111,
              "#46039f"
             ],
             [
              0.2222222222222222,
              "#7201a8"
             ],
             [
              0.3333333333333333,
              "#9c179e"
             ],
             [
              0.4444444444444444,
              "#bd3786"
             ],
             [
              0.5555555555555556,
              "#d8576b"
             ],
             [
              0.6666666666666666,
              "#ed7953"
             ],
             [
              0.7777777777777778,
              "#fb9f3a"
             ],
             [
              0.8888888888888888,
              "#fdca26"
             ],
             [
              1,
              "#f0f921"
             ]
            ],
            "type": "contour"
           }
          ],
          "contourcarpet": [
           {
            "colorbar": {
             "outlinewidth": 0,
             "ticks": ""
            },
            "type": "contourcarpet"
           }
          ],
          "heatmap": [
           {
            "colorbar": {
             "outlinewidth": 0,
             "ticks": ""
            },
            "colorscale": [
             [
              0,
              "#0d0887"
             ],
             [
              0.1111111111111111,
              "#46039f"
             ],
             [
              0.2222222222222222,
              "#7201a8"
             ],
             [
              0.3333333333333333,
              "#9c179e"
             ],
             [
              0.4444444444444444,
              "#bd3786"
             ],
             [
              0.5555555555555556,
              "#d8576b"
             ],
             [
              0.6666666666666666,
              "#ed7953"
             ],
             [
              0.7777777777777778,
              "#fb9f3a"
             ],
             [
              0.8888888888888888,
              "#fdca26"
             ],
             [
              1,
              "#f0f921"
             ]
            ],
            "type": "heatmap"
           }
          ],
          "histogram": [
           {
            "marker": {
             "pattern": {
              "fillmode": "overlay",
              "size": 10,
              "solidity": 0.2
             }
            },
            "type": "histogram"
           }
          ],
          "histogram2d": [
           {
            "colorbar": {
             "outlinewidth": 0,
             "ticks": ""
            },
            "colorscale": [
             [
              0,
              "#0d0887"
             ],
             [
              0.1111111111111111,
              "#46039f"
             ],
             [
              0.2222222222222222,
              "#7201a8"
             ],
             [
              0.3333333333333333,
              "#9c179e"
             ],
             [
              0.4444444444444444,
              "#bd3786"
             ],
             [
              0.5555555555555556,
              "#d8576b"
             ],
             [
              0.6666666666666666,
              "#ed7953"
             ],
             [
              0.7777777777777778,
              "#fb9f3a"
             ],
             [
              0.8888888888888888,
              "#fdca26"
             ],
             [
              1,
              "#f0f921"
             ]
            ],
            "type": "histogram2d"
           }
          ],
          "histogram2dcontour": [
           {
            "colorbar": {
             "outlinewidth": 0,
             "ticks": ""
            },
            "colorscale": [
             [
              0,
              "#0d0887"
             ],
             [
              0.1111111111111111,
              "#46039f"
             ],
             [
              0.2222222222222222,
              "#7201a8"
             ],
             [
              0.3333333333333333,
              "#9c179e"
             ],
             [
              0.4444444444444444,
              "#bd3786"
             ],
             [
              0.5555555555555556,
              "#d8576b"
             ],
             [
              0.6666666666666666,
              "#ed7953"
             ],
             [
              0.7777777777777778,
              "#fb9f3a"
             ],
             [
              0.8888888888888888,
              "#fdca26"
             ],
             [
              1,
              "#f0f921"
             ]
            ],
            "type": "histogram2dcontour"
           }
          ],
          "mesh3d": [
           {
            "colorbar": {
             "outlinewidth": 0,
             "ticks": ""
            },
            "type": "mesh3d"
           }
          ],
          "parcoords": [
           {
            "line": {
             "colorbar": {
              "outlinewidth": 0,
              "ticks": ""
             }
            },
            "type": "parcoords"
           }
          ],
          "pie": [
           {
            "automargin": true,
            "type": "pie"
           }
          ],
          "scatter": [
           {
            "fillpattern": {
             "fillmode": "overlay",
             "size": 10,
             "solidity": 0.2
            },
            "type": "scatter"
           }
          ],
          "scatter3d": [
           {
            "line": {
             "colorbar": {
              "outlinewidth": 0,
              "ticks": ""
             }
            },
            "marker": {
             "colorbar": {
              "outlinewidth": 0,
              "ticks": ""
             }
            },
            "type": "scatter3d"
           }
          ],
          "scattercarpet": [
           {
            "marker": {
             "colorbar": {
              "outlinewidth": 0,
              "ticks": ""
             }
            },
            "type": "scattercarpet"
           }
          ],
          "scattergeo": [
           {
            "marker": {
             "colorbar": {
              "outlinewidth": 0,
              "ticks": ""
             }
            },
            "type": "scattergeo"
           }
          ],
          "scattergl": [
           {
            "marker": {
             "colorbar": {
              "outlinewidth": 0,
              "ticks": ""
             }
            },
            "type": "scattergl"
           }
          ],
          "scattermap": [
           {
            "marker": {
             "colorbar": {
              "outlinewidth": 0,
              "ticks": ""
             }
            },
            "type": "scattermap"
           }
          ],
          "scattermapbox": [
           {
            "marker": {
             "colorbar": {
              "outlinewidth": 0,
              "ticks": ""
             }
            },
            "type": "scattermapbox"
           }
          ],
          "scatterpolar": [
           {
            "marker": {
             "colorbar": {
              "outlinewidth": 0,
              "ticks": ""
             }
            },
            "type": "scatterpolar"
           }
          ],
          "scatterpolargl": [
           {
            "marker": {
             "colorbar": {
              "outlinewidth": 0,
              "ticks": ""
             }
            },
            "type": "scatterpolargl"
           }
          ],
          "scatterternary": [
           {
            "marker": {
             "colorbar": {
              "outlinewidth": 0,
              "ticks": ""
             }
            },
            "type": "scatterternary"
           }
          ],
          "surface": [
           {
            "colorbar": {
             "outlinewidth": 0,
             "ticks": ""
            },
            "colorscale": [
             [
              0,
              "#0d0887"
             ],
             [
              0.1111111111111111,
              "#46039f"
             ],
             [
              0.2222222222222222,
              "#7201a8"
             ],
             [
              0.3333333333333333,
              "#9c179e"
             ],
             [
              0.4444444444444444,
              "#bd3786"
             ],
             [
              0.5555555555555556,
              "#d8576b"
             ],
             [
              0.6666666666666666,
              "#ed7953"
             ],
             [
              0.7777777777777778,
              "#fb9f3a"
             ],
             [
              0.8888888888888888,
              "#fdca26"
             ],
             [
              1,
              "#f0f921"
             ]
            ],
            "type": "surface"
           }
          ],
          "table": [
           {
            "cells": {
             "fill": {
              "color": "#EBF0F8"
             },
             "line": {
              "color": "white"
             }
            },
            "header": {
             "fill": {
              "color": "#C8D4E3"
             },
             "line": {
              "color": "white"
             }
            },
            "type": "table"
           }
          ]
         },
         "layout": {
          "annotationdefaults": {
           "arrowcolor": "#2a3f5f",
           "arrowhead": 0,
           "arrowwidth": 1
          },
          "autotypenumbers": "strict",
          "coloraxis": {
           "colorbar": {
            "outlinewidth": 0,
            "ticks": ""
           }
          },
          "colorscale": {
           "diverging": [
            [
             0,
             "#8e0152"
            ],
            [
             0.1,
             "#c51b7d"
            ],
            [
             0.2,
             "#de77ae"
            ],
            [
             0.3,
             "#f1b6da"
            ],
            [
             0.4,
             "#fde0ef"
            ],
            [
             0.5,
             "#f7f7f7"
            ],
            [
             0.6,
             "#e6f5d0"
            ],
            [
             0.7,
             "#b8e186"
            ],
            [
             0.8,
             "#7fbc41"
            ],
            [
             0.9,
             "#4d9221"
            ],
            [
             1,
             "#276419"
            ]
           ],
           "sequential": [
            [
             0,
             "#0d0887"
            ],
            [
             0.1111111111111111,
             "#46039f"
            ],
            [
             0.2222222222222222,
             "#7201a8"
            ],
            [
             0.3333333333333333,
             "#9c179e"
            ],
            [
             0.4444444444444444,
             "#bd3786"
            ],
            [
             0.5555555555555556,
             "#d8576b"
            ],
            [
             0.6666666666666666,
             "#ed7953"
            ],
            [
             0.7777777777777778,
             "#fb9f3a"
            ],
            [
             0.8888888888888888,
             "#fdca26"
            ],
            [
             1,
             "#f0f921"
            ]
           ],
           "sequentialminus": [
            [
             0,
             "#0d0887"
            ],
            [
             0.1111111111111111,
             "#46039f"
            ],
            [
             0.2222222222222222,
             "#7201a8"
            ],
            [
             0.3333333333333333,
             "#9c179e"
            ],
            [
             0.4444444444444444,
             "#bd3786"
            ],
            [
             0.5555555555555556,
             "#d8576b"
            ],
            [
             0.6666666666666666,
             "#ed7953"
            ],
            [
             0.7777777777777778,
             "#fb9f3a"
            ],
            [
             0.8888888888888888,
             "#fdca26"
            ],
            [
             1,
             "#f0f921"
            ]
           ]
          },
          "colorway": [
           "#636efa",
           "#EF553B",
           "#00cc96",
           "#ab63fa",
           "#FFA15A",
           "#19d3f3",
           "#FF6692",
           "#B6E880",
           "#FF97FF",
           "#FECB52"
          ],
          "font": {
           "color": "#2a3f5f"
          },
          "geo": {
           "bgcolor": "white",
           "lakecolor": "white",
           "landcolor": "#E5ECF6",
           "showlakes": true,
           "showland": true,
           "subunitcolor": "white"
          },
          "hoverlabel": {
           "align": "left"
          },
          "hovermode": "closest",
          "mapbox": {
           "style": "light"
          },
          "paper_bgcolor": "white",
          "plot_bgcolor": "#E5ECF6",
          "polar": {
           "angularaxis": {
            "gridcolor": "white",
            "linecolor": "white",
            "ticks": ""
           },
           "bgcolor": "#E5ECF6",
           "radialaxis": {
            "gridcolor": "white",
            "linecolor": "white",
            "ticks": ""
           }
          },
          "scene": {
           "xaxis": {
            "backgroundcolor": "#E5ECF6",
            "gridcolor": "white",
            "gridwidth": 2,
            "linecolor": "white",
            "showbackground": true,
            "ticks": "",
            "zerolinecolor": "white"
           },
           "yaxis": {
            "backgroundcolor": "#E5ECF6",
            "gridcolor": "white",
            "gridwidth": 2,
            "linecolor": "white",
            "showbackground": true,
            "ticks": "",
            "zerolinecolor": "white"
           },
           "zaxis": {
            "backgroundcolor": "#E5ECF6",
            "gridcolor": "white",
            "gridwidth": 2,
            "linecolor": "white",
            "showbackground": true,
            "ticks": "",
            "zerolinecolor": "white"
           }
          },
          "shapedefaults": {
           "line": {
            "color": "#2a3f5f"
           }
          },
          "ternary": {
           "aaxis": {
            "gridcolor": "white",
            "linecolor": "white",
            "ticks": ""
           },
           "baxis": {
            "gridcolor": "white",
            "linecolor": "white",
            "ticks": ""
           },
           "bgcolor": "#E5ECF6",
           "caxis": {
            "gridcolor": "white",
            "linecolor": "white",
            "ticks": ""
           }
          },
          "title": {
           "x": 0.05
          },
          "xaxis": {
           "automargin": true,
           "gridcolor": "white",
           "linecolor": "white",
           "ticks": "",
           "title": {
            "standoff": 15
           },
           "zerolinecolor": "white",
           "zerolinewidth": 2
          },
          "yaxis": {
           "automargin": true,
           "gridcolor": "white",
           "linecolor": "white",
           "ticks": "",
           "title": {
            "standoff": 15
           },
           "zerolinecolor": "white",
           "zerolinewidth": 2
          }
         }
        },
        "title": {
         "text": "Global Music Listening Preferences by Time of Day"
        }
       }
      }
     },
     "metadata": {},
     "output_type": "display_data"
    },
    {
     "name": "stdout",
     "output_type": "stream",
     "text": [
      "\n",
      "=== GLOBAL INSIGHTS ===\n",
      "🎵 Night: 1,745 users (34.9%)\n",
      "🎵 Afternoon: 1,634 users (32.7%)\n",
      "🎵 Morning: 1,621 users (32.4%)\n",
      "\n",
      "📊 Most popular listening time: Night (34.9%)\n",
      "📊 Least popular listening time: Morning (32.4%)\n",
      "\n",
      "============================================================\n",
      "🌎 LISTENING TIME PREFERENCES BY COUNTRY\n"
     ]
    },
    {
     "data": {
      "application/vnd.plotly.v1+json": {
       "config": {
        "plotlyServerURL": "https://plot.ly"
       },
       "data": [
        {
         "alignmentgroup": "True",
         "hovertemplate": "Listening Time (Morning/Afternoon/Night)=Afternoon<br>Country=%{x}<br>Percentage of Users (%)=%{y}<extra></extra>",
         "legendgroup": "Afternoon",
         "marker": {
          "color": "#FF8C00",
          "pattern": {
           "shape": ""
          }
         },
         "name": "Afternoon",
         "offsetgroup": "Afternoon",
         "orientation": "v",
         "showlegend": true,
         "textposition": "auto",
         "type": "bar",
         "x": [
          "🇦🇺 Australia",
          "🇧🇷 Brazil",
          "🇨🇦 Canada",
          "🇫🇷 France",
          "🇩🇪 Germany",
          "🇮🇳 India",
          "🇯🇵 Japan",
          "🇰🇷 South Korea",
          "🇬🇧 UK",
          "🇺🇸 USA"
         ],
         "xaxis": "x",
         "y": {
          "bdata": "AAAAAACAQUCamZmZmRk+QGZmZmZmJkBAMzMzMzNzQEBmZmZmZiZAQDMzMzMz80FAAAAAAAAAQUAzMzMzM/NAQAAAAAAAgD1AZmZmZmbmPkA=",
          "dtype": "f8"
         },
         "yaxis": "y"
        },
        {
         "alignmentgroup": "True",
         "hovertemplate": "Listening Time (Morning/Afternoon/Night)=Morning<br>Country=%{x}<br>Percentage of Users (%)=%{y}<extra></extra>",
         "legendgroup": "Morning",
         "marker": {
          "color": "#FFD700",
          "pattern": {
           "shape": ""
          }
         },
         "name": "Morning",
         "offsetgroup": "Morning",
         "orientation": "v",
         "showlegend": true,
         "textposition": "auto",
         "type": "bar",
         "x": [
          "🇦🇺 Australia",
          "🇧🇷 Brazil",
          "🇨🇦 Canada",
          "🇫🇷 France",
          "🇩🇪 Germany",
          "🇮🇳 India",
          "🇯🇵 Japan",
          "🇰🇷 South Korea",
          "🇬🇧 UK",
          "🇺🇸 USA"
         ],
         "xaxis": "x",
         "y": {
          "bdata": "MzMzMzOzPUCamZmZmdlAQM3MzMzMDEBAMzMzMzMzPkDNzMzMzIxAQJqZmZmZmT1AMzMzMzOzQUAAAAAAAMBBQJqZmZmZGUBAZmZmZmZmQEA=",
          "dtype": "f8"
         },
         "yaxis": "y"
        },
        {
         "alignmentgroup": "True",
         "hovertemplate": "Listening Time (Morning/Afternoon/Night)=Night<br>Country=%{x}<br>Percentage of Users (%)=%{y}<extra></extra>",
         "legendgroup": "Night",
         "marker": {
          "color": "#4169E1",
          "pattern": {
           "shape": ""
          }
         },
         "name": "Night",
         "offsetgroup": "Night",
         "orientation": "v",
         "showlegend": true,
         "textposition": "auto",
         "type": "bar",
         "x": [
          "🇦🇺 Australia",
          "🇧🇷 Brazil",
          "🇨🇦 Canada",
          "🇫🇷 France",
          "🇩🇪 Germany",
          "🇮🇳 India",
          "🇯🇵 Japan",
          "🇰🇷 South Korea",
          "🇬🇧 UK",
          "🇺🇸 USA"
         ],
         "xaxis": "x",
         "y": {
          "bdata": "MzMzMzOzQUCamZmZmRlCQAAAAAAAwEFAMzMzMzNzQkDNzMzMzExBQAAAAAAAQEFAAAAAAACAPkCamZmZmZk+QDMzMzMzM0NAZmZmZmYmQkA=",
          "dtype": "f8"
         },
         "yaxis": "y"
        }
       ],
       "layout": {
        "barmode": "group",
        "height": 600,
        "legend": {
         "orientation": "h",
         "title": {
          "text": "Listening Time"
         },
         "tracegroupgap": 0,
         "x": 0.5,
         "xanchor": "center",
         "y": -0.15,
         "yanchor": "bottom"
        },
        "margin": {
         "b": 120
        },
        "plot_bgcolor": "white",
        "template": {
         "data": {
          "bar": [
           {
            "error_x": {
             "color": "#2a3f5f"
            },
            "error_y": {
             "color": "#2a3f5f"
            },
            "marker": {
             "line": {
              "color": "#E5ECF6",
              "width": 0.5
             },
             "pattern": {
              "fillmode": "overlay",
              "size": 10,
              "solidity": 0.2
             }
            },
            "type": "bar"
           }
          ],
          "barpolar": [
           {
            "marker": {
             "line": {
              "color": "#E5ECF6",
              "width": 0.5
             },
             "pattern": {
              "fillmode": "overlay",
              "size": 10,
              "solidity": 0.2
             }
            },
            "type": "barpolar"
           }
          ],
          "carpet": [
           {
            "aaxis": {
             "endlinecolor": "#2a3f5f",
             "gridcolor": "white",
             "linecolor": "white",
             "minorgridcolor": "white",
             "startlinecolor": "#2a3f5f"
            },
            "baxis": {
             "endlinecolor": "#2a3f5f",
             "gridcolor": "white",
             "linecolor": "white",
             "minorgridcolor": "white",
             "startlinecolor": "#2a3f5f"
            },
            "type": "carpet"
           }
          ],
          "choropleth": [
           {
            "colorbar": {
             "outlinewidth": 0,
             "ticks": ""
            },
            "type": "choropleth"
           }
          ],
          "contour": [
           {
            "colorbar": {
             "outlinewidth": 0,
             "ticks": ""
            },
            "colorscale": [
             [
              0,
              "#0d0887"
             ],
             [
              0.1111111111111111,
              "#46039f"
             ],
             [
              0.2222222222222222,
              "#7201a8"
             ],
             [
              0.3333333333333333,
              "#9c179e"
             ],
             [
              0.4444444444444444,
              "#bd3786"
             ],
             [
              0.5555555555555556,
              "#d8576b"
             ],
             [
              0.6666666666666666,
              "#ed7953"
             ],
             [
              0.7777777777777778,
              "#fb9f3a"
             ],
             [
              0.8888888888888888,
              "#fdca26"
             ],
             [
              1,
              "#f0f921"
             ]
            ],
            "type": "contour"
           }
          ],
          "contourcarpet": [
           {
            "colorbar": {
             "outlinewidth": 0,
             "ticks": ""
            },
            "type": "contourcarpet"
           }
          ],
          "heatmap": [
           {
            "colorbar": {
             "outlinewidth": 0,
             "ticks": ""
            },
            "colorscale": [
             [
              0,
              "#0d0887"
             ],
             [
              0.1111111111111111,
              "#46039f"
             ],
             [
              0.2222222222222222,
              "#7201a8"
             ],
             [
              0.3333333333333333,
              "#9c179e"
             ],
             [
              0.4444444444444444,
              "#bd3786"
             ],
             [
              0.5555555555555556,
              "#d8576b"
             ],
             [
              0.6666666666666666,
              "#ed7953"
             ],
             [
              0.7777777777777778,
              "#fb9f3a"
             ],
             [
              0.8888888888888888,
              "#fdca26"
             ],
             [
              1,
              "#f0f921"
             ]
            ],
            "type": "heatmap"
           }
          ],
          "histogram": [
           {
            "marker": {
             "pattern": {
              "fillmode": "overlay",
              "size": 10,
              "solidity": 0.2
             }
            },
            "type": "histogram"
           }
          ],
          "histogram2d": [
           {
            "colorbar": {
             "outlinewidth": 0,
             "ticks": ""
            },
            "colorscale": [
             [
              0,
              "#0d0887"
             ],
             [
              0.1111111111111111,
              "#46039f"
             ],
             [
              0.2222222222222222,
              "#7201a8"
             ],
             [
              0.3333333333333333,
              "#9c179e"
             ],
             [
              0.4444444444444444,
              "#bd3786"
             ],
             [
              0.5555555555555556,
              "#d8576b"
             ],
             [
              0.6666666666666666,
              "#ed7953"
             ],
             [
              0.7777777777777778,
              "#fb9f3a"
             ],
             [
              0.8888888888888888,
              "#fdca26"
             ],
             [
              1,
              "#f0f921"
             ]
            ],
            "type": "histogram2d"
           }
          ],
          "histogram2dcontour": [
           {
            "colorbar": {
             "outlinewidth": 0,
             "ticks": ""
            },
            "colorscale": [
             [
              0,
              "#0d0887"
             ],
             [
              0.1111111111111111,
              "#46039f"
             ],
             [
              0.2222222222222222,
              "#7201a8"
             ],
             [
              0.3333333333333333,
              "#9c179e"
             ],
             [
              0.4444444444444444,
              "#bd3786"
             ],
             [
              0.5555555555555556,
              "#d8576b"
             ],
             [
              0.6666666666666666,
              "#ed7953"
             ],
             [
              0.7777777777777778,
              "#fb9f3a"
             ],
             [
              0.8888888888888888,
              "#fdca26"
             ],
             [
              1,
              "#f0f921"
             ]
            ],
            "type": "histogram2dcontour"
           }
          ],
          "mesh3d": [
           {
            "colorbar": {
             "outlinewidth": 0,
             "ticks": ""
            },
            "type": "mesh3d"
           }
          ],
          "parcoords": [
           {
            "line": {
             "colorbar": {
              "outlinewidth": 0,
              "ticks": ""
             }
            },
            "type": "parcoords"
           }
          ],
          "pie": [
           {
            "automargin": true,
            "type": "pie"
           }
          ],
          "scatter": [
           {
            "fillpattern": {
             "fillmode": "overlay",
             "size": 10,
             "solidity": 0.2
            },
            "type": "scatter"
           }
          ],
          "scatter3d": [
           {
            "line": {
             "colorbar": {
              "outlinewidth": 0,
              "ticks": ""
             }
            },
            "marker": {
             "colorbar": {
              "outlinewidth": 0,
              "ticks": ""
             }
            },
            "type": "scatter3d"
           }
          ],
          "scattercarpet": [
           {
            "marker": {
             "colorbar": {
              "outlinewidth": 0,
              "ticks": ""
             }
            },
            "type": "scattercarpet"
           }
          ],
          "scattergeo": [
           {
            "marker": {
             "colorbar": {
              "outlinewidth": 0,
              "ticks": ""
             }
            },
            "type": "scattergeo"
           }
          ],
          "scattergl": [
           {
            "marker": {
             "colorbar": {
              "outlinewidth": 0,
              "ticks": ""
             }
            },
            "type": "scattergl"
           }
          ],
          "scattermap": [
           {
            "marker": {
             "colorbar": {
              "outlinewidth": 0,
              "ticks": ""
             }
            },
            "type": "scattermap"
           }
          ],
          "scattermapbox": [
           {
            "marker": {
             "colorbar": {
              "outlinewidth": 0,
              "ticks": ""
             }
            },
            "type": "scattermapbox"
           }
          ],
          "scatterpolar": [
           {
            "marker": {
             "colorbar": {
              "outlinewidth": 0,
              "ticks": ""
             }
            },
            "type": "scatterpolar"
           }
          ],
          "scatterpolargl": [
           {
            "marker": {
             "colorbar": {
              "outlinewidth": 0,
              "ticks": ""
             }
            },
            "type": "scatterpolargl"
           }
          ],
          "scatterternary": [
           {
            "marker": {
             "colorbar": {
              "outlinewidth": 0,
              "ticks": ""
             }
            },
            "type": "scatterternary"
           }
          ],
          "surface": [
           {
            "colorbar": {
             "outlinewidth": 0,
             "ticks": ""
            },
            "colorscale": [
             [
              0,
              "#0d0887"
             ],
             [
              0.1111111111111111,
              "#46039f"
             ],
             [
              0.2222222222222222,
              "#7201a8"
             ],
             [
              0.3333333333333333,
              "#9c179e"
             ],
             [
              0.4444444444444444,
              "#bd3786"
             ],
             [
              0.5555555555555556,
              "#d8576b"
             ],
             [
              0.6666666666666666,
              "#ed7953"
             ],
             [
              0.7777777777777778,
              "#fb9f3a"
             ],
             [
              0.8888888888888888,
              "#fdca26"
             ],
             [
              1,
              "#f0f921"
             ]
            ],
            "type": "surface"
           }
          ],
          "table": [
           {
            "cells": {
             "fill": {
              "color": "#EBF0F8"
             },
             "line": {
              "color": "white"
             }
            },
            "header": {
             "fill": {
              "color": "#C8D4E3"
             },
             "line": {
              "color": "white"
             }
            },
            "type": "table"
           }
          ]
         },
         "layout": {
          "annotationdefaults": {
           "arrowcolor": "#2a3f5f",
           "arrowhead": 0,
           "arrowwidth": 1
          },
          "autotypenumbers": "strict",
          "coloraxis": {
           "colorbar": {
            "outlinewidth": 0,
            "ticks": ""
           }
          },
          "colorscale": {
           "diverging": [
            [
             0,
             "#8e0152"
            ],
            [
             0.1,
             "#c51b7d"
            ],
            [
             0.2,
             "#de77ae"
            ],
            [
             0.3,
             "#f1b6da"
            ],
            [
             0.4,
             "#fde0ef"
            ],
            [
             0.5,
             "#f7f7f7"
            ],
            [
             0.6,
             "#e6f5d0"
            ],
            [
             0.7,
             "#b8e186"
            ],
            [
             0.8,
             "#7fbc41"
            ],
            [
             0.9,
             "#4d9221"
            ],
            [
             1,
             "#276419"
            ]
           ],
           "sequential": [
            [
             0,
             "#0d0887"
            ],
            [
             0.1111111111111111,
             "#46039f"
            ],
            [
             0.2222222222222222,
             "#7201a8"
            ],
            [
             0.3333333333333333,
             "#9c179e"
            ],
            [
             0.4444444444444444,
             "#bd3786"
            ],
            [
             0.5555555555555556,
             "#d8576b"
            ],
            [
             0.6666666666666666,
             "#ed7953"
            ],
            [
             0.7777777777777778,
             "#fb9f3a"
            ],
            [
             0.8888888888888888,
             "#fdca26"
            ],
            [
             1,
             "#f0f921"
            ]
           ],
           "sequentialminus": [
            [
             0,
             "#0d0887"
            ],
            [
             0.1111111111111111,
             "#46039f"
            ],
            [
             0.2222222222222222,
             "#7201a8"
            ],
            [
             0.3333333333333333,
             "#9c179e"
            ],
            [
             0.4444444444444444,
             "#bd3786"
            ],
            [
             0.5555555555555556,
             "#d8576b"
            ],
            [
             0.6666666666666666,
             "#ed7953"
            ],
            [
             0.7777777777777778,
             "#fb9f3a"
            ],
            [
             0.8888888888888888,
             "#fdca26"
            ],
            [
             1,
             "#f0f921"
            ]
           ]
          },
          "colorway": [
           "#636efa",
           "#EF553B",
           "#00cc96",
           "#ab63fa",
           "#FFA15A",
           "#19d3f3",
           "#FF6692",
           "#B6E880",
           "#FF97FF",
           "#FECB52"
          ],
          "font": {
           "color": "#2a3f5f"
          },
          "geo": {
           "bgcolor": "white",
           "lakecolor": "white",
           "landcolor": "#E5ECF6",
           "showlakes": true,
           "showland": true,
           "subunitcolor": "white"
          },
          "hoverlabel": {
           "align": "left"
          },
          "hovermode": "closest",
          "mapbox": {
           "style": "light"
          },
          "paper_bgcolor": "white",
          "plot_bgcolor": "#E5ECF6",
          "polar": {
           "angularaxis": {
            "gridcolor": "white",
            "linecolor": "white",
            "ticks": ""
           },
           "bgcolor": "#E5ECF6",
           "radialaxis": {
            "gridcolor": "white",
            "linecolor": "white",
            "ticks": ""
           }
          },
          "scene": {
           "xaxis": {
            "backgroundcolor": "#E5ECF6",
            "gridcolor": "white",
            "gridwidth": 2,
            "linecolor": "white",
            "showbackground": true,
            "ticks": "",
            "zerolinecolor": "white"
           },
           "yaxis": {
            "backgroundcolor": "#E5ECF6",
            "gridcolor": "white",
            "gridwidth": 2,
            "linecolor": "white",
            "showbackground": true,
            "ticks": "",
            "zerolinecolor": "white"
           },
           "zaxis": {
            "backgroundcolor": "#E5ECF6",
            "gridcolor": "white",
            "gridwidth": 2,
            "linecolor": "white",
            "showbackground": true,
            "ticks": "",
            "zerolinecolor": "white"
           }
          },
          "shapedefaults": {
           "line": {
            "color": "#2a3f5f"
           }
          },
          "ternary": {
           "aaxis": {
            "gridcolor": "white",
            "linecolor": "white",
            "ticks": ""
           },
           "baxis": {
            "gridcolor": "white",
            "linecolor": "white",
            "ticks": ""
           },
           "bgcolor": "#E5ECF6",
           "caxis": {
            "gridcolor": "white",
            "linecolor": "white",
            "ticks": ""
           }
          },
          "title": {
           "x": 0.05
          },
          "xaxis": {
           "automargin": true,
           "gridcolor": "white",
           "linecolor": "white",
           "ticks": "",
           "title": {
            "standoff": 15
           },
           "zerolinecolor": "white",
           "zerolinewidth": 2
          },
          "yaxis": {
           "automargin": true,
           "gridcolor": "white",
           "linecolor": "white",
           "ticks": "",
           "title": {
            "standoff": 15
           },
           "zerolinecolor": "white",
           "zerolinewidth": 2
          }
         }
        },
        "title": {
         "text": "Music Listening Time Preferences by Country (Top 10 Countries)"
        },
        "xaxis": {
         "anchor": "y",
         "domain": [
          0,
          1
         ],
         "gridcolor": "lightgray",
         "tickangle": -45,
         "title": {
          "text": "Country"
         }
        },
        "yaxis": {
         "anchor": "x",
         "domain": [
          0,
          1
         ],
         "gridcolor": "lightgray",
         "title": {
          "text": "Percentage of Users (%)"
         }
        }
       }
      }
     },
     "metadata": {},
     "output_type": "display_data"
    },
    {
     "name": "stdout",
     "output_type": "stream",
     "text": [
      "\n",
      "=== TOP LISTENING TIME BY COUNTRY ===\n",
      "🇦🇺 Australia: Night (35.4%)\n",
      "🇰🇷 South Korea: Morning (35.5%)\n",
      "🇬🇧 UK: Night (38.4%)\n",
      "🇧🇷 Brazil: Night (36.2%)\n",
      "🇨🇦 Canada: Night (35.5%)\n",
      "🇫🇷 France: Night (36.9%)\n",
      "🇯🇵 Japan: Morning (35.4%)\n",
      "🇮🇳 India: Afternoon (35.9%)\n",
      "🇺🇸 USA: Night (36.3%)\n",
      "🇩🇪 Germany: Night (34.6%)\n",
      "\n",
      "=== TIME PERIOD ANALYSIS ===\n",
      "🎵 Morning leaders: 🇰🇷 South Korea (35.5%)\n",
      "🎵 Afternoon leaders: 🇮🇳 India (35.9%)\n",
      "🎵 Night leaders: 🇬🇧 UK (38.4%)\n",
      "\n",
      "=== LISTENING TIME DIVERSITY BY COUNTRY ===\n",
      "🇦🇺 Australia: All time periods among 526 users\n",
      "🇧🇷 Brazil: All time periods among 508 users\n",
      "🇨🇦 Canada: All time periods among 507 users\n",
      "🇫🇷 France: All time periods among 493 users\n",
      "🇩🇪 Germany: All time periods among 471 users\n",
      "\n",
      "============================================================\n",
      "👥 LISTENING TIME PREFERENCES BY AGE AND GENERATION\n"
     ]
    },
    {
     "data": {
      "application/vnd.plotly.v1+json": {
       "config": {
        "plotlyServerURL": "https://plot.ly"
       },
       "data": [
        {
         "customdata": [
          [
           "Gen Z (13-25)",
           94
          ],
          [
           "Gen Z (13-25)",
           102
          ],
          [
           "Gen Z (13-25)",
           99
          ],
          [
           "Gen Z (13-25)",
           109
          ],
          [
           "Gen Z (13-25)",
           108
          ],
          [
           "Gen Z (13-25)",
           85
          ],
          [
           "Gen Z (13-25)",
           104
          ],
          [
           "Gen Z (13-25)",
           85
          ],
          [
           "Gen Z (13-25)",
           107
          ],
          [
           "Gen Z (13-25)",
           108
          ],
          [
           "Gen Z (13-25)",
           114
          ],
          [
           "Gen Z (13-25)",
           95
          ],
          [
           "Gen Z (13-25)",
           101
          ],
          [
           "Millennials (26-41)",
           105
          ],
          [
           "Millennials (26-41)",
           114
          ],
          [
           "Millennials (26-41)",
           106
          ],
          [
           "Millennials (26-41)",
           107
          ],
          [
           "Millennials (26-41)",
           92
          ],
          [
           "Millennials (26-41)",
           97
          ],
          [
           "Millennials (26-41)",
           126
          ],
          [
           "Millennials (26-41)",
           105
          ],
          [
           "Millennials (26-41)",
           106
          ],
          [
           "Millennials (26-41)",
           109
          ],
          [
           "Millennials (26-41)",
           114
          ],
          [
           "Millennials (26-41)",
           87
          ],
          [
           "Millennials (26-41)",
           121
          ],
          [
           "Millennials (26-41)",
           101
          ],
          [
           "Millennials (26-41)",
           113
          ],
          [
           "Millennials (26-41)",
           100
          ],
          [
           "Gen X (42-60)",
           112
          ],
          [
           "Gen X (42-60)",
           104
          ],
          [
           "Gen X (42-60)",
           94
          ],
          [
           "Gen X (42-60)",
           109
          ],
          [
           "Gen X (42-60)",
           98
          ],
          [
           "Gen X (42-60)",
           111
          ],
          [
           "Gen X (42-60)",
           96
          ],
          [
           "Gen X (42-60)",
           110
          ],
          [
           "Gen X (42-60)",
           96
          ],
          [
           "Gen X (42-60)",
           117
          ],
          [
           "Gen X (42-60)",
           112
          ],
          [
           "Gen X (42-60)",
           104
          ],
          [
           "Gen X (42-60)",
           87
          ],
          [
           "Gen X (42-60)",
           101
          ],
          [
           "Gen X (42-60)",
           113
          ],
          [
           "Gen X (42-60)",
           115
          ],
          [
           "Gen X (42-60)",
           93
          ],
          [
           "Gen X (42-60)",
           106
          ],
          [
           "Gen X (42-60)",
           108
          ]
         ],
         "hovertemplate": "<b>Age %{x}</b><br>Morning: %{y} users<br>Generation: %{customdata[0]}<br>Total Users at Age: %{customdata[1]}<br><extra></extra>",
         "marker": {
          "color": "#FFD700",
          "line": {
           "color": "white",
           "width": 1
          },
          "opacity": 0.8
         },
         "name": "Morning",
         "type": "bar",
         "visible": true,
         "x": {
          "bdata": "DQ4PEBESExQVFhcYGRobHB0eHyAhIiMkJSYnKCkqKywtLi8wMTIzNDU2Nzg5Ojs8",
          "dtype": "i1"
         },
         "y": {
          "bdata": "JBsgIR8jGR8hHikYKCskHysWGiwlJCklICgfIiMmIRsfJSAhJCctGRwXHyUpGCIp",
          "dtype": "i1"
         }
        },
        {
         "customdata": [
          [
           "Gen Z (13-25)",
           94
          ],
          [
           "Gen Z (13-25)",
           102
          ],
          [
           "Gen Z (13-25)",
           99
          ],
          [
           "Gen Z (13-25)",
           109
          ],
          [
           "Gen Z (13-25)",
           108
          ],
          [
           "Gen Z (13-25)",
           85
          ],
          [
           "Gen Z (13-25)",
           104
          ],
          [
           "Gen Z (13-25)",
           85
          ],
          [
           "Gen Z (13-25)",
           107
          ],
          [
           "Gen Z (13-25)",
           108
          ],
          [
           "Gen Z (13-25)",
           114
          ],
          [
           "Gen Z (13-25)",
           95
          ],
          [
           "Gen Z (13-25)",
           101
          ],
          [
           "Millennials (26-41)",
           105
          ],
          [
           "Millennials (26-41)",
           114
          ],
          [
           "Millennials (26-41)",
           106
          ],
          [
           "Millennials (26-41)",
           107
          ],
          [
           "Millennials (26-41)",
           92
          ],
          [
           "Millennials (26-41)",
           97
          ],
          [
           "Millennials (26-41)",
           126
          ],
          [
           "Millennials (26-41)",
           105
          ],
          [
           "Millennials (26-41)",
           106
          ],
          [
           "Millennials (26-41)",
           109
          ],
          [
           "Millennials (26-41)",
           114
          ],
          [
           "Millennials (26-41)",
           87
          ],
          [
           "Millennials (26-41)",
           121
          ],
          [
           "Millennials (26-41)",
           101
          ],
          [
           "Millennials (26-41)",
           113
          ],
          [
           "Millennials (26-41)",
           100
          ],
          [
           "Gen X (42-60)",
           112
          ],
          [
           "Gen X (42-60)",
           104
          ],
          [
           "Gen X (42-60)",
           94
          ],
          [
           "Gen X (42-60)",
           109
          ],
          [
           "Gen X (42-60)",
           98
          ],
          [
           "Gen X (42-60)",
           111
          ],
          [
           "Gen X (42-60)",
           96
          ],
          [
           "Gen X (42-60)",
           110
          ],
          [
           "Gen X (42-60)",
           96
          ],
          [
           "Gen X (42-60)",
           117
          ],
          [
           "Gen X (42-60)",
           112
          ],
          [
           "Gen X (42-60)",
           104
          ],
          [
           "Gen X (42-60)",
           87
          ],
          [
           "Gen X (42-60)",
           101
          ],
          [
           "Gen X (42-60)",
           113
          ],
          [
           "Gen X (42-60)",
           115
          ],
          [
           "Gen X (42-60)",
           93
          ],
          [
           "Gen X (42-60)",
           106
          ],
          [
           "Gen X (42-60)",
           108
          ]
         ],
         "hovertemplate": "<b>Age %{x}</b><br>Afternoon: %{y} users<br>Generation: %{customdata[0]}<br>Total Users at Age: %{customdata[1]}<br><extra></extra>",
         "marker": {
          "color": "#FF8C00",
          "line": {
           "color": "white",
           "width": 1
          },
          "opacity": 0.8
         },
         "name": "Afternoon",
         "type": "bar",
         "visible": true,
         "x": {
          "bdata": "DQ4PEBESExQVFhcYGRobHB0eHyAhIiMkJSYnKCkqKywtLi8wMTIzNDU2Nzg5Ojs8",
          "dtype": "i1"
         },
         "y": {
          "bdata": "HSYcKicZJxknICEpIiEuIBsjKSsdHx0lHCMmLB4cGyEjHSQhKxYhLy0hISMkGRgj",
          "dtype": "i1"
         }
        },
        {
         "customdata": [
          [
           "Gen Z (13-25)",
           94
          ],
          [
           "Gen Z (13-25)",
           102
          ],
          [
           "Gen Z (13-25)",
           99
          ],
          [
           "Gen Z (13-25)",
           109
          ],
          [
           "Gen Z (13-25)",
           108
          ],
          [
           "Gen Z (13-25)",
           85
          ],
          [
           "Gen Z (13-25)",
           104
          ],
          [
           "Gen Z (13-25)",
           85
          ],
          [
           "Gen Z (13-25)",
           107
          ],
          [
           "Gen Z (13-25)",
           108
          ],
          [
           "Gen Z (13-25)",
           114
          ],
          [
           "Gen Z (13-25)",
           95
          ],
          [
           "Gen Z (13-25)",
           101
          ],
          [
           "Millennials (26-41)",
           105
          ],
          [
           "Millennials (26-41)",
           114
          ],
          [
           "Millennials (26-41)",
           106
          ],
          [
           "Millennials (26-41)",
           107
          ],
          [
           "Millennials (26-41)",
           92
          ],
          [
           "Millennials (26-41)",
           97
          ],
          [
           "Millennials (26-41)",
           126
          ],
          [
           "Millennials (26-41)",
           105
          ],
          [
           "Millennials (26-41)",
           106
          ],
          [
           "Millennials (26-41)",
           109
          ],
          [
           "Millennials (26-41)",
           114
          ],
          [
           "Millennials (26-41)",
           87
          ],
          [
           "Millennials (26-41)",
           121
          ],
          [
           "Millennials (26-41)",
           101
          ],
          [
           "Millennials (26-41)",
           113
          ],
          [
           "Millennials (26-41)",
           100
          ],
          [
           "Gen X (42-60)",
           112
          ],
          [
           "Gen X (42-60)",
           104
          ],
          [
           "Gen X (42-60)",
           94
          ],
          [
           "Gen X (42-60)",
           109
          ],
          [
           "Gen X (42-60)",
           98
          ],
          [
           "Gen X (42-60)",
           111
          ],
          [
           "Gen X (42-60)",
           96
          ],
          [
           "Gen X (42-60)",
           110
          ],
          [
           "Gen X (42-60)",
           96
          ],
          [
           "Gen X (42-60)",
           117
          ],
          [
           "Gen X (42-60)",
           112
          ],
          [
           "Gen X (42-60)",
           104
          ],
          [
           "Gen X (42-60)",
           87
          ],
          [
           "Gen X (42-60)",
           101
          ],
          [
           "Gen X (42-60)",
           113
          ],
          [
           "Gen X (42-60)",
           115
          ],
          [
           "Gen X (42-60)",
           93
          ],
          [
           "Gen X (42-60)",
           106
          ],
          [
           "Gen X (42-60)",
           108
          ]
         ],
         "hovertemplate": "<b>Age %{x}</b><br>Night: %{y} users<br>Generation: %{customdata[0]}<br>Total Users at Age: %{customdata[1]}<br><extra></extra>",
         "marker": {
          "color": "#4169E1",
          "line": {
           "color": "white",
           "width": 1
          },
          "opacity": 0.8
         },
         "name": "Night",
         "type": "bar",
         "visible": true,
         "x": {
          "bdata": "DQ4PEBESExQVFhcYGRobHB0eHyAhIiMkJSYnKCkqKywtLi8wMTIzNDU2Nzg5Ojs8",
          "dtype": "i1"
         },
         "y": {
          "bdata": "HSUnIiYZKB0jLigeGx0gKyUjHicnJycoGy4gIyMuLCIrICseHyMnKB8fJSkmLDAg",
          "dtype": "i1"
         }
        }
       ],
       "layout": {
        "annotations": [
         {
          "showarrow": false,
          "text": "Gen Z",
          "x": 12.5,
          "xanchor": "left",
          "xref": "x",
          "y": 1,
          "yanchor": "top",
          "yref": "y domain"
         },
         {
          "showarrow": false,
          "text": "Millennials",
          "x": 33.5,
          "xanchor": "center",
          "xref": "x",
          "y": 1,
          "yanchor": "top",
          "yref": "y domain"
         },
         {
          "showarrow": false,
          "text": "Gen X",
          "x": 60.5,
          "xanchor": "right",
          "xref": "x",
          "y": 1,
          "yanchor": "top",
          "yref": "y domain"
         }
        ],
        "barmode": "group",
        "font": {
         "size": 11
        },
        "height": 600,
        "legend": {
         "orientation": "h",
         "title": {
          "text": "Listening Time"
         },
         "x": 0.5,
         "xanchor": "center",
         "y": -0.15,
         "yanchor": "bottom"
        },
        "margin": {
         "b": 100
        },
        "plot_bgcolor": "white",
        "shapes": [
         {
          "fillcolor": "#FF6B6B",
          "layer": "below",
          "line": {
           "width": 0
          },
          "opacity": 0.1,
          "type": "rect",
          "x0": 12.5,
          "x1": 25.5,
          "xref": "x",
          "y0": 0,
          "y1": 1,
          "yref": "y domain"
         },
         {
          "fillcolor": "#4ECDC4",
          "layer": "below",
          "line": {
           "width": 0
          },
          "opacity": 0.1,
          "type": "rect",
          "x0": 25.5,
          "x1": 41.5,
          "xref": "x",
          "y0": 0,
          "y1": 1,
          "yref": "y domain"
         },
         {
          "fillcolor": "#45B7D1",
          "layer": "below",
          "line": {
           "width": 0
          },
          "opacity": 0.1,
          "type": "rect",
          "x0": 41.5,
          "x1": 60.5,
          "xref": "x",
          "y0": 0,
          "y1": 1,
          "yref": "y domain"
         }
        ],
        "template": {
         "data": {
          "bar": [
           {
            "error_x": {
             "color": "#2a3f5f"
            },
            "error_y": {
             "color": "#2a3f5f"
            },
            "marker": {
             "line": {
              "color": "#E5ECF6",
              "width": 0.5
             },
             "pattern": {
              "fillmode": "overlay",
              "size": 10,
              "solidity": 0.2
             }
            },
            "type": "bar"
           }
          ],
          "barpolar": [
           {
            "marker": {
             "line": {
              "color": "#E5ECF6",
              "width": 0.5
             },
             "pattern": {
              "fillmode": "overlay",
              "size": 10,
              "solidity": 0.2
             }
            },
            "type": "barpolar"
           }
          ],
          "carpet": [
           {
            "aaxis": {
             "endlinecolor": "#2a3f5f",
             "gridcolor": "white",
             "linecolor": "white",
             "minorgridcolor": "white",
             "startlinecolor": "#2a3f5f"
            },
            "baxis": {
             "endlinecolor": "#2a3f5f",
             "gridcolor": "white",
             "linecolor": "white",
             "minorgridcolor": "white",
             "startlinecolor": "#2a3f5f"
            },
            "type": "carpet"
           }
          ],
          "choropleth": [
           {
            "colorbar": {
             "outlinewidth": 0,
             "ticks": ""
            },
            "type": "choropleth"
           }
          ],
          "contour": [
           {
            "colorbar": {
             "outlinewidth": 0,
             "ticks": ""
            },
            "colorscale": [
             [
              0,
              "#0d0887"
             ],
             [
              0.1111111111111111,
              "#46039f"
             ],
             [
              0.2222222222222222,
              "#7201a8"
             ],
             [
              0.3333333333333333,
              "#9c179e"
             ],
             [
              0.4444444444444444,
              "#bd3786"
             ],
             [
              0.5555555555555556,
              "#d8576b"
             ],
             [
              0.6666666666666666,
              "#ed7953"
             ],
             [
              0.7777777777777778,
              "#fb9f3a"
             ],
             [
              0.8888888888888888,
              "#fdca26"
             ],
             [
              1,
              "#f0f921"
             ]
            ],
            "type": "contour"
           }
          ],
          "contourcarpet": [
           {
            "colorbar": {
             "outlinewidth": 0,
             "ticks": ""
            },
            "type": "contourcarpet"
           }
          ],
          "heatmap": [
           {
            "colorbar": {
             "outlinewidth": 0,
             "ticks": ""
            },
            "colorscale": [
             [
              0,
              "#0d0887"
             ],
             [
              0.1111111111111111,
              "#46039f"
             ],
             [
              0.2222222222222222,
              "#7201a8"
             ],
             [
              0.3333333333333333,
              "#9c179e"
             ],
             [
              0.4444444444444444,
              "#bd3786"
             ],
             [
              0.5555555555555556,
              "#d8576b"
             ],
             [
              0.6666666666666666,
              "#ed7953"
             ],
             [
              0.7777777777777778,
              "#fb9f3a"
             ],
             [
              0.8888888888888888,
              "#fdca26"
             ],
             [
              1,
              "#f0f921"
             ]
            ],
            "type": "heatmap"
           }
          ],
          "histogram": [
           {
            "marker": {
             "pattern": {
              "fillmode": "overlay",
              "size": 10,
              "solidity": 0.2
             }
            },
            "type": "histogram"
           }
          ],
          "histogram2d": [
           {
            "colorbar": {
             "outlinewidth": 0,
             "ticks": ""
            },
            "colorscale": [
             [
              0,
              "#0d0887"
             ],
             [
              0.1111111111111111,
              "#46039f"
             ],
             [
              0.2222222222222222,
              "#7201a8"
             ],
             [
              0.3333333333333333,
              "#9c179e"
             ],
             [
              0.4444444444444444,
              "#bd3786"
             ],
             [
              0.5555555555555556,
              "#d8576b"
             ],
             [
              0.6666666666666666,
              "#ed7953"
             ],
             [
              0.7777777777777778,
              "#fb9f3a"
             ],
             [
              0.8888888888888888,
              "#fdca26"
             ],
             [
              1,
              "#f0f921"
             ]
            ],
            "type": "histogram2d"
           }
          ],
          "histogram2dcontour": [
           {
            "colorbar": {
             "outlinewidth": 0,
             "ticks": ""
            },
            "colorscale": [
             [
              0,
              "#0d0887"
             ],
             [
              0.1111111111111111,
              "#46039f"
             ],
             [
              0.2222222222222222,
              "#7201a8"
             ],
             [
              0.3333333333333333,
              "#9c179e"
             ],
             [
              0.4444444444444444,
              "#bd3786"
             ],
             [
              0.5555555555555556,
              "#d8576b"
             ],
             [
              0.6666666666666666,
              "#ed7953"
             ],
             [
              0.7777777777777778,
              "#fb9f3a"
             ],
             [
              0.8888888888888888,
              "#fdca26"
             ],
             [
              1,
              "#f0f921"
             ]
            ],
            "type": "histogram2dcontour"
           }
          ],
          "mesh3d": [
           {
            "colorbar": {
             "outlinewidth": 0,
             "ticks": ""
            },
            "type": "mesh3d"
           }
          ],
          "parcoords": [
           {
            "line": {
             "colorbar": {
              "outlinewidth": 0,
              "ticks": ""
             }
            },
            "type": "parcoords"
           }
          ],
          "pie": [
           {
            "automargin": true,
            "type": "pie"
           }
          ],
          "scatter": [
           {
            "fillpattern": {
             "fillmode": "overlay",
             "size": 10,
             "solidity": 0.2
            },
            "type": "scatter"
           }
          ],
          "scatter3d": [
           {
            "line": {
             "colorbar": {
              "outlinewidth": 0,
              "ticks": ""
             }
            },
            "marker": {
             "colorbar": {
              "outlinewidth": 0,
              "ticks": ""
             }
            },
            "type": "scatter3d"
           }
          ],
          "scattercarpet": [
           {
            "marker": {
             "colorbar": {
              "outlinewidth": 0,
              "ticks": ""
             }
            },
            "type": "scattercarpet"
           }
          ],
          "scattergeo": [
           {
            "marker": {
             "colorbar": {
              "outlinewidth": 0,
              "ticks": ""
             }
            },
            "type": "scattergeo"
           }
          ],
          "scattergl": [
           {
            "marker": {
             "colorbar": {
              "outlinewidth": 0,
              "ticks": ""
             }
            },
            "type": "scattergl"
           }
          ],
          "scattermap": [
           {
            "marker": {
             "colorbar": {
              "outlinewidth": 0,
              "ticks": ""
             }
            },
            "type": "scattermap"
           }
          ],
          "scattermapbox": [
           {
            "marker": {
             "colorbar": {
              "outlinewidth": 0,
              "ticks": ""
             }
            },
            "type": "scattermapbox"
           }
          ],
          "scatterpolar": [
           {
            "marker": {
             "colorbar": {
              "outlinewidth": 0,
              "ticks": ""
             }
            },
            "type": "scatterpolar"
           }
          ],
          "scatterpolargl": [
           {
            "marker": {
             "colorbar": {
              "outlinewidth": 0,
              "ticks": ""
             }
            },
            "type": "scatterpolargl"
           }
          ],
          "scatterternary": [
           {
            "marker": {
             "colorbar": {
              "outlinewidth": 0,
              "ticks": ""
             }
            },
            "type": "scatterternary"
           }
          ],
          "surface": [
           {
            "colorbar": {
             "outlinewidth": 0,
             "ticks": ""
            },
            "colorscale": [
             [
              0,
              "#0d0887"
             ],
             [
              0.1111111111111111,
              "#46039f"
             ],
             [
              0.2222222222222222,
              "#7201a8"
             ],
             [
              0.3333333333333333,
              "#9c179e"
             ],
             [
              0.4444444444444444,
              "#bd3786"
             ],
             [
              0.5555555555555556,
              "#d8576b"
             ],
             [
              0.6666666666666666,
              "#ed7953"
             ],
             [
              0.7777777777777778,
              "#fb9f3a"
             ],
             [
              0.8888888888888888,
              "#fdca26"
             ],
             [
              1,
              "#f0f921"
             ]
            ],
            "type": "surface"
           }
          ],
          "table": [
           {
            "cells": {
             "fill": {
              "color": "#EBF0F8"
             },
             "line": {
              "color": "white"
             }
            },
            "header": {
             "fill": {
              "color": "#C8D4E3"
             },
             "line": {
              "color": "white"
             }
            },
            "type": "table"
           }
          ]
         },
         "layout": {
          "annotationdefaults": {
           "arrowcolor": "#2a3f5f",
           "arrowhead": 0,
           "arrowwidth": 1
          },
          "autotypenumbers": "strict",
          "coloraxis": {
           "colorbar": {
            "outlinewidth": 0,
            "ticks": ""
           }
          },
          "colorscale": {
           "diverging": [
            [
             0,
             "#8e0152"
            ],
            [
             0.1,
             "#c51b7d"
            ],
            [
             0.2,
             "#de77ae"
            ],
            [
             0.3,
             "#f1b6da"
            ],
            [
             0.4,
             "#fde0ef"
            ],
            [
             0.5,
             "#f7f7f7"
            ],
            [
             0.6,
             "#e6f5d0"
            ],
            [
             0.7,
             "#b8e186"
            ],
            [
             0.8,
             "#7fbc41"
            ],
            [
             0.9,
             "#4d9221"
            ],
            [
             1,
             "#276419"
            ]
           ],
           "sequential": [
            [
             0,
             "#0d0887"
            ],
            [
             0.1111111111111111,
             "#46039f"
            ],
            [
             0.2222222222222222,
             "#7201a8"
            ],
            [
             0.3333333333333333,
             "#9c179e"
            ],
            [
             0.4444444444444444,
             "#bd3786"
            ],
            [
             0.5555555555555556,
             "#d8576b"
            ],
            [
             0.6666666666666666,
             "#ed7953"
            ],
            [
             0.7777777777777778,
             "#fb9f3a"
            ],
            [
             0.8888888888888888,
             "#fdca26"
            ],
            [
             1,
             "#f0f921"
            ]
           ],
           "sequentialminus": [
            [
             0,
             "#0d0887"
            ],
            [
             0.1111111111111111,
             "#46039f"
            ],
            [
             0.2222222222222222,
             "#7201a8"
            ],
            [
             0.3333333333333333,
             "#9c179e"
            ],
            [
             0.4444444444444444,
             "#bd3786"
            ],
            [
             0.5555555555555556,
             "#d8576b"
            ],
            [
             0.6666666666666666,
             "#ed7953"
            ],
            [
             0.7777777777777778,
             "#fb9f3a"
            ],
            [
             0.8888888888888888,
             "#fdca26"
            ],
            [
             1,
             "#f0f921"
            ]
           ]
          },
          "colorway": [
           "#636efa",
           "#EF553B",
           "#00cc96",
           "#ab63fa",
           "#FFA15A",
           "#19d3f3",
           "#FF6692",
           "#B6E880",
           "#FF97FF",
           "#FECB52"
          ],
          "font": {
           "color": "#2a3f5f"
          },
          "geo": {
           "bgcolor": "white",
           "lakecolor": "white",
           "landcolor": "#E5ECF6",
           "showlakes": true,
           "showland": true,
           "subunitcolor": "white"
          },
          "hoverlabel": {
           "align": "left"
          },
          "hovermode": "closest",
          "mapbox": {
           "style": "light"
          },
          "paper_bgcolor": "white",
          "plot_bgcolor": "#E5ECF6",
          "polar": {
           "angularaxis": {
            "gridcolor": "white",
            "linecolor": "white",
            "ticks": ""
           },
           "bgcolor": "#E5ECF6",
           "radialaxis": {
            "gridcolor": "white",
            "linecolor": "white",
            "ticks": ""
           }
          },
          "scene": {
           "xaxis": {
            "backgroundcolor": "#E5ECF6",
            "gridcolor": "white",
            "gridwidth": 2,
            "linecolor": "white",
            "showbackground": true,
            "ticks": "",
            "zerolinecolor": "white"
           },
           "yaxis": {
            "backgroundcolor": "#E5ECF6",
            "gridcolor": "white",
            "gridwidth": 2,
            "linecolor": "white",
            "showbackground": true,
            "ticks": "",
            "zerolinecolor": "white"
           },
           "zaxis": {
            "backgroundcolor": "#E5ECF6",
            "gridcolor": "white",
            "gridwidth": 2,
            "linecolor": "white",
            "showbackground": true,
            "ticks": "",
            "zerolinecolor": "white"
           }
          },
          "shapedefaults": {
           "line": {
            "color": "#2a3f5f"
           }
          },
          "ternary": {
           "aaxis": {
            "gridcolor": "white",
            "linecolor": "white",
            "ticks": ""
           },
           "baxis": {
            "gridcolor": "white",
            "linecolor": "white",
            "ticks": ""
           },
           "bgcolor": "#E5ECF6",
           "caxis": {
            "gridcolor": "white",
            "linecolor": "white",
            "ticks": ""
           }
          },
          "title": {
           "x": 0.05
          },
          "xaxis": {
           "automargin": true,
           "gridcolor": "white",
           "linecolor": "white",
           "ticks": "",
           "title": {
            "standoff": 15
           },
           "zerolinecolor": "white",
           "zerolinewidth": 2
          },
          "yaxis": {
           "automargin": true,
           "gridcolor": "white",
           "linecolor": "white",
           "ticks": "",
           "title": {
            "standoff": 15
           },
           "zerolinecolor": "white",
           "zerolinewidth": 2
          }
         }
        },
        "title": {
         "font": {
          "size": 16
         },
         "text": "Music Listening Time Preferences by Individual Age<br><sub>Count of Users by Time Period and Generation</sub>"
        },
        "xaxis": {
         "dtick": 1,
         "gridcolor": "lightgray",
         "gridwidth": 0.5,
         "range": [
          12.5,
          60.5
         ],
         "tick0": 13,
         "tickangle": 45,
         "tickmode": "linear",
         "title": {
          "text": "Age (Years)"
         }
        },
        "yaxis": {
         "gridcolor": "lightgray",
         "gridwidth": 0.5,
         "title": {
          "text": "Number of Users"
         }
        }
       }
      }
     },
     "metadata": {},
     "output_type": "display_data"
    },
    {
     "name": "stdout",
     "output_type": "stream",
     "text": [
      "\n",
      "=== AGE-BASED LISTENING TIME INSIGHTS ===\n",
      "\n",
      "🎯 Gen Z (13-25) (3,933 total users):\n",
      "   Morning: 418 users (10.6%)\n",
      "   Afternoon: 444 users (11.3%)\n",
      "   Night: 449 users (11.4%)\n",
      "\n",
      "🎯 Millennials (26-41) (5,109 total users):\n",
      "   Morning: 568 users (11.1%)\n",
      "   Afternoon: 558 users (10.9%)\n",
      "   Night: 577 users (11.3%)\n",
      "\n",
      "🎯 Gen X (42-60) (5,958 total users):\n",
      "   Morning: 635 users (10.7%)\n",
      "   Afternoon: 632 users (10.6%)\n",
      "   Night: 719 users (12.1%)\n",
      "\n",
      "=== PEAK AGES BY TIME PERIOD ===\n",
      "🎵 Morning peak: Age 51 (45 users, Gen X (42-60))\n",
      "🎵 Afternoon peak: Age 52 (47 users, Gen X (42-60))\n",
      "🎵 Night peak: Age 59 (48 users, Gen X (42-60))\n"
     ]
    }
   ],
   "source": [
    "# Interactive Listening Time Preferences Analysis\n",
    "print(\"=== INTERACTIVE LISTENING TIME PREFERENCES ANALYSIS ===\")\n",
    "\n",
    "# Check if listening time column exists\n",
    "listening_time_col = 'Listening Time (Morning/Afternoon/Night)'\n",
    "\n",
    "if listening_time_col in df.columns:\n",
    "    \n",
    "    # === GLOBAL ANALYSIS ===\n",
    "    print(\"\\n🌍 GLOBAL LISTENING TIME PREFERENCES\")\n",
    "    \n",
    "    # Get global listening time distribution\n",
    "    global_listening = df[listening_time_col].value_counts()\n",
    "    global_percentages = (global_listening / len(df) * 100).round(1)\n",
    "    \n",
    "    # Create DataFrame for plotting\n",
    "    global_df = pd.DataFrame({\n",
    "        'Time_Period': global_listening.index,\n",
    "        'Count': global_listening.values,\n",
    "        'Percentage': global_percentages.values\n",
    "    })\n",
    "    \n",
    "    # Define colors for time periods\n",
    "    time_colors = {\n",
    "        'Morning': '#FFD700',    # Gold\n",
    "        'Afternoon': '#FF8C00',  # Dark Orange\n",
    "        'Night': '#4169E1'       # Royal Blue\n",
    "    }\n",
    "    \n",
    "    # Create interactive pie chart for global analysis (fixed hover_data issue)\n",
    "    fig_global = px.pie(\n",
    "        global_df, \n",
    "        values='Count', \n",
    "        names='Time_Period',\n",
    "        title='Global Music Listening Preferences by Time of Day',\n",
    "        color='Time_Period',\n",
    "        color_discrete_map=time_colors\n",
    "    )\n",
    "    \n",
    "    # Update pie chart layout\n",
    "    fig_global.update_traces(\n",
    "        textposition='inside', \n",
    "        textinfo='percent+label',\n",
    "        hovertemplate='<b>%{label}</b><br>' +\n",
    "                     'Users: %{value:,}<br>' +\n",
    "                     'Percentage: %{percent}<br>' +\n",
    "                     '<extra></extra>'\n",
    "    )\n",
    "    \n",
    "    fig_global.update_layout(\n",
    "        font=dict(size=12),\n",
    "        height=500,\n",
    "        showlegend=True,\n",
    "        legend=dict(orientation=\"h\", yanchor=\"bottom\", y=-0.1, xanchor=\"center\", x=0.5)\n",
    "    )\n",
    "    \n",
    "    fig_global.show()\n",
    "    \n",
    "    # Print global insights\n",
    "    print(f\"\\n=== GLOBAL INSIGHTS ===\")\n",
    "    for time_period, count in global_listening.items():\n",
    "        percentage = global_percentages[time_period]\n",
    "        print(f\"🎵 {time_period}: {count:,} users ({percentage}%)\")\n",
    "    \n",
    "    print(f\"\\n📊 Most popular listening time: {global_listening.index[0]} ({global_percentages.iloc[0]}%)\")\n",
    "    print(f\"📊 Least popular listening time: {global_listening.index[-1]} ({global_percentages.iloc[-1]}%)\")\n",
    "    \n",
    "    # === COUNTRY-SPECIFIC ANALYSIS ===\n",
    "    print(\"\\n\" + \"=\"*60)\n",
    "    print(\"🌎 LISTENING TIME PREFERENCES BY COUNTRY\")\n",
    "    \n",
    "    if 'Country' in df.columns:\n",
    "        # Get top 10 countries by user count\n",
    "        top_countries = df['Country'].value_counts().head(10).index.tolist()\n",
    "        \n",
    "        # Country flags dictionary\n",
    "        country_flags = {\n",
    "            'United States': '🇺🇸', 'United Kingdom': '🇬🇧', 'Canada': '🇨🇦', 'Australia': '🇦🇺',\n",
    "            'Germany': '🇩🇪', 'France': '🇫🇷', 'Spain': '🇪🇸', 'Italy': '🇮🇹', 'Netherlands': '🇳🇱',\n",
    "            'Sweden': '🇸🇪', 'Norway': '🇳🇴', 'Denmark': '🇩🇰', 'Finland': '🇫🇮', 'Brazil': '🇧🇷',\n",
    "            'Mexico': '🇲🇽', 'Argentina': '🇦🇷', 'Japan': '🇯🇵', 'South Korea': '🇰🇷', 'India': '🇮🇳',\n",
    "            'China': '🇨🇳', 'Russia': '🇷🇺', 'Poland': '🇵🇱', 'Belgium': '🇧🇪', 'Switzerland': '🇨🇭',\n",
    "            'Austria': '🇦🇹', 'Portugal': '🇵🇹', 'Ireland': '🇮🇪', 'New Zealand': '🇳🇿',\n",
    "            'South Africa': '🇿🇦', 'Chile': '🇨🇱', 'Colombia': '🇨🇴', 'Peru': '🇵🇪', 'Turkey': '🇹🇷',\n",
    "            'Greece': '🇬🇷', 'Czech Republic': '🇨🇿', 'Hungary': '🇭🇺', 'Romania': '🇷🇴',\n",
    "            'Thailand': '🇹🇭', 'Vietnam': '🇻🇳', 'Philippines': '🇵🇭', 'Indonesia': '🇮🇩',\n",
    "            'Malaysia': '🇲🇾', 'Singapore': '🇸🇬', 'Israel': '🇮🇱', 'UAE': '🇦🇪',\n",
    "            'Saudi Arabia': '🇸🇦', 'Egypt': '🇪🇬', 'Nigeria': '🇳🇬', 'Kenya': '🇰🇪', 'Morocco': '🇲🇦',\n",
    "            'USA': '🇺🇸', 'UK': '🇬🇧'\n",
    "        }\n",
    "        \n",
    "        # Filter data for top countries\n",
    "        country_filtered_df = df[df['Country'].isin(top_countries)].copy()\n",
    "        \n",
    "        if not country_filtered_df.empty:\n",
    "            # Create country-time cross-tabulation\n",
    "            country_time_counts = country_filtered_df.groupby(['Country', listening_time_col]).size().reset_index(name='Count')\n",
    "            \n",
    "            # Calculate percentages within each country\n",
    "            country_totals = country_filtered_df.groupby('Country').size().reset_index(name='Total')\n",
    "            country_time_counts = country_time_counts.merge(country_totals, on='Country')\n",
    "            country_time_counts['Percentage'] = (country_time_counts['Count'] / country_time_counts['Total'] * 100).round(1)\n",
    "            \n",
    "            # Add country flags\n",
    "            country_time_counts['Country_Flag'] = country_time_counts['Country'].apply(\n",
    "                lambda x: f\"{country_flags.get(x, '🌍')} {x}\"\n",
    "            )\n",
    "            \n",
    "            # Create interactive grouped bar chart\n",
    "            fig_country = px.bar(\n",
    "                country_time_counts,\n",
    "                x='Country_Flag',\n",
    "                y='Percentage',\n",
    "                color=listening_time_col,\n",
    "                title='Music Listening Time Preferences by Country (Top 10 Countries)',\n",
    "                labels={'Percentage': 'Percentage of Users (%)', 'Country_Flag': 'Country'},\n",
    "                color_discrete_map=time_colors,\n",
    "                barmode='group'\n",
    "            )\n",
    "            \n",
    "            # Update layout\n",
    "            fig_country.update_layout(\n",
    "                xaxis_tickangle=-45,\n",
    "                height=600,\n",
    "                legend=dict(\n",
    "                    title=\"Listening Time\",\n",
    "                    orientation=\"h\",\n",
    "                    yanchor=\"bottom\",\n",
    "                    y=-0.15,\n",
    "                    xanchor=\"center\",\n",
    "                    x=0.5\n",
    "                ),\n",
    "                xaxis=dict(gridcolor='lightgray'),\n",
    "                yaxis=dict(gridcolor='lightgray'),\n",
    "                plot_bgcolor='white',\n",
    "                margin=dict(b=120)  # Extra margin for country names and legend\n",
    "            )\n",
    "            \n",
    "            fig_country.show()\n",
    "            \n",
    "            # Print country-specific insights\n",
    "            print(f\"\\n=== TOP LISTENING TIME BY COUNTRY ===\")\n",
    "            for country in top_countries:\n",
    "                country_data = country_time_counts[country_time_counts['Country'] == country]\n",
    "                if not country_data.empty:\n",
    "                    top_time_row = country_data.loc[country_data['Percentage'].idxmax()]\n",
    "                    flag = country_flags.get(country, '🌍')\n",
    "                    print(f\"{flag} {country}: {top_time_row[listening_time_col]} ({top_time_row['Percentage']:.1f}%)\")\n",
    "            \n",
    "            # Time period dominance by country\n",
    "            print(f\"\\n=== TIME PERIOD ANALYSIS ===\")\n",
    "            for time_period in ['Morning', 'Afternoon', 'Night']:\n",
    "                time_data = country_time_counts[country_time_counts[listening_time_col] == time_period]\n",
    "                if not time_data.empty:\n",
    "                    top_country_row = time_data.loc[time_data['Percentage'].idxmax()]\n",
    "                    flag = country_flags.get(top_country_row['Country'], '🌍')\n",
    "                    print(f\"🎵 {time_period} leaders: {flag} {top_country_row['Country']} ({top_country_row['Percentage']:.1f}%)\")\n",
    "            \n",
    "            # Country diversity in listening times\n",
    "            print(f\"\\n=== LISTENING TIME DIVERSITY BY COUNTRY ===\")\n",
    "            time_diversity = country_filtered_df.groupby('Country')[listening_time_col].nunique().sort_values(ascending=False)\n",
    "            for country, diversity in time_diversity.head().items():\n",
    "                total_users = country_filtered_df[country_filtered_df['Country'] == country].shape[0]\n",
    "                flag = country_flags.get(country, '🌍')\n",
    "                if diversity == 3:\n",
    "                    diversity_text = \"All time periods\"\n",
    "                elif diversity == 2:\n",
    "                    diversity_text = \"2 time periods\"\n",
    "                else:\n",
    "                    diversity_text = \"1 time period\"\n",
    "                print(f\"{flag} {country}: {diversity_text} among {total_users:,} users\")\n",
    "        \n",
    "        else:\n",
    "            print(\"❌ Insufficient data for country-time analysis after filtering.\")\n",
    "    \n",
    "    else:\n",
    "        print(\"❌ 'Country' column not found for country-specific analysis.\")\n",
    "    \n",
    "    # === AGE-BASED ANALYSIS (THIRD CHART) ===\n",
    "    print(\"\\n\" + \"=\"*60)\n",
    "    print(\"👥 LISTENING TIME PREFERENCES BY AGE AND GENERATION\")\n",
    "    \n",
    "    if 'Age' in df.columns:\n",
    "        # Define generation colors\n",
    "        generation_colors = {\n",
    "            'Gen Z (13-25)': '#FF6B6B',      # Red\n",
    "            'Millennials (26-41)': '#4ECDC4', # Teal\n",
    "            'Gen X (42-60)': '#45B7D1'       # Blue\n",
    "        }\n",
    "        \n",
    "        # Get available time periods\n",
    "        time_periods = ['Morning', 'Afternoon', 'Night']\n",
    "        available_time_periods = [t for t in time_periods if t in df[listening_time_col].unique()]\n",
    "        \n",
    "        if available_time_periods:\n",
    "            # Prepare data for individual ages by generation and time period\n",
    "            age_time_data = []\n",
    "            \n",
    "            for age in range(13, 61):  # Ages 13 to 60\n",
    "                age_subset = df[df['Age'] == age]\n",
    "                if len(age_subset) > 0:\n",
    "                    # Determine generation for this age\n",
    "                    if age <= 25:\n",
    "                        generation = 'Gen Z (13-25)'\n",
    "                        color = generation_colors['Gen Z (13-25)']\n",
    "                    elif age <= 41:\n",
    "                        generation = 'Millennials (26-41)'\n",
    "                        color = generation_colors['Millennials (26-41)']\n",
    "                    else:\n",
    "                        generation = 'Gen X (42-60)'\n",
    "                        color = generation_colors['Gen X (42-60)']\n",
    "                    \n",
    "                    # Count users by time period for this age\n",
    "                    age_time_counts = age_subset[listening_time_col].value_counts()\n",
    "                    \n",
    "                    for time_period in available_time_periods:\n",
    "                        count = age_time_counts.get(time_period, 0)\n",
    "                        age_time_data.append({\n",
    "                            'Age': age,\n",
    "                            'Generation': generation,\n",
    "                            'Color': color,\n",
    "                            'Time_Period': time_period,\n",
    "                            'Count': count,\n",
    "                            'Total_Age_Users': len(age_subset)\n",
    "                        })\n",
    "            \n",
    "            # Convert to DataFrame\n",
    "            age_time_df = pd.DataFrame(age_time_data)\n",
    "            \n",
    "            # Create interactive grouped bar chart similar to cell 9\n",
    "            fig_age = go.Figure()\n",
    "            \n",
    "            # Add bar traces for each time period\n",
    "            for i, time_period in enumerate(available_time_periods):\n",
    "                time_data = age_time_df[age_time_df['Time_Period'] == time_period]\n",
    "                \n",
    "                fig_age.add_trace(go.Bar(\n",
    "                    x=time_data['Age'],\n",
    "                    y=time_data['Count'],\n",
    "                    name=time_period,\n",
    "                    marker=dict(\n",
    "                        color=time_colors.get(time_period, '#999999'),\n",
    "                        line=dict(color='white', width=1),\n",
    "                        opacity=0.8\n",
    "                    ),\n",
    "                    visible=True,  # All time periods visible initially\n",
    "                    hovertemplate='<b>Age %{x}</b><br>' +\n",
    "                                 f'{time_period}: %{{y}} users<br>' +\n",
    "                                 'Generation: %{customdata[0]}<br>' +\n",
    "                                 'Total Users at Age: %{customdata[1]}<br>' +\n",
    "                                 '<extra></extra>',\n",
    "                    customdata=list(zip(time_data['Generation'], time_data['Total_Age_Users']))\n",
    "                ))\n",
    "            \n",
    "            # Update layout\n",
    "            fig_age.update_layout(\n",
    "                title=dict(\n",
    "                    text=\"Music Listening Time Preferences by Individual Age<br><sub>Count of Users by Time Period and Generation</sub>\",\n",
    "                    font=dict(size=16)\n",
    "                ),\n",
    "                xaxis=dict(\n",
    "                    title=\"Age (Years)\",\n",
    "                    tickmode='linear',\n",
    "                    tick0=13,\n",
    "                    dtick=1,  # Show every age\n",
    "                    range=[12.5, 60.5],\n",
    "                    gridcolor='lightgray',\n",
    "                    gridwidth=0.5,\n",
    "                    tickangle=45\n",
    "                ),\n",
    "                yaxis=dict(\n",
    "                    title=\"Number of Users\",\n",
    "                    gridcolor='lightgray',\n",
    "                    gridwidth=0.5\n",
    "                ),\n",
    "                height=600,\n",
    "                barmode='group',\n",
    "                plot_bgcolor='white',\n",
    "                font=dict(size=11),\n",
    "                margin=dict(b=100),  # Extra bottom margin for rotated age labels\n",
    "                legend=dict(\n",
    "                    title=\"Listening Time\",\n",
    "                    orientation=\"h\",\n",
    "                    yanchor=\"bottom\",\n",
    "                    y=-0.15,\n",
    "                    xanchor=\"center\",\n",
    "                    x=0.5\n",
    "                )\n",
    "            )\n",
    "            \n",
    "            # Add generation background bands\n",
    "            fig_age.add_vrect(x0=12.5, x1=25.5, fillcolor=generation_colors['Gen Z (13-25)'], \n",
    "                              opacity=0.1, layer=\"below\", line_width=0,\n",
    "                              annotation_text=\"Gen Z\", annotation_position=\"top left\")\n",
    "            fig_age.add_vrect(x0=25.5, x1=41.5, fillcolor=generation_colors['Millennials (26-41)'], \n",
    "                              opacity=0.1, layer=\"below\", line_width=0,\n",
    "                              annotation_text=\"Millennials\", annotation_position=\"top\")\n",
    "            fig_age.add_vrect(x0=41.5, x1=60.5, fillcolor=generation_colors['Gen X (42-60)'], \n",
    "                              opacity=0.1, layer=\"below\", line_width=0,\n",
    "                              annotation_text=\"Gen X\", annotation_position=\"top right\")\n",
    "            \n",
    "            fig_age.show()\n",
    "            \n",
    "            # Print age-based insights\n",
    "            print(f\"\\n=== AGE-BASED LISTENING TIME INSIGHTS ===\")\n",
    "            \n",
    "            # Generation breakdown by time period\n",
    "            for generation in ['Gen Z (13-25)', 'Millennials (26-41)', 'Gen X (42-60)']:\n",
    "                gen_data = age_time_df[age_time_df['Generation'] == generation]\n",
    "                if not gen_data.empty:\n",
    "                    gen_totals = gen_data.groupby('Time_Period')['Count'].sum()\n",
    "                    total_gen_users = gen_data['Total_Age_Users'].sum()\n",
    "                    \n",
    "                    print(f\"\\n🎯 {generation} ({total_gen_users:,} total users):\")\n",
    "                    for time_period in available_time_periods:\n",
    "                        count = gen_totals.get(time_period, 0)\n",
    "                        percentage = (count / total_gen_users * 100) if total_gen_users > 0 else 0\n",
    "                        print(f\"   {time_period}: {count:,} users ({percentage:.1f}%)\")\n",
    "            \n",
    "            # Find peak ages for each time period\n",
    "            print(f\"\\n=== PEAK AGES BY TIME PERIOD ===\")\n",
    "            for time_period in available_time_periods:\n",
    "                time_data = age_time_df[age_time_df['Time_Period'] == time_period]\n",
    "                if not time_data.empty:\n",
    "                    peak_age_row = time_data.loc[time_data['Count'].idxmax()]\n",
    "                    print(f\"🎵 {time_period} peak: Age {peak_age_row['Age']} ({peak_age_row['Count']} users, {peak_age_row['Generation']})\")\n",
    "        \n",
    "        else:\n",
    "            print(\"❌ No valid time periods found for age-based analysis.\")\n",
    "    \n",
    "    else:\n",
    "        print(\"❌ 'Age' column not found for age-based analysis.\")\n",
    "\n",
    "else:\n",
    "    print(\"❌ No listening time preference column found in the dataset.\")"
   ]
  },
  {
   "cell_type": "code",
   "execution_count": 11,
   "id": "602067f6",
   "metadata": {},
   "outputs": [
    {
     "name": "stdout",
     "output_type": "stream",
     "text": [
      "=== STREAMING PLATFORM PREFERENCES BY GENERATION ===\n"
     ]
    },
    {
     "data": {
      "application/vnd.plotly.v1+json": {
       "config": {
        "plotlyServerURL": "https://plot.ly"
       },
       "data": [
        {
         "alignmentgroup": "True",
         "customdata": {
          "bdata": "5QAfBSIBpwZWAcIH",
          "dtype": "i2",
          "shape": "3, 2"
         },
         "hovertemplate": "Streaming Platform=Amazon Music<br>Generation=%{x}<br>Percentage of Users=%{y}<br>Count=%{customdata[0]}<br>Total=%{customdata[1]}<extra></extra>",
         "legendgroup": "Amazon Music",
         "marker": {
          "color": "#636efa",
          "pattern": {
           "shape": ""
          }
         },
         "name": "Amazon Music",
         "offsetgroup": "Amazon Music",
         "orientation": "v",
         "showlegend": true,
         "textposition": "auto",
         "type": "bar",
         "x": [
          "Gen Z (13-25)",
          "Millennials (26-41)",
          "Gen X (42-60)"
         ],
         "xaxis": "x",
         "y": {
          "bdata": "AAAAAACAMUAAAAAAAAAxQDMzMzMzMzFA",
          "dtype": "f8"
         },
         "yaxis": "y"
        },
        {
         "alignmentgroup": "True",
         "customdata": {
          "bdata": "2AAfBRABpwY0AcIH",
          "dtype": "i2",
          "shape": "3, 2"
         },
         "hovertemplate": "Streaming Platform=Apple Music<br>Generation=%{x}<br>Percentage of Users=%{y}<br>Count=%{customdata[0]}<br>Total=%{customdata[1]}<extra></extra>",
         "legendgroup": "Apple Music",
         "marker": {
          "color": "#EF553B",
          "pattern": {
           "shape": ""
          }
         },
         "name": "Apple Music",
         "offsetgroup": "Apple Music",
         "orientation": "v",
         "showlegend": true,
         "textposition": "auto",
         "type": "bar",
         "x": [
          "Gen Z (13-25)",
          "Millennials (26-41)",
          "Gen X (42-60)"
         ],
         "xaxis": "x",
         "y": {
          "bdata": "AAAAAACAMEAAAAAAAAAwQAAAAAAAAC9A",
          "dtype": "f8"
         },
         "yaxis": "y"
        },
        {
         "alignmentgroup": "True",
         "customdata": {
          "bdata": "1AAfBTIBpwZGAcIH",
          "dtype": "i2",
          "shape": "3, 2"
         },
         "hovertemplate": "Streaming Platform=Deezer<br>Generation=%{x}<br>Percentage of Users=%{y}<br>Count=%{customdata[0]}<br>Total=%{customdata[1]}<extra></extra>",
         "legendgroup": "Deezer",
         "marker": {
          "color": "#00cc96",
          "pattern": {
           "shape": ""
          }
         },
         "name": "Deezer",
         "offsetgroup": "Deezer",
         "orientation": "v",
         "showlegend": true,
         "textposition": "auto",
         "type": "bar",
         "x": [
          "Gen Z (13-25)",
          "Millennials (26-41)",
          "Gen X (42-60)"
         ],
         "xaxis": "x",
         "y": {
          "bdata": "MzMzMzMzMEAAAAAAAAAyQGZmZmZmZjBA",
          "dtype": "f8"
         },
         "yaxis": "y"
        },
        {
         "alignmentgroup": "True",
         "customdata": {
          "bdata": "0QAfBRwBpwZOAcIH",
          "dtype": "i2",
          "shape": "3, 2"
         },
         "hovertemplate": "Streaming Platform=Spotify<br>Generation=%{x}<br>Percentage of Users=%{y}<br>Count=%{customdata[0]}<br>Total=%{customdata[1]}<extra></extra>",
         "legendgroup": "Spotify",
         "marker": {
          "color": "#ab63fa",
          "pattern": {
           "shape": ""
          }
         },
         "name": "Spotify",
         "offsetgroup": "Spotify",
         "orientation": "v",
         "showlegend": true,
         "textposition": "auto",
         "type": "bar",
         "x": [
          "Gen Z (13-25)",
          "Millennials (26-41)",
          "Gen X (42-60)"
         ],
         "xaxis": "x",
         "y": {
          "bdata": "zczMzMzML0AzMzMzM7MwQM3MzMzMzDBA",
          "dtype": "f8"
         },
         "yaxis": "y"
        },
        {
         "alignmentgroup": "True",
         "customdata": {
          "bdata": "3QAfBRYBpwZfAcIH",
          "dtype": "i2",
          "shape": "3, 2"
         },
         "hovertemplate": "Streaming Platform=Tidal<br>Generation=%{x}<br>Percentage of Users=%{y}<br>Count=%{customdata[0]}<br>Total=%{customdata[1]}<extra></extra>",
         "legendgroup": "Tidal",
         "marker": {
          "color": "#FFA15A",
          "pattern": {
           "shape": ""
          }
         },
         "name": "Tidal",
         "offsetgroup": "Tidal",
         "orientation": "v",
         "showlegend": true,
         "textposition": "auto",
         "type": "bar",
         "x": [
          "Gen Z (13-25)",
          "Millennials (26-41)",
          "Gen X (42-60)"
         ],
         "xaxis": "x",
         "y": {
          "bdata": "ZmZmZmbmMEDNzMzMzEwwQDMzMzMzszFA",
          "dtype": "f8"
         },
         "yaxis": "y"
        },
        {
         "alignmentgroup": "True",
         "customdata": {
          "bdata": "4AAfBREBpwZFAcIH",
          "dtype": "i2",
          "shape": "3, 2"
         },
         "hovertemplate": "Streaming Platform=YouTube<br>Generation=%{x}<br>Percentage of Users=%{y}<br>Count=%{customdata[0]}<br>Total=%{customdata[1]}<extra></extra>",
         "legendgroup": "YouTube",
         "marker": {
          "color": "#19d3f3",
          "pattern": {
           "shape": ""
          }
         },
         "name": "YouTube",
         "offsetgroup": "YouTube",
         "orientation": "v",
         "showlegend": true,
         "textposition": "auto",
         "type": "bar",
         "x": [
          "Gen Z (13-25)",
          "Millennials (26-41)",
          "Gen X (42-60)"
         ],
         "xaxis": "x",
         "y": {
          "bdata": "mpmZmZkZMUAAAAAAAAAwQGZmZmZmZjBA",
          "dtype": "f8"
         },
         "yaxis": "y"
        }
       ],
       "layout": {
        "barmode": "group",
        "height": 600,
        "legend": {
         "orientation": "v",
         "title": {
          "text": "Streaming Platform"
         },
         "tracegroupgap": 0,
         "x": 1.02,
         "xanchor": "left",
         "y": 1,
         "yanchor": "top"
        },
        "margin": {
         "r": 150
        },
        "plot_bgcolor": "white",
        "template": {
         "data": {
          "bar": [
           {
            "error_x": {
             "color": "#2a3f5f"
            },
            "error_y": {
             "color": "#2a3f5f"
            },
            "marker": {
             "line": {
              "color": "#E5ECF6",
              "width": 0.5
             },
             "pattern": {
              "fillmode": "overlay",
              "size": 10,
              "solidity": 0.2
             }
            },
            "type": "bar"
           }
          ],
          "barpolar": [
           {
            "marker": {
             "line": {
              "color": "#E5ECF6",
              "width": 0.5
             },
             "pattern": {
              "fillmode": "overlay",
              "size": 10,
              "solidity": 0.2
             }
            },
            "type": "barpolar"
           }
          ],
          "carpet": [
           {
            "aaxis": {
             "endlinecolor": "#2a3f5f",
             "gridcolor": "white",
             "linecolor": "white",
             "minorgridcolor": "white",
             "startlinecolor": "#2a3f5f"
            },
            "baxis": {
             "endlinecolor": "#2a3f5f",
             "gridcolor": "white",
             "linecolor": "white",
             "minorgridcolor": "white",
             "startlinecolor": "#2a3f5f"
            },
            "type": "carpet"
           }
          ],
          "choropleth": [
           {
            "colorbar": {
             "outlinewidth": 0,
             "ticks": ""
            },
            "type": "choropleth"
           }
          ],
          "contour": [
           {
            "colorbar": {
             "outlinewidth": 0,
             "ticks": ""
            },
            "colorscale": [
             [
              0,
              "#0d0887"
             ],
             [
              0.1111111111111111,
              "#46039f"
             ],
             [
              0.2222222222222222,
              "#7201a8"
             ],
             [
              0.3333333333333333,
              "#9c179e"
             ],
             [
              0.4444444444444444,
              "#bd3786"
             ],
             [
              0.5555555555555556,
              "#d8576b"
             ],
             [
              0.6666666666666666,
              "#ed7953"
             ],
             [
              0.7777777777777778,
              "#fb9f3a"
             ],
             [
              0.8888888888888888,
              "#fdca26"
             ],
             [
              1,
              "#f0f921"
             ]
            ],
            "type": "contour"
           }
          ],
          "contourcarpet": [
           {
            "colorbar": {
             "outlinewidth": 0,
             "ticks": ""
            },
            "type": "contourcarpet"
           }
          ],
          "heatmap": [
           {
            "colorbar": {
             "outlinewidth": 0,
             "ticks": ""
            },
            "colorscale": [
             [
              0,
              "#0d0887"
             ],
             [
              0.1111111111111111,
              "#46039f"
             ],
             [
              0.2222222222222222,
              "#7201a8"
             ],
             [
              0.3333333333333333,
              "#9c179e"
             ],
             [
              0.4444444444444444,
              "#bd3786"
             ],
             [
              0.5555555555555556,
              "#d8576b"
             ],
             [
              0.6666666666666666,
              "#ed7953"
             ],
             [
              0.7777777777777778,
              "#fb9f3a"
             ],
             [
              0.8888888888888888,
              "#fdca26"
             ],
             [
              1,
              "#f0f921"
             ]
            ],
            "type": "heatmap"
           }
          ],
          "histogram": [
           {
            "marker": {
             "pattern": {
              "fillmode": "overlay",
              "size": 10,
              "solidity": 0.2
             }
            },
            "type": "histogram"
           }
          ],
          "histogram2d": [
           {
            "colorbar": {
             "outlinewidth": 0,
             "ticks": ""
            },
            "colorscale": [
             [
              0,
              "#0d0887"
             ],
             [
              0.1111111111111111,
              "#46039f"
             ],
             [
              0.2222222222222222,
              "#7201a8"
             ],
             [
              0.3333333333333333,
              "#9c179e"
             ],
             [
              0.4444444444444444,
              "#bd3786"
             ],
             [
              0.5555555555555556,
              "#d8576b"
             ],
             [
              0.6666666666666666,
              "#ed7953"
             ],
             [
              0.7777777777777778,
              "#fb9f3a"
             ],
             [
              0.8888888888888888,
              "#fdca26"
             ],
             [
              1,
              "#f0f921"
             ]
            ],
            "type": "histogram2d"
           }
          ],
          "histogram2dcontour": [
           {
            "colorbar": {
             "outlinewidth": 0,
             "ticks": ""
            },
            "colorscale": [
             [
              0,
              "#0d0887"
             ],
             [
              0.1111111111111111,
              "#46039f"
             ],
             [
              0.2222222222222222,
              "#7201a8"
             ],
             [
              0.3333333333333333,
              "#9c179e"
             ],
             [
              0.4444444444444444,
              "#bd3786"
             ],
             [
              0.5555555555555556,
              "#d8576b"
             ],
             [
              0.6666666666666666,
              "#ed7953"
             ],
             [
              0.7777777777777778,
              "#fb9f3a"
             ],
             [
              0.8888888888888888,
              "#fdca26"
             ],
             [
              1,
              "#f0f921"
             ]
            ],
            "type": "histogram2dcontour"
           }
          ],
          "mesh3d": [
           {
            "colorbar": {
             "outlinewidth": 0,
             "ticks": ""
            },
            "type": "mesh3d"
           }
          ],
          "parcoords": [
           {
            "line": {
             "colorbar": {
              "outlinewidth": 0,
              "ticks": ""
             }
            },
            "type": "parcoords"
           }
          ],
          "pie": [
           {
            "automargin": true,
            "type": "pie"
           }
          ],
          "scatter": [
           {
            "fillpattern": {
             "fillmode": "overlay",
             "size": 10,
             "solidity": 0.2
            },
            "type": "scatter"
           }
          ],
          "scatter3d": [
           {
            "line": {
             "colorbar": {
              "outlinewidth": 0,
              "ticks": ""
             }
            },
            "marker": {
             "colorbar": {
              "outlinewidth": 0,
              "ticks": ""
             }
            },
            "type": "scatter3d"
           }
          ],
          "scattercarpet": [
           {
            "marker": {
             "colorbar": {
              "outlinewidth": 0,
              "ticks": ""
             }
            },
            "type": "scattercarpet"
           }
          ],
          "scattergeo": [
           {
            "marker": {
             "colorbar": {
              "outlinewidth": 0,
              "ticks": ""
             }
            },
            "type": "scattergeo"
           }
          ],
          "scattergl": [
           {
            "marker": {
             "colorbar": {
              "outlinewidth": 0,
              "ticks": ""
             }
            },
            "type": "scattergl"
           }
          ],
          "scattermap": [
           {
            "marker": {
             "colorbar": {
              "outlinewidth": 0,
              "ticks": ""
             }
            },
            "type": "scattermap"
           }
          ],
          "scattermapbox": [
           {
            "marker": {
             "colorbar": {
              "outlinewidth": 0,
              "ticks": ""
             }
            },
            "type": "scattermapbox"
           }
          ],
          "scatterpolar": [
           {
            "marker": {
             "colorbar": {
              "outlinewidth": 0,
              "ticks": ""
             }
            },
            "type": "scatterpolar"
           }
          ],
          "scatterpolargl": [
           {
            "marker": {
             "colorbar": {
              "outlinewidth": 0,
              "ticks": ""
             }
            },
            "type": "scatterpolargl"
           }
          ],
          "scatterternary": [
           {
            "marker": {
             "colorbar": {
              "outlinewidth": 0,
              "ticks": ""
             }
            },
            "type": "scatterternary"
           }
          ],
          "surface": [
           {
            "colorbar": {
             "outlinewidth": 0,
             "ticks": ""
            },
            "colorscale": [
             [
              0,
              "#0d0887"
             ],
             [
              0.1111111111111111,
              "#46039f"
             ],
             [
              0.2222222222222222,
              "#7201a8"
             ],
             [
              0.3333333333333333,
              "#9c179e"
             ],
             [
              0.4444444444444444,
              "#bd3786"
             ],
             [
              0.5555555555555556,
              "#d8576b"
             ],
             [
              0.6666666666666666,
              "#ed7953"
             ],
             [
              0.7777777777777778,
              "#fb9f3a"
             ],
             [
              0.8888888888888888,
              "#fdca26"
             ],
             [
              1,
              "#f0f921"
             ]
            ],
            "type": "surface"
           }
          ],
          "table": [
           {
            "cells": {
             "fill": {
              "color": "#EBF0F8"
             },
             "line": {
              "color": "white"
             }
            },
            "header": {
             "fill": {
              "color": "#C8D4E3"
             },
             "line": {
              "color": "white"
             }
            },
            "type": "table"
           }
          ]
         },
         "layout": {
          "annotationdefaults": {
           "arrowcolor": "#2a3f5f",
           "arrowhead": 0,
           "arrowwidth": 1
          },
          "autotypenumbers": "strict",
          "coloraxis": {
           "colorbar": {
            "outlinewidth": 0,
            "ticks": ""
           }
          },
          "colorscale": {
           "diverging": [
            [
             0,
             "#8e0152"
            ],
            [
             0.1,
             "#c51b7d"
            ],
            [
             0.2,
             "#de77ae"
            ],
            [
             0.3,
             "#f1b6da"
            ],
            [
             0.4,
             "#fde0ef"
            ],
            [
             0.5,
             "#f7f7f7"
            ],
            [
             0.6,
             "#e6f5d0"
            ],
            [
             0.7,
             "#b8e186"
            ],
            [
             0.8,
             "#7fbc41"
            ],
            [
             0.9,
             "#4d9221"
            ],
            [
             1,
             "#276419"
            ]
           ],
           "sequential": [
            [
             0,
             "#0d0887"
            ],
            [
             0.1111111111111111,
             "#46039f"
            ],
            [
             0.2222222222222222,
             "#7201a8"
            ],
            [
             0.3333333333333333,
             "#9c179e"
            ],
            [
             0.4444444444444444,
             "#bd3786"
            ],
            [
             0.5555555555555556,
             "#d8576b"
            ],
            [
             0.6666666666666666,
             "#ed7953"
            ],
            [
             0.7777777777777778,
             "#fb9f3a"
            ],
            [
             0.8888888888888888,
             "#fdca26"
            ],
            [
             1,
             "#f0f921"
            ]
           ],
           "sequentialminus": [
            [
             0,
             "#0d0887"
            ],
            [
             0.1111111111111111,
             "#46039f"
            ],
            [
             0.2222222222222222,
             "#7201a8"
            ],
            [
             0.3333333333333333,
             "#9c179e"
            ],
            [
             0.4444444444444444,
             "#bd3786"
            ],
            [
             0.5555555555555556,
             "#d8576b"
            ],
            [
             0.6666666666666666,
             "#ed7953"
            ],
            [
             0.7777777777777778,
             "#fb9f3a"
            ],
            [
             0.8888888888888888,
             "#fdca26"
            ],
            [
             1,
             "#f0f921"
            ]
           ]
          },
          "colorway": [
           "#636efa",
           "#EF553B",
           "#00cc96",
           "#ab63fa",
           "#FFA15A",
           "#19d3f3",
           "#FF6692",
           "#B6E880",
           "#FF97FF",
           "#FECB52"
          ],
          "font": {
           "color": "#2a3f5f"
          },
          "geo": {
           "bgcolor": "white",
           "lakecolor": "white",
           "landcolor": "#E5ECF6",
           "showlakes": true,
           "showland": true,
           "subunitcolor": "white"
          },
          "hoverlabel": {
           "align": "left"
          },
          "hovermode": "closest",
          "mapbox": {
           "style": "light"
          },
          "paper_bgcolor": "white",
          "plot_bgcolor": "#E5ECF6",
          "polar": {
           "angularaxis": {
            "gridcolor": "white",
            "linecolor": "white",
            "ticks": ""
           },
           "bgcolor": "#E5ECF6",
           "radialaxis": {
            "gridcolor": "white",
            "linecolor": "white",
            "ticks": ""
           }
          },
          "scene": {
           "xaxis": {
            "backgroundcolor": "#E5ECF6",
            "gridcolor": "white",
            "gridwidth": 2,
            "linecolor": "white",
            "showbackground": true,
            "ticks": "",
            "zerolinecolor": "white"
           },
           "yaxis": {
            "backgroundcolor": "#E5ECF6",
            "gridcolor": "white",
            "gridwidth": 2,
            "linecolor": "white",
            "showbackground": true,
            "ticks": "",
            "zerolinecolor": "white"
           },
           "zaxis": {
            "backgroundcolor": "#E5ECF6",
            "gridcolor": "white",
            "gridwidth": 2,
            "linecolor": "white",
            "showbackground": true,
            "ticks": "",
            "zerolinecolor": "white"
           }
          },
          "shapedefaults": {
           "line": {
            "color": "#2a3f5f"
           }
          },
          "ternary": {
           "aaxis": {
            "gridcolor": "white",
            "linecolor": "white",
            "ticks": ""
           },
           "baxis": {
            "gridcolor": "white",
            "linecolor": "white",
            "ticks": ""
           },
           "bgcolor": "#E5ECF6",
           "caxis": {
            "gridcolor": "white",
            "linecolor": "white",
            "ticks": ""
           }
          },
          "title": {
           "x": 0.05
          },
          "xaxis": {
           "automargin": true,
           "gridcolor": "white",
           "linecolor": "white",
           "ticks": "",
           "title": {
            "standoff": 15
           },
           "zerolinecolor": "white",
           "zerolinewidth": 2
          },
          "yaxis": {
           "automargin": true,
           "gridcolor": "white",
           "linecolor": "white",
           "ticks": "",
           "title": {
            "standoff": 15
           },
           "zerolinecolor": "white",
           "zerolinewidth": 2
          }
         }
        },
        "title": {
         "text": "Streaming Platform Preferences by Generation"
        },
        "xaxis": {
         "anchor": "y",
         "domain": [
          0,
          1
         ],
         "gridcolor": "lightgray",
         "tickangle": 0,
         "title": {
          "text": "Generation"
         }
        },
        "yaxis": {
         "anchor": "x",
         "domain": [
          0,
          1
         ],
         "gridcolor": "lightgray",
         "title": {
          "text": "Percentage of Users"
         }
        }
       }
      }
     },
     "metadata": {},
     "output_type": "display_data"
    },
    {
     "name": "stdout",
     "output_type": "stream",
     "text": [
      "\n",
      "=== TOP PLATFORM BY GENERATION ===\n",
      "🎯 Gen Z (13-25): Amazon Music (17.5%)\n",
      "🎯 Millennials (26-41): Deezer (18.0%)\n",
      "🎯 Gen X (42-60): Tidal (17.7%)\n",
      "\n",
      "=== PLATFORM DOMINANCE BY GENERATION ===\n",
      "🎵 Tidal: Most popular with Gen X (42-60) (17.7%)\n",
      "🎵 Deezer: Most popular with Millennials (26-41) (18.0%)\n",
      "🎵 YouTube: Most popular with Gen Z (13-25) (17.1%)\n",
      "🎵 Amazon Music: Most popular with Gen Z (13-25) (17.5%)\n",
      "🎵 Spotify: Most popular with Gen X (42-60) (16.8%)\n",
      "🎵 Apple Music: Most popular with Gen Z (13-25) (16.5%)\n",
      "\n",
      "=== TOTAL USERS BY PLATFORM ===\n",
      "📊 Amazon Music: 861 users (17.2%)\n",
      "📊 Tidal: 850 users (17.0%)\n",
      "📊 Deezer: 844 users (16.9%)\n",
      "📊 Spotify: 827 users (16.5%)\n",
      "📊 YouTube: 822 users (16.4%)\n",
      "📊 Apple Music: 796 users (15.9%)\n"
     ]
    }
   ],
   "source": [
    "# Streaming Platform Analysis by Generation\n",
    "print(\"=== STREAMING PLATFORM PREFERENCES BY GENERATION ===\")\n",
    "\n",
    "if 'Streaming Platform' in df.columns and 'Age_Group' in df.columns:\n",
    "    \n",
    "    # Create cross-tabulation for generations and streaming platforms\n",
    "    platform_gen_counts = df.groupby(['Age_Group', 'Streaming Platform']).size().reset_index(name='Count')\n",
    "    gen_totals = df.groupby('Age_Group').size().reset_index(name='Total')\n",
    "    platform_gen_counts = platform_gen_counts.merge(gen_totals, on='Age_Group')\n",
    "    platform_gen_counts['Percentage'] = (platform_gen_counts['Count'] / platform_gen_counts['Total'] * 100).round(1)\n",
    "    \n",
    "    # Generation colors\n",
    "    generation_colors = {\n",
    "        'Gen Z (13-25)': '#FF6B6B',\n",
    "        'Millennials (26-41)': '#4ECDC4',\n",
    "        'Gen X (42-60)': '#45B7D1'\n",
    "    }\n",
    "    \n",
    "    # Create interactive grouped bar chart\n",
    "    fig_platform = px.bar(\n",
    "        platform_gen_counts,\n",
    "        x='Age_Group',\n",
    "        y='Percentage',\n",
    "        color='Streaming Platform',\n",
    "        title='Streaming Platform Preferences by Generation',\n",
    "        barmode='group',\n",
    "        hover_data=['Count', 'Total'],\n",
    "        labels={'Age_Group': 'Generation', 'Percentage': 'Percentage of Users'}\n",
    "    )\n",
    "    \n",
    "    fig_platform.update_layout(\n",
    "        height=600,\n",
    "        xaxis_tickangle=0,\n",
    "        legend=dict(\n",
    "            orientation=\"v\",\n",
    "            yanchor=\"top\",\n",
    "            y=1,\n",
    "            xanchor=\"left\",\n",
    "            x=1.02\n",
    "        ),\n",
    "        xaxis=dict(gridcolor='lightgray'),\n",
    "        yaxis=dict(gridcolor='lightgray'),\n",
    "        plot_bgcolor='white',\n",
    "        margin=dict(r=150)  # Extra margin for legend\n",
    "    )\n",
    "    \n",
    "    fig_platform.show()\n",
    "    \n",
    "    # Print platform preferences by generation\n",
    "    print(f\"\\n=== TOP PLATFORM BY GENERATION ===\")\n",
    "    for generation in ['Gen Z (13-25)', 'Millennials (26-41)', 'Gen X (42-60)']:\n",
    "        gen_data = platform_gen_counts[platform_gen_counts['Age_Group'] == generation]\n",
    "        if not gen_data.empty:\n",
    "            top_platform_row = gen_data.loc[gen_data['Percentage'].idxmax()]\n",
    "            print(f\"🎯 {generation}: {top_platform_row['Streaming Platform']} ({top_platform_row['Percentage']:.1f}%)\")\n",
    "    \n",
    "    # Platform dominance analysis\n",
    "    print(f\"\\n=== PLATFORM DOMINANCE BY GENERATION ===\")\n",
    "    for platform in df['Streaming Platform'].unique():\n",
    "        platform_data = platform_gen_counts[platform_gen_counts['Streaming Platform'] == platform]\n",
    "        if not platform_data.empty:\n",
    "            top_gen_row = platform_data.loc[platform_data['Percentage'].idxmax()]\n",
    "            print(f\"🎵 {platform}: Most popular with {top_gen_row['Age_Group']} ({top_gen_row['Percentage']:.1f}%)\")\n",
    "    \n",
    "    # Total users by platform\n",
    "    print(f\"\\n=== TOTAL USERS BY PLATFORM ===\")\n",
    "    platform_totals = df['Streaming Platform'].value_counts()\n",
    "    for platform, count in platform_totals.items():\n",
    "        percentage = (count / len(df) * 100)\n",
    "        print(f\"📊 {platform}: {count:,} users ({percentage:.1f}%)\")\n",
    "\n",
    "else:\n",
    "    if 'Streaming Platform' not in df.columns:\n",
    "        print(\"❌ 'Streaming Platform' column not found.\")\n",
    "    if 'Age_Group' not in df.columns:\n",
    "        print(\"❌ 'Age_Group' column not found. Please run the age segmentation analysis first.\")"
   ]
  },
  {
   "cell_type": "code",
   "execution_count": 12,
   "id": "08bf56e1",
   "metadata": {},
   "outputs": [
    {
     "name": "stdout",
     "output_type": "stream",
     "text": [
      "=== INTERACTIVE UNIFIED CHOROPLETH MAP: MULTIPLE VARIABLES BY COUNTRY ===\n",
      "\n",
      "🗺️ UNIFIED INTERACTIVE CHOROPLETH MAP\n",
      "Available quantitative variables: ['Minutes Streamed Per Day', 'Number of Songs Liked', 'Discover Weekly Engagement (%)', 'Repeat Song Rate (%)']\n"
     ]
    },
    {
     "data": {
      "application/vnd.plotly.v1+json": {
       "config": {
        "plotlyServerURL": "https://plot.ly"
       },
       "data": [
        {
         "coloraxis": "coloraxis",
         "geo": "geo",
         "hovertemplate": "<b>%{hovertext}</b><br><br>ISO_Code=%{location}<br>Minutes Streamed Per Day=%{z}<extra></extra>",
         "hovertext": [
          "Japan",
          "Germany",
          "Australia",
          "South Korea",
          "UK",
          "Brazil",
          "Canada",
          "India",
          "USA",
          "France"
         ],
         "locations": [
          "JPN",
          "DEU",
          "AUS",
          "KOR",
          "GBR",
          "BRA",
          "CAN",
          "IND",
          "USA",
          "FRA"
         ],
         "name": "",
         "type": "choropleth",
         "z": {
          "bdata": "mpmZmZkpc0AAAAAAACB0QGZmZmZmrnNAMzMzMzPDc0DNzMzMzFxzQDMzMzMzW3JAMzMzMzM7c0AAAAAAABhzQGZmZmZmlnJAmpmZmZnpc0A=",
          "dtype": "f8"
         }
        }
       ],
       "layout": {
        "annotations": [
         {
          "font": {
           "size": 12
          },
          "showarrow": false,
          "text": "Select Variable:",
          "x": 0.02,
          "xref": "paper",
          "y": 1.18,
          "yref": "paper"
         }
        ],
        "coloraxis": {
         "colorbar": {
          "title": {
           "text": "Minutes Streamed Per Day"
          }
         },
         "colorscale": [
          [
           0,
           "#440154"
          ],
          [
           0.1111111111111111,
           "#482878"
          ],
          [
           0.2222222222222222,
           "#3e4989"
          ],
          [
           0.3333333333333333,
           "#31688e"
          ],
          [
           0.4444444444444444,
           "#26828e"
          ],
          [
           0.5555555555555556,
           "#1f9e89"
          ],
          [
           0.6666666666666666,
           "#35b779"
          ],
          [
           0.7777777777777778,
           "#6ece58"
          ],
          [
           0.8888888888888888,
           "#b5de2b"
          ],
          [
           1,
           "#fde725"
          ]
         ]
        },
        "geo": {
         "center": {},
         "domain": {
          "x": [
           0,
           1
          ],
          "y": [
           0,
           1
          ]
         },
         "projection": {
          "type": "equirectangular"
         },
         "showcoastlines": true,
         "showframe": false
        },
        "height": 600,
        "legend": {
         "tracegroupgap": 0
        },
        "template": {
         "data": {
          "bar": [
           {
            "error_x": {
             "color": "#2a3f5f"
            },
            "error_y": {
             "color": "#2a3f5f"
            },
            "marker": {
             "line": {
              "color": "#E5ECF6",
              "width": 0.5
             },
             "pattern": {
              "fillmode": "overlay",
              "size": 10,
              "solidity": 0.2
             }
            },
            "type": "bar"
           }
          ],
          "barpolar": [
           {
            "marker": {
             "line": {
              "color": "#E5ECF6",
              "width": 0.5
             },
             "pattern": {
              "fillmode": "overlay",
              "size": 10,
              "solidity": 0.2
             }
            },
            "type": "barpolar"
           }
          ],
          "carpet": [
           {
            "aaxis": {
             "endlinecolor": "#2a3f5f",
             "gridcolor": "white",
             "linecolor": "white",
             "minorgridcolor": "white",
             "startlinecolor": "#2a3f5f"
            },
            "baxis": {
             "endlinecolor": "#2a3f5f",
             "gridcolor": "white",
             "linecolor": "white",
             "minorgridcolor": "white",
             "startlinecolor": "#2a3f5f"
            },
            "type": "carpet"
           }
          ],
          "choropleth": [
           {
            "colorbar": {
             "outlinewidth": 0,
             "ticks": ""
            },
            "type": "choropleth"
           }
          ],
          "contour": [
           {
            "colorbar": {
             "outlinewidth": 0,
             "ticks": ""
            },
            "colorscale": [
             [
              0,
              "#0d0887"
             ],
             [
              0.1111111111111111,
              "#46039f"
             ],
             [
              0.2222222222222222,
              "#7201a8"
             ],
             [
              0.3333333333333333,
              "#9c179e"
             ],
             [
              0.4444444444444444,
              "#bd3786"
             ],
             [
              0.5555555555555556,
              "#d8576b"
             ],
             [
              0.6666666666666666,
              "#ed7953"
             ],
             [
              0.7777777777777778,
              "#fb9f3a"
             ],
             [
              0.8888888888888888,
              "#fdca26"
             ],
             [
              1,
              "#f0f921"
             ]
            ],
            "type": "contour"
           }
          ],
          "contourcarpet": [
           {
            "colorbar": {
             "outlinewidth": 0,
             "ticks": ""
            },
            "type": "contourcarpet"
           }
          ],
          "heatmap": [
           {
            "colorbar": {
             "outlinewidth": 0,
             "ticks": ""
            },
            "colorscale": [
             [
              0,
              "#0d0887"
             ],
             [
              0.1111111111111111,
              "#46039f"
             ],
             [
              0.2222222222222222,
              "#7201a8"
             ],
             [
              0.3333333333333333,
              "#9c179e"
             ],
             [
              0.4444444444444444,
              "#bd3786"
             ],
             [
              0.5555555555555556,
              "#d8576b"
             ],
             [
              0.6666666666666666,
              "#ed7953"
             ],
             [
              0.7777777777777778,
              "#fb9f3a"
             ],
             [
              0.8888888888888888,
              "#fdca26"
             ],
             [
              1,
              "#f0f921"
             ]
            ],
            "type": "heatmap"
           }
          ],
          "histogram": [
           {
            "marker": {
             "pattern": {
              "fillmode": "overlay",
              "size": 10,
              "solidity": 0.2
             }
            },
            "type": "histogram"
           }
          ],
          "histogram2d": [
           {
            "colorbar": {
             "outlinewidth": 0,
             "ticks": ""
            },
            "colorscale": [
             [
              0,
              "#0d0887"
             ],
             [
              0.1111111111111111,
              "#46039f"
             ],
             [
              0.2222222222222222,
              "#7201a8"
             ],
             [
              0.3333333333333333,
              "#9c179e"
             ],
             [
              0.4444444444444444,
              "#bd3786"
             ],
             [
              0.5555555555555556,
              "#d8576b"
             ],
             [
              0.6666666666666666,
              "#ed7953"
             ],
             [
              0.7777777777777778,
              "#fb9f3a"
             ],
             [
              0.8888888888888888,
              "#fdca26"
             ],
             [
              1,
              "#f0f921"
             ]
            ],
            "type": "histogram2d"
           }
          ],
          "histogram2dcontour": [
           {
            "colorbar": {
             "outlinewidth": 0,
             "ticks": ""
            },
            "colorscale": [
             [
              0,
              "#0d0887"
             ],
             [
              0.1111111111111111,
              "#46039f"
             ],
             [
              0.2222222222222222,
              "#7201a8"
             ],
             [
              0.3333333333333333,
              "#9c179e"
             ],
             [
              0.4444444444444444,
              "#bd3786"
             ],
             [
              0.5555555555555556,
              "#d8576b"
             ],
             [
              0.6666666666666666,
              "#ed7953"
             ],
             [
              0.7777777777777778,
              "#fb9f3a"
             ],
             [
              0.8888888888888888,
              "#fdca26"
             ],
             [
              1,
              "#f0f921"
             ]
            ],
            "type": "histogram2dcontour"
           }
          ],
          "mesh3d": [
           {
            "colorbar": {
             "outlinewidth": 0,
             "ticks": ""
            },
            "type": "mesh3d"
           }
          ],
          "parcoords": [
           {
            "line": {
             "colorbar": {
              "outlinewidth": 0,
              "ticks": ""
             }
            },
            "type": "parcoords"
           }
          ],
          "pie": [
           {
            "automargin": true,
            "type": "pie"
           }
          ],
          "scatter": [
           {
            "fillpattern": {
             "fillmode": "overlay",
             "size": 10,
             "solidity": 0.2
            },
            "type": "scatter"
           }
          ],
          "scatter3d": [
           {
            "line": {
             "colorbar": {
              "outlinewidth": 0,
              "ticks": ""
             }
            },
            "marker": {
             "colorbar": {
              "outlinewidth": 0,
              "ticks": ""
             }
            },
            "type": "scatter3d"
           }
          ],
          "scattercarpet": [
           {
            "marker": {
             "colorbar": {
              "outlinewidth": 0,
              "ticks": ""
             }
            },
            "type": "scattercarpet"
           }
          ],
          "scattergeo": [
           {
            "marker": {
             "colorbar": {
              "outlinewidth": 0,
              "ticks": ""
             }
            },
            "type": "scattergeo"
           }
          ],
          "scattergl": [
           {
            "marker": {
             "colorbar": {
              "outlinewidth": 0,
              "ticks": ""
             }
            },
            "type": "scattergl"
           }
          ],
          "scattermap": [
           {
            "marker": {
             "colorbar": {
              "outlinewidth": 0,
              "ticks": ""
             }
            },
            "type": "scattermap"
           }
          ],
          "scattermapbox": [
           {
            "marker": {
             "colorbar": {
              "outlinewidth": 0,
              "ticks": ""
             }
            },
            "type": "scattermapbox"
           }
          ],
          "scatterpolar": [
           {
            "marker": {
             "colorbar": {
              "outlinewidth": 0,
              "ticks": ""
             }
            },
            "type": "scatterpolar"
           }
          ],
          "scatterpolargl": [
           {
            "marker": {
             "colorbar": {
              "outlinewidth": 0,
              "ticks": ""
             }
            },
            "type": "scatterpolargl"
           }
          ],
          "scatterternary": [
           {
            "marker": {
             "colorbar": {
              "outlinewidth": 0,
              "ticks": ""
             }
            },
            "type": "scatterternary"
           }
          ],
          "surface": [
           {
            "colorbar": {
             "outlinewidth": 0,
             "ticks": ""
            },
            "colorscale": [
             [
              0,
              "#0d0887"
             ],
             [
              0.1111111111111111,
              "#46039f"
             ],
             [
              0.2222222222222222,
              "#7201a8"
             ],
             [
              0.3333333333333333,
              "#9c179e"
             ],
             [
              0.4444444444444444,
              "#bd3786"
             ],
             [
              0.5555555555555556,
              "#d8576b"
             ],
             [
              0.6666666666666666,
              "#ed7953"
             ],
             [
              0.7777777777777778,
              "#fb9f3a"
             ],
             [
              0.8888888888888888,
              "#fdca26"
             ],
             [
              1,
              "#f0f921"
             ]
            ],
            "type": "surface"
           }
          ],
          "table": [
           {
            "cells": {
             "fill": {
              "color": "#EBF0F8"
             },
             "line": {
              "color": "white"
             }
            },
            "header": {
             "fill": {
              "color": "#C8D4E3"
             },
             "line": {
              "color": "white"
             }
            },
            "type": "table"
           }
          ]
         },
         "layout": {
          "annotationdefaults": {
           "arrowcolor": "#2a3f5f",
           "arrowhead": 0,
           "arrowwidth": 1
          },
          "autotypenumbers": "strict",
          "coloraxis": {
           "colorbar": {
            "outlinewidth": 0,
            "ticks": ""
           }
          },
          "colorscale": {
           "diverging": [
            [
             0,
             "#8e0152"
            ],
            [
             0.1,
             "#c51b7d"
            ],
            [
             0.2,
             "#de77ae"
            ],
            [
             0.3,
             "#f1b6da"
            ],
            [
             0.4,
             "#fde0ef"
            ],
            [
             0.5,
             "#f7f7f7"
            ],
            [
             0.6,
             "#e6f5d0"
            ],
            [
             0.7,
             "#b8e186"
            ],
            [
             0.8,
             "#7fbc41"
            ],
            [
             0.9,
             "#4d9221"
            ],
            [
             1,
             "#276419"
            ]
           ],
           "sequential": [
            [
             0,
             "#0d0887"
            ],
            [
             0.1111111111111111,
             "#46039f"
            ],
            [
             0.2222222222222222,
             "#7201a8"
            ],
            [
             0.3333333333333333,
             "#9c179e"
            ],
            [
             0.4444444444444444,
             "#bd3786"
            ],
            [
             0.5555555555555556,
             "#d8576b"
            ],
            [
             0.6666666666666666,
             "#ed7953"
            ],
            [
             0.7777777777777778,
             "#fb9f3a"
            ],
            [
             0.8888888888888888,
             "#fdca26"
            ],
            [
             1,
             "#f0f921"
            ]
           ],
           "sequentialminus": [
            [
             0,
             "#0d0887"
            ],
            [
             0.1111111111111111,
             "#46039f"
            ],
            [
             0.2222222222222222,
             "#7201a8"
            ],
            [
             0.3333333333333333,
             "#9c179e"
            ],
            [
             0.4444444444444444,
             "#bd3786"
            ],
            [
             0.5555555555555556,
             "#d8576b"
            ],
            [
             0.6666666666666666,
             "#ed7953"
            ],
            [
             0.7777777777777778,
             "#fb9f3a"
            ],
            [
             0.8888888888888888,
             "#fdca26"
            ],
            [
             1,
             "#f0f921"
            ]
           ]
          },
          "colorway": [
           "#636efa",
           "#EF553B",
           "#00cc96",
           "#ab63fa",
           "#FFA15A",
           "#19d3f3",
           "#FF6692",
           "#B6E880",
           "#FF97FF",
           "#FECB52"
          ],
          "font": {
           "color": "#2a3f5f"
          },
          "geo": {
           "bgcolor": "white",
           "lakecolor": "white",
           "landcolor": "#E5ECF6",
           "showlakes": true,
           "showland": true,
           "subunitcolor": "white"
          },
          "hoverlabel": {
           "align": "left"
          },
          "hovermode": "closest",
          "mapbox": {
           "style": "light"
          },
          "paper_bgcolor": "white",
          "plot_bgcolor": "#E5ECF6",
          "polar": {
           "angularaxis": {
            "gridcolor": "white",
            "linecolor": "white",
            "ticks": ""
           },
           "bgcolor": "#E5ECF6",
           "radialaxis": {
            "gridcolor": "white",
            "linecolor": "white",
            "ticks": ""
           }
          },
          "scene": {
           "xaxis": {
            "backgroundcolor": "#E5ECF6",
            "gridcolor": "white",
            "gridwidth": 2,
            "linecolor": "white",
            "showbackground": true,
            "ticks": "",
            "zerolinecolor": "white"
           },
           "yaxis": {
            "backgroundcolor": "#E5ECF6",
            "gridcolor": "white",
            "gridwidth": 2,
            "linecolor": "white",
            "showbackground": true,
            "ticks": "",
            "zerolinecolor": "white"
           },
           "zaxis": {
            "backgroundcolor": "#E5ECF6",
            "gridcolor": "white",
            "gridwidth": 2,
            "linecolor": "white",
            "showbackground": true,
            "ticks": "",
            "zerolinecolor": "white"
           }
          },
          "shapedefaults": {
           "line": {
            "color": "#2a3f5f"
           }
          },
          "ternary": {
           "aaxis": {
            "gridcolor": "white",
            "linecolor": "white",
            "ticks": ""
           },
           "baxis": {
            "gridcolor": "white",
            "linecolor": "white",
            "ticks": ""
           },
           "bgcolor": "#E5ECF6",
           "caxis": {
            "gridcolor": "white",
            "linecolor": "white",
            "ticks": ""
           }
          },
          "title": {
           "x": 0.05
          },
          "xaxis": {
           "automargin": true,
           "gridcolor": "white",
           "linecolor": "white",
           "ticks": "",
           "title": {
            "standoff": 15
           },
           "zerolinecolor": "white",
           "zerolinewidth": 2
          },
          "yaxis": {
           "automargin": true,
           "gridcolor": "white",
           "linecolor": "white",
           "ticks": "",
           "title": {
            "standoff": 15
           },
           "zerolinecolor": "white",
           "zerolinewidth": 2
          }
         }
        },
        "title": {
         "text": "Interactive Country Analysis Map: Minutes Streamed Per Day"
        },
        "updatemenus": [
         {
          "bgcolor": "rgba(255,255,255,0.9)",
          "bordercolor": "gray",
          "borderwidth": 1,
          "buttons": [
           {
            "args": [
             {
              "colorscale": "Viridis",
              "z": [
               [
                306.6,
                322,
                314.9,
                316.2,
                309.8,
                293.7,
                307.7,
                305.5,
                297.4,
                318.6
               ]
              ]
             },
             {
              "title": "Interactive Country Analysis Map: Minutes Streamed Per Day"
             }
            ],
            "label": "Minutes Streamed Per Day",
            "method": "update"
           },
           {
            "args": [
             {
              "colorscale": "Viridis",
              "z": [
               [
                259.5,
                260.1,
                249,
                246.3,
                251.4,
                246.6,
                265.1,
                248.8,
                247.9,
                261.2
               ]
              ]
             },
             {
              "title": "Interactive Country Analysis Map: Number of Songs Liked"
             }
            ],
            "label": "Number of Songs Liked",
            "method": "update"
           },
           {
            "args": [
             {
              "colorscale": "Viridis",
              "z": [
               [
                50.4,
                50.6,
                51.5,
                50.3,
                48.6,
                49.8,
                49.3,
                51.4,
                50.9,
                50.3
               ]
              ]
             },
             {
              "title": "Interactive Country Analysis Map: Discover Weekly Engagement (%)"
             }
            ],
            "label": "Discover Weekly Engagement (%)",
            "method": "update"
           },
           {
            "args": [
             {
              "colorscale": "Viridis",
              "z": [
               [
                41.6,
                41.1,
                42.2,
                41.9,
                43.6,
                43.7,
                41.7,
                43.4,
                42.1,
                42.4
               ]
              ]
             },
             {
              "title": "Interactive Country Analysis Map: Repeat Song Rate (%)"
             }
            ],
            "label": "Repeat Song Rate (%)",
            "method": "update"
           },
           {
            "args": [
             {
              "colorscale": "Blues",
              "z": [
               [
                491,
                471,
                526,
                516,
                516,
                508,
                507,
                490,
                482,
                493
               ]
              ]
             },
             {
              "title": "Interactive Country Analysis Map: Total Users"
             }
            ],
            "label": "Total Users",
            "method": "update"
           }
          ],
          "direction": "down",
          "showactive": true,
          "x": 0.02,
          "xanchor": "left",
          "y": 1.15,
          "yanchor": "top"
         }
        ]
       }
      }
     },
     "metadata": {},
     "output_type": "display_data"
    },
    {
     "name": "stdout",
     "output_type": "stream",
     "text": [
      "\n",
      "=== UNIFIED CHOROPLETH MAP INSIGHTS ===\n",
      "📍 Countries analyzed: 10 countries\n",
      "🔍 Variables available: 7 different metrics\n",
      "\n",
      "=== TOP COUNTRIES BY QUANTITATIVE VARIABLES ===\n",
      "🏆 Minutes Streamed Per Day: Germany (322.0)\n",
      "🏆 Number of Songs Liked: Canada (265.1)\n",
      "🏆 Discover Weekly Engagement (%): Australia (51.5)\n",
      "🏆 Repeat Song Rate (%): Brazil (43.7)\n",
      "\n",
      "=== USER CONCENTRATION RANKINGS ===\n",
      "1. Australia: 526 users\n",
      "2. South Korea: 516 users\n",
      "3. UK: 516 users\n",
      "4. Brazil: 508 users\n",
      "5. Canada: 507 users\n",
      "\n",
      "=== MOST POPULAR GENRE BY COUNTRY ===\n",
      "🎵 Japan: Jazz (11.6%)\n",
      "🎵 Germany: EDM (15.1%)\n",
      "🎵 Australia: Pop (11.6%)\n",
      "🎵 South Korea: Rock (12.4%)\n",
      "🎵 UK: Reggae (12.2%)\n",
      "🎵 Brazil: Rock (12.0%)\n",
      "🎵 Canada: EDM (11.6%)\n",
      "🎵 India: Reggae (12.7%)\n",
      "🎵 USA: EDM (12.2%)\n",
      "🎵 France: Jazz (12.0%)\n",
      "\n",
      "=== MOST POPULAR ARTIST BY COUNTRY ===\n",
      "🎤 Japan: Billie Eilish (11.2%)\n",
      "🎤 Germany: Adele (11.9%)\n",
      "🎤 Australia: Post Malone (12.4%)\n",
      "🎤 South Korea: Post Malone (12.6%)\n",
      "🎤 UK: Bad Bunny (12.6%)\n",
      "🎤 Brazil: Dua Lipa (12.0%)\n",
      "🎤 Canada: Bad Bunny (11.6%)\n",
      "🎤 India: Drake (12.7%)\n",
      "🎤 USA: Bad Bunny (11.0%)\n",
      "🎤 France: BTS (13.0%)\n"
     ]
    }
   ],
   "source": [
    "# Interactive Unified Choropleth Map - Multiple Variables by Country\n",
    "print(\"=== INTERACTIVE UNIFIED CHOROPLETH MAP: MULTIPLE VARIABLES BY COUNTRY ===\")\n",
    "\n",
    "if 'Country' in df.columns:\n",
    "    \n",
    "    # Create country mapping to ISO codes for choropleth map\n",
    "    country_iso_mapping = {\n",
    "        'USA': 'USA',\n",
    "        'UK': 'GBR', \n",
    "        'Canada': 'CAN',\n",
    "        'Australia': 'AUS',\n",
    "        'Germany': 'DEU',\n",
    "        'France': 'FRA',\n",
    "        'Brazil': 'BRA',\n",
    "        'Japan': 'JPN',\n",
    "        'South Korea': 'KOR',\n",
    "        'India': 'IND'\n",
    "    }\n",
    "    \n",
    "    # Define quantitative variables that exist in the dataset\n",
    "    quantitative_vars = ['Minutes Streamed Per Day', 'Number of Songs Liked', \n",
    "                        'Discover Weekly Engagement (%)', 'Repeat Song Rate (%)']\n",
    "    available_quantitative = [var for var in quantitative_vars if var in df.columns]\n",
    "    \n",
    "    print(f\"\\n🗺️ UNIFIED INTERACTIVE CHOROPLETH MAP\")\n",
    "    print(f\"Available quantitative variables: {available_quantitative}\")\n",
    "    \n",
    "    if available_quantitative:\n",
    "        # Prepare data for choropleth\n",
    "        choropleth_data = []\n",
    "        \n",
    "        for country in df['Country'].unique():\n",
    "            country_data = df[df['Country'] == country]\n",
    "            if not country_data.empty:\n",
    "                iso_code = country_iso_mapping.get(country, country)\n",
    "                total_users = len(country_data)\n",
    "                \n",
    "                country_stats = {\n",
    "                    'Country': country,\n",
    "                    'ISO_Code': iso_code,\n",
    "                    'Total Users': total_users\n",
    "                }\n",
    "                \n",
    "                # Add quantitative variables (averages)\n",
    "                for var in available_quantitative:\n",
    "                    country_stats[var] = country_data[var].mean().round(1)\n",
    "                \n",
    "                # Add most popular genre if available\n",
    "                if 'Top Genre' in df.columns:\n",
    "                    most_popular_genre = country_data['Top Genre'].value_counts().index[0]\n",
    "                    genre_percentage = (country_data['Top Genre'].value_counts().iloc[0] / total_users * 100).round(1)\n",
    "                    country_stats['Most Popular Genre'] = most_popular_genre\n",
    "                    country_stats['Genre Percentage'] = genre_percentage\n",
    "                \n",
    "                # Add most popular artist if available\n",
    "                if 'Most Played Artist' in df.columns:\n",
    "                    most_popular_artist = country_data['Most Played Artist'].value_counts().index[0]\n",
    "                    artist_percentage = (country_data['Most Played Artist'].value_counts().iloc[0] / total_users * 100).round(1)\n",
    "                    country_stats['Most Popular Artist'] = most_popular_artist\n",
    "                    country_stats['Artist Percentage'] = artist_percentage\n",
    "                \n",
    "                choropleth_data.append(country_stats)\n",
    "        \n",
    "        choropleth_df = pd.DataFrame(choropleth_data)\n",
    "        \n",
    "        # Create all map variables list\n",
    "        all_map_variables = available_quantitative + ['Total Users']\n",
    "        if 'Top Genre' in df.columns:\n",
    "            all_map_variables.append('Most Popular Genre')\n",
    "        if 'Most Played Artist' in df.columns:\n",
    "            all_map_variables.append('Most Popular Artist')\n",
    "        \n",
    "        # Create the figure with the first variable\n",
    "        first_var = all_map_variables[0]\n",
    "        \n",
    "        # Create choropleth map with Plotly Express (simpler approach)\n",
    "        fig_unified = px.choropleth(\n",
    "            choropleth_df,\n",
    "            locations='ISO_Code',\n",
    "            color=first_var,\n",
    "            hover_name='Country',\n",
    "            color_continuous_scale='Viridis',\n",
    "            title=f'Interactive Country Analysis Map: {first_var}'\n",
    "        )\n",
    "        \n",
    "        # Create dropdown buttons for quantitative variables only\n",
    "        dropdown_buttons = []\n",
    "        for var in available_quantitative + ['Total Users']:\n",
    "            color_scale = 'Blues' if var == 'Total Users' else 'Viridis'\n",
    "            dropdown_buttons.append(\n",
    "                dict(\n",
    "                    args=[{\n",
    "                        'z': [choropleth_df[var]],\n",
    "                        'colorscale': color_scale\n",
    "                    }, {\n",
    "                        'title': f'Interactive Country Analysis Map: {var}'\n",
    "                    }],\n",
    "                    label=var,\n",
    "                    method='update'\n",
    "                )\n",
    "            )\n",
    "        \n",
    "        # Update layout with dropdown\n",
    "        fig_unified.update_layout(\n",
    "            updatemenus=[{\n",
    "                'buttons': dropdown_buttons,\n",
    "                'direction': 'down',\n",
    "                'showactive': True,\n",
    "                'x': 0.02,\n",
    "                'xanchor': 'left',\n",
    "                'y': 1.15,\n",
    "                'yanchor': 'top',\n",
    "                'bgcolor': 'rgba(255,255,255,0.9)',\n",
    "                'bordercolor': 'gray',\n",
    "                'borderwidth': 1\n",
    "            }],\n",
    "            annotations=[{\n",
    "                'text': 'Select Variable:',\n",
    "                'showarrow': False,\n",
    "                'x': 0.02,\n",
    "                'y': 1.18,\n",
    "                'xref': 'paper',\n",
    "                'yref': 'paper',\n",
    "                'font': {'size': 12}\n",
    "            }],\n",
    "            height=600,\n",
    "            geo=dict(\n",
    "                showframe=False,\n",
    "                showcoastlines=True,\n",
    "                projection_type='equirectangular'\n",
    "            )\n",
    "        )\n",
    "        \n",
    "        fig_unified.show()\n",
    "        \n",
    "        # Print insights\n",
    "        print(f\"\\n=== UNIFIED CHOROPLETH MAP INSIGHTS ===\")\n",
    "        print(f\"📍 Countries analyzed: {len(choropleth_df)} countries\")\n",
    "        print(f\"🔍 Variables available: {len(all_map_variables)} different metrics\")\n",
    "        \n",
    "        # Show top countries for quantitative variables\n",
    "        print(f\"\\n=== TOP COUNTRIES BY QUANTITATIVE VARIABLES ===\")\n",
    "        for var in available_quantitative:\n",
    "            if var in choropleth_df.columns:\n",
    "                top_country = choropleth_df.loc[choropleth_df[var].idxmax()]\n",
    "                print(f\"🏆 {var}: {top_country['Country']} ({top_country[var]:.1f})\")\n",
    "        \n",
    "        # Show user concentration ranking\n",
    "        print(f\"\\n=== USER CONCENTRATION RANKINGS ===\")\n",
    "        user_rankings = choropleth_df.sort_values('Total Users', ascending=False)\n",
    "        for i, (_, row) in enumerate(user_rankings.head(5).iterrows(), 1):\n",
    "            print(f\"{i}. {row['Country']}: {row['Total Users']:,} users\")\n",
    "        \n",
    "        # Show categorical insights if available\n",
    "        if 'Most Popular Genre' in choropleth_df.columns:\n",
    "            print(f\"\\n=== MOST POPULAR GENRE BY COUNTRY ===\")\n",
    "            for _, row in choropleth_df.iterrows():\n",
    "                print(f\"🎵 {row['Country']}: {row['Most Popular Genre']} ({row['Genre Percentage']:.1f}%)\")\n",
    "        \n",
    "        if 'Most Popular Artist' in choropleth_df.columns:\n",
    "            print(f\"\\n=== MOST POPULAR ARTIST BY COUNTRY ===\")\n",
    "            for _, row in choropleth_df.iterrows():\n",
    "                print(f\"🎤 {row['Country']}: {row['Most Popular Artist']} ({row['Artist Percentage']:.1f}%)\")\n",
    "        \n",
    "    else:\n",
    "        print(\"❌ No quantitative variables found for choropleth mapping\")\n",
    "\n",
    "else:\n",
    "    print(\"❌ 'Country' column not found in dataset\")"
   ]
  },
  {
   "cell_type": "code",
   "execution_count": 13,
   "id": "correlation-analysis",
   "metadata": {},
   "outputs": [
    {
     "name": "stdout",
     "output_type": "stream",
     "text": [
      "=== CORRELATION ANALYSIS ===\n",
      "Numerical columns: ['Age', 'Minutes Streamed Per Day', 'Number of Songs Liked', 'Discover Weekly Engagement (%)', 'Repeat Song Rate (%)']\n"
     ]
    },
    {
     "data": {
      "image/png": "[encoded data removed]",
      "text/plain": [
       "<Figure size 1200x800 with 2 Axes>"
      ]
     },
     "metadata": {},
     "output_type": "display_data"
    }
   ],
   "source": [
    "# Correlation Analysis\n",
    "print(\"=== CORRELATION ANALYSIS ===\")\n",
    "\n",
    "# Select numerical columns\n",
    "numerical_cols = df.select_dtypes(include=[np.number]).columns\n",
    "print(f\"Numerical columns: {list(numerical_cols)}\")\n",
    "\n",
    "if len(numerical_cols) > 1:\n",
    "    # Calculate correlation matrix\n",
    "    correlation_matrix = df[numerical_cols].corr()\n",
    "    \n",
    "    # Plot heatmap\n",
    "    plt.figure(figsize=(12, 8))\n",
    "    sns.heatmap(correlation_matrix, annot=True, cmap='coolwarm', center=0,\n",
    "                square=True, fmt='.2f', linewidths=0.5)\n",
    "    plt.title('Correlation Matrix of Numerical Variables')\n",
    "    plt.tight_layout()\n",
    "    plt.show()\n",
    "    \n",
    "    # Find strongest correlations\n",
    "    correlation_pairs = []\n",
    "    for i in range(len(correlation_matrix.columns)):\n",
    "        for j in range(i+1, len(correlation_matrix.columns)):\n",
    "            corr_val = correlation_matrix.iloc[i, j]\n",
    "            if abs(corr_val) > 0.5:  # Strong correlation threshold\n",
    "                correlation_pairs.append({\n",
    "                    'var1': correlation_matrix.columns[i],\n",
    "                    'var2': correlation_matrix.columns[j],\n",
    "                    'correlation': corr_val\n",
    "                })\n",
    "    \n",
    "    if correlation_pairs:\n",
    "        print(\"\\nStrong correlations (|r| > 0.5):\")\n",
    "        for pair in sorted(correlation_pairs, key=lambda x: abs(x['correlation']), reverse=True):\n",
    "            print(f\"{pair['var1']} ↔ {pair['var2']}: {pair['correlation']:.3f}\")"
   ]
  },
  {
   "cell_type": "code",
   "execution_count": 14,
   "id": "key-insights",
   "metadata": {},
   "outputs": [
    {
     "name": "stdout",
     "output_type": "stream",
     "text": [
      "=== KEY INSIGHTS FROM EDA ===\n",
      "1. 📊 Dataset contains 5,000 users across 13 variables\n",
      "2. 👥 User age ranges from 13 to 60 years (avg: 36.7)\n",
      "3. 🌍 Top 3 countries: Australia, South Korea, UK (1,558 users)\n",
      "4. 📱 Most popular platform: Amazon Music (861 users)\n",
      "5. ⏰ Peak listening time: Night (1,745 users, 34.9%)\n",
      "6. 🎵 Minutes Streamed Per Day: avg 309.2, max 600.0\n",
      "7. 🎼 10 unique genres/categories in Top Genre\n"
     ]
    }
   ],
   "source": [
    "# Key Insights Summary\n",
    "print(\"=== KEY INSIGHTS FROM EDA ===\")\n",
    "\n",
    "insights = []\n",
    "\n",
    "# Dataset size insight\n",
    "insights.append(f\"📊 Dataset contains {df.shape[0]:,} users across {df.shape[1]} variables\")\n",
    "\n",
    "# Age insights\n",
    "if 'Age' in df.columns:\n",
    "    insights.append(f\"👥 User age ranges from {df['Age'].min()} to {df['Age'].max()} years (avg: {df['Age'].mean():.1f})\")\n",
    "\n",
    "# Country-based insights\n",
    "if 'Country' in df.columns:\n",
    "    country_counts = df['Country'].value_counts()\n",
    "    insights.append(f\"🌍 Top 3 countries: {', '.join(country_counts.head(3).index)} ({country_counts.head(3).sum():,} users)\")\n",
    "\n",
    "# Platform insights\n",
    "if 'Streaming Platform' in df.columns:\n",
    "    platform_counts = df['Streaming Platform'].value_counts()\n",
    "    insights.append(f\"📱 Most popular platform: {platform_counts.index[0]} ({platform_counts.iloc[0]:,} users)\")\n",
    "\n",
    "# Listening time insights\n",
    "if 'Listening Time (Morning/Afternoon/Night)' in df.columns:\n",
    "    time_counts = df['Listening Time (Morning/Afternoon/Night)'].value_counts()\n",
    "    insights.append(f\"⏰ Peak listening time: {time_counts.index[0]} ({time_counts.iloc[0]:,} users, {time_counts.iloc[0]/len(df)*100:.1f}%)\")\n",
    "\n",
    "# Streaming patterns - only include numeric columns\n",
    "streaming_cols = [col for col in df.columns if ('stream' in col.lower() or 'minute' in col.lower()) and df[col].dtype in ['int64', 'float64']]\n",
    "if streaming_cols:\n",
    "    for col in streaming_cols[:2]:\n",
    "        insights.append(f\"🎵 {col}: avg {df[col].mean():.1f}, max {df[col].max():.1f}\")\n",
    "\n",
    "# Genre diversity\n",
    "genre_cols = [col for col in df.columns if 'genre' in col.lower()]\n",
    "if genre_cols:\n",
    "    for col in genre_cols[:1]:\n",
    "        if df[col].dtype == 'object':\n",
    "            unique_genres = df[col].nunique()\n",
    "            insights.append(f\"🎼 {unique_genres} unique genres/categories in {col}\")\n",
    "\n",
    "for i, insight in enumerate(insights, 1):\n",
    "    print(f\"{i}. {insight}\")"
   ]
  },
  {
   "cell_type": "markdown",
   "id": "section3-header",
   "metadata": {},
   "source": [
    "## 3. Music Industry Strategy\n",
    "\n",
    "Based on the EDA findings, develop strategic recommendations for the music industry."
   ]
  },
  {
   "cell_type": "code",
   "execution_count": 15,
   "id": "user-segmentation",
   "metadata": {},
   "outputs": [
    {
     "name": "stdout",
     "output_type": "stream",
     "text": [
      "=== USER SEGMENTATION FOR STRATEGY ===\n",
      "User segments by age:\n",
      "                      Age       \n",
      "                    count   mean\n",
      "Age_Segment                     \n",
      "Gen Z (13-25)        1311  19.05\n",
      "Millennials (26-41)  1703  33.50\n",
      "Gen X (42-60)        1986  51.01\n"
     ]
    },
    {
     "data": {
      "image/png": "[encoded data removed]",
      "text/plain": [
       "<Figure size 1000x600 with 1 Axes>"
      ]
     },
     "metadata": {},
     "output_type": "display_data"
    },
    {
     "name": "stdout",
     "output_type": "stream",
     "text": [
      "\n",
      "Streaming intensity based on Minutes Streamed Per Day:\n",
      "Streaming_Intensity\n",
      "Heavy Users      1706\n",
      "Regular Users    1681\n",
      "Light Users      1613\n",
      "Name: count, dtype: int64\n"
     ]
    }
   ],
   "source": [
    "# User Segmentation Analysis\n",
    "print(\"=== USER SEGMENTATION FOR STRATEGY ===\")\n",
    "\n",
    "# Create user segments based on streaming behavior\n",
    "if 'Age' in df.columns:\n",
    "    # Age-based segments\n",
    "    df['Age_Segment'] = pd.cut(df['Age'], \n",
    "                              bins=[0, 25, 41, 60], \n",
    "                              labels=['Gen Z (13-25)', 'Millennials (26-41)', \n",
    "                                     'Gen X (42-60)'])\n",
    "    \n",
    "    segment_summary = df.groupby('Age_Segment').agg({\n",
    "        'Age': ['count', 'mean'],\n",
    "    }).round(2)\n",
    "    \n",
    "    print(\"User segments by age:\")\n",
    "    print(segment_summary)\n",
    "    \n",
    "    # Visualize segments\n",
    "    plt.figure(figsize=(10, 6))\n",
    "    df['Age_Segment'].value_counts().plot(kind='pie', autopct='%1.1f%%')\n",
    "    plt.title('User Distribution by Generation')\n",
    "    plt.ylabel('')\n",
    "    plt.show()\n",
    "\n",
    "# Streaming intensity segments\n",
    "streaming_cols = [col for col in df.columns if ('stream' in col.lower() or 'minute' in col.lower()) and df[col].dtype in ['int64', 'float64']]\n",
    "if streaming_cols:\n",
    "    main_streaming_col = streaming_cols[0]\n",
    "    df['Streaming_Intensity'] = pd.cut(df[main_streaming_col], \n",
    "                                      bins=3, \n",
    "                                      labels=['Light Users', 'Regular Users', 'Heavy Users'])\n",
    "    \n",
    "    print(f\"\\nStreaming intensity based on {main_streaming_col}:\")\n",
    "    print(df['Streaming_Intensity'].value_counts())\n",
    "else:\n",
    "    print(\"\\n❌ No numeric streaming columns found for intensity analysis\")"
   ]
  },
  {
   "cell_type": "code",
   "execution_count": 16,
   "id": "market-opportunities",
   "metadata": {},
   "outputs": [
    {
     "name": "stdout",
     "output_type": "stream",
     "text": [
      "=== MARKET OPPORTUNITIES ===\n",
      "\n",
      "Identified Market Opportunities:\n",
      "\n",
      "1. Expand Gen Z (13-25) user base (High Priority)\n",
      "   Description: Gen Z (13-25) represents the smallest user segment - potential for growth\n",
      "\n",
      "2. Promote underrepresented genres (Medium Priority)\n",
      "   Description: Focus on Country, Classical, Pop to diversify content\n",
      "\n",
      "3. Enhance user engagement features (High Priority)\n",
      "   Description: Develop features to increase user interaction and platform stickiness\n"
     ]
    }
   ],
   "source": [
    "# Market Opportunities Analysis\n",
    "print(\"=== MARKET OPPORTUNITIES ===\")\n",
    "\n",
    "opportunities = []\n",
    "\n",
    "# Analyze underserved segments\n",
    "if 'Age_Segment' in df.columns:\n",
    "    smallest_segment = df['Age_Segment'].value_counts().idxmin()\n",
    "    opportunities.append({\n",
    "        'opportunity': f\"Expand {smallest_segment} user base\",\n",
    "        'description': f\"{smallest_segment} represents the smallest user segment - potential for growth\",\n",
    "        'priority': 'High'\n",
    "    })\n",
    "\n",
    "# Genre diversification opportunities\n",
    "genre_cols = [col for col in df.columns if 'genre' in col.lower()]\n",
    "if genre_cols:\n",
    "    main_genre_col = genre_cols[0]\n",
    "    if df[main_genre_col].dtype == 'object':\n",
    "        genre_distribution = df[main_genre_col].value_counts()\n",
    "        if len(genre_distribution) > 5:\n",
    "            underrepresented_genres = genre_distribution.tail(3)\n",
    "            opportunities.append({\n",
    "                'opportunity': \"Promote underrepresented genres\",\n",
    "                'description': f\"Focus on {', '.join(underrepresented_genres.index)} to diversify content\",\n",
    "                'priority': 'Medium'\n",
    "            })\n",
    "\n",
    "# Engagement optimization\n",
    "engagement_cols = [col for col in df.columns if any(word in col.lower() for word in ['engagement', 'interaction', 'like'])]\n",
    "if engagement_cols:\n",
    "    opportunities.append({\n",
    "        'opportunity': \"Enhance user engagement features\",\n",
    "        'description': \"Develop features to increase user interaction and platform stickiness\",\n",
    "        'priority': 'High'\n",
    "    })\n",
    "\n",
    "print(\"\\nIdentified Market Opportunities:\")\n",
    "for i, opp in enumerate(opportunities, 1):\n",
    "    print(f\"\\n{i}. {opp['opportunity']} ({opp['priority']} Priority)\")\n",
    "    print(f\"   Description: {opp['description']}\")"
   ]
  },
  {
   "cell_type": "code",
   "execution_count": 17,
   "id": "strategic-recommendations",
   "metadata": {},
   "outputs": [
    {
     "name": "stdout",
     "output_type": "stream",
     "text": [
      "=== STRATEGIC RECOMMENDATIONS ===\n",
      "\n",
      "🎯 User Acquisition:\n",
      "  1. Target underrepresented age segments with tailored marketing campaigns\n",
      "  2. Develop age-specific playlists and content curation\n",
      "  3. Partner with platforms popular among target demographics\n",
      "\n",
      "🎵 Content Strategy:\n",
      "  1. Invest in emerging and underrepresented music genres\n",
      "  2. Create genre-specific discovery algorithms\n",
      "  3. Support local and regional artists to diversify catalog\n",
      "\n",
      "📱 User Experience:\n",
      "  1. Develop personalized recommendation systems\n",
      "  2. Implement social features for music sharing\n",
      "  3. Create interactive features like live listening parties\n",
      "\n",
      "💰 Revenue Optimization:\n",
      "  1. Implement tiered subscription models for different user segments\n",
      "  2. Develop premium features for heavy users\n",
      "  3. Create artist partnership programs for exclusive content\n"
     ]
    }
   ],
   "source": [
    "# Strategic Recommendations\n",
    "print(\"=== STRATEGIC RECOMMENDATIONS ===\")\n",
    "\n",
    "recommendations = [\n",
    "    {\n",
    "        'category': '🎯 User Acquisition',\n",
    "        'recommendations': [\n",
    "            'Target underrepresented age segments with tailored marketing campaigns',\n",
    "            'Develop age-specific playlists and content curation',\n",
    "            'Partner with platforms popular among target demographics'\n",
    "        ]\n",
    "    },\n",
    "    {\n",
    "        'category': '🎵 Content Strategy',\n",
    "        'recommendations': [\n",
    "            'Invest in emerging and underrepresented music genres',\n",
    "            'Create genre-specific discovery algorithms',\n",
    "            'Support local and regional artists to diversify catalog'\n",
    "        ]\n",
    "    },\n",
    "    {\n",
    "        'category': '📱 User Experience',\n",
    "        'recommendations': [\n",
    "            'Develop personalized recommendation systems',\n",
    "            'Implement social features for music sharing',\n",
    "            'Create interactive features like live listening parties'\n",
    "        ]\n",
    "    },\n",
    "    {\n",
    "        'category': '💰 Revenue Optimization',\n",
    "        'recommendations': [\n",
    "            'Implement tiered subscription models for different user segments',\n",
    "            'Develop premium features for heavy users',\n",
    "            'Create artist partnership programs for exclusive content'\n",
    "        ]\n",
    "    }\n",
    "]\n",
    "\n",
    "for rec in recommendations:\n",
    "    print(f\"\\n{rec['category']}:\")\n",
    "    for i, item in enumerate(rec['recommendations'], 1):\n",
    "        print(f\"  {i}. {item}\")"
   ]
  },
  {
   "cell_type": "code",
   "execution_count": 18,
   "id": "implementation-roadmap",
   "metadata": {},
   "outputs": [
    {
     "name": "stdout",
     "output_type": "stream",
     "text": [
      "=== IMPLEMENTATION ROADMAP ===\n",
      "\n",
      "Phase 1 (0-3 months): Quick Wins:\n",
      "  1. Implement basic user segmentation\n",
      "  2. Launch targeted marketing campaigns\n",
      "  3. Improve playlist curation algorithms\n",
      "\n",
      "Phase 2 (3-6 months): Core Features:\n",
      "  1. Develop advanced recommendation system\n",
      "  2. Launch social sharing features\n",
      "  3. Implement tiered subscription model\n",
      "\n",
      "Phase 3 (6-12 months): Advanced Strategy:\n",
      "  1. Expand into underserved markets\n",
      "  2. Launch artist partnership program\n",
      "  3. Develop AI-powered content discovery\n"
     ]
    }
   ],
   "source": [
    "# Implementation Roadmap\n",
    "print(\"=== IMPLEMENTATION ROADMAP ===\")\n",
    "\n",
    "roadmap = {\n",
    "    'Phase 1 (0-3 months): Quick Wins': [\n",
    "        'Implement basic user segmentation',\n",
    "        'Launch targeted marketing campaigns',\n",
    "        'Improve playlist curation algorithms'\n",
    "    ],\n",
    "    'Phase 2 (3-6 months): Core Features': [\n",
    "        'Develop advanced recommendation system',\n",
    "        'Launch social sharing features',\n",
    "        'Implement tiered subscription model'\n",
    "    ],\n",
    "    'Phase 3 (6-12 months): Advanced Strategy': [\n",
    "        'Expand into underserved markets',\n",
    "        'Launch artist partnership program',\n",
    "        'Develop AI-powered content discovery'\n",
    "    ]\n",
    "}\n",
    "\n",
    "for phase, tasks in roadmap.items():\n",
    "    print(f\"\\n{phase}:\")\n",
    "    for i, task in enumerate(tasks, 1):\n",
    "        print(f\"  {i}. {task}\")"
   ]
  },
  {
   "cell_type": "code",
   "execution_count": 19,
   "id": "success-metrics",
   "metadata": {},
   "outputs": [
    {
     "name": "stdout",
     "output_type": "stream",
     "text": [
      "=== SUCCESS METRICS & KPIs ===\n",
      "\n",
      "User Growth Metrics:\n",
      "  1. Monthly Active Users (MAU) growth rate\n",
      "  2. User acquisition cost (CAC)\n",
      "  3. User retention rate by segment\n",
      "\n",
      "Engagement Metrics:\n",
      "  1. Average listening time per user\n",
      "  2. Song skip rate\n",
      "  3. Playlist creation and sharing rates\n",
      "\n",
      "Revenue Metrics:\n",
      "  1. Average Revenue Per User (ARPU)\n",
      "  2. Subscription conversion rate\n",
      "  3. Customer Lifetime Value (CLV)\n",
      "\n",
      "Content Metrics:\n",
      "  1. Genre diversity index\n",
      "  2. New artist discovery rate\n",
      "  3. Content satisfaction scores\n"
     ]
    }
   ],
   "source": [
    "# Success Metrics & KPIs\n",
    "print(\"=== SUCCESS METRICS & KPIs ===\")\n",
    "\n",
    "kpis = {\n",
    "    'User Growth Metrics': [\n",
    "        'Monthly Active Users (MAU) growth rate',\n",
    "        'User acquisition cost (CAC)',\n",
    "        'User retention rate by segment'\n",
    "    ],\n",
    "    'Engagement Metrics': [\n",
    "        'Average listening time per user',\n",
    "        'Song skip rate',\n",
    "        'Playlist creation and sharing rates'\n",
    "    ],\n",
    "    'Revenue Metrics': [\n",
    "        'Average Revenue Per User (ARPU)',\n",
    "        'Subscription conversion rate',\n",
    "        'Customer Lifetime Value (CLV)'\n",
    "    ],\n",
    "    'Content Metrics': [\n",
    "        'Genre diversity index',\n",
    "        'New artist discovery rate',\n",
    "        'Content satisfaction scores'\n",
    "    ]\n",
    "}\n",
    "\n",
    "for category, metrics in kpis.items():\n",
    "    print(f\"\\n{category}:\")\n",
    "    for i, metric in enumerate(metrics, 1):\n",
    "        print(f\"  {i}. {metric}\")"
   ]
  },
  {
   "cell_type": "markdown",
   "id": "conclusion",
   "metadata": {},
   "source": [
    "## Conclusion\n",
    "\n",
    "This analysis provides a comprehensive view of music streaming trends from 2018-2024 and offers strategic recommendations for industry growth.\n",
    "\n",
    "### Key Takeaways:\n",
    "1. **Data-Driven Insights**: User behavior patterns reveal opportunities for targeted growth\n",
    "2. **Market Segmentation**: Different user segments require tailored approaches\n",
    "3. **Strategic Focus**: Content diversification and user experience enhancement are critical\n",
    "4. **Implementation Plan**: Phased approach ensures manageable execution\n",
    "\n",
    "### Next Steps:\n",
    "- Validate findings with additional market research\n",
    "- Conduct A/B testing for proposed features\n",
    "- Develop detailed financial projections\n",
    "- Create stakeholder presentation materials"
   ]
  }
 ],
 "metadata": {
  "kernelspec": {
   "display_name": ".venv",
   "language": "python",
   "name": "python3"
  },
  "language_info": {
   "codemirror_mode": {
    "name": "ipython",
    "version": 3
   },
   "file_extension": ".py",
   "mimetype": "text/x-python",
   "name": "python",
   "nbconvert_exporter": "python",
   "pygments_lexer": "ipython3",
   "version": "3.12.2"
  }
 },
 "nbformat": 4,
 "nbformat_minor": 5
}
